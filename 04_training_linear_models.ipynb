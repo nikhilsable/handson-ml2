{
 "cells": [
  {
   "cell_type": "markdown",
   "metadata": {},
   "source": [
    "**Chapter 4 – Training Linear Models**"
   ]
  },
  {
   "cell_type": "markdown",
   "metadata": {},
   "source": [
    "_This notebook contains all the sample code and solutions to the exercises in chapter 4._"
   ]
  },
  {
   "cell_type": "markdown",
   "metadata": {},
   "source": [
    "<table align=\"left\">\n",
    "  <td>\n",
    "    <a target=\"_blank\" href=\"https://colab.research.google.com/github/ageron/handson-ml2/blob/master/04_training_linear_models.ipynb\"><img src=\"https://www.tensorflow.org/images/colab_logo_32px.png\" />Run in Google Colab</a>\n",
    "  </td>\n",
    "</table>"
   ]
  },
  {
   "cell_type": "markdown",
   "metadata": {},
   "source": [
    "# Setup"
   ]
  },
  {
   "cell_type": "markdown",
   "metadata": {},
   "source": [
    "First, let's import a few common modules, ensure MatplotLib plots figures inline and prepare a function to save the figures. We also check that Python 3.5 or later is installed (although Python 2.x may work, it is deprecated so we strongly recommend you use Python 3 instead), as well as Scikit-Learn ≥0.20."
   ]
  },
  {
   "cell_type": "code",
   "execution_count": 1,
   "metadata": {},
   "outputs": [],
   "source": [
    "# Python ≥3.5 is required\n",
    "import sys\n",
    "assert sys.version_info >= (3, 5)\n",
    "\n",
    "# Scikit-Learn ≥0.20 is required\n",
    "import sklearn\n",
    "assert sklearn.__version__ >= \"0.20\"\n",
    "\n",
    "# Common imports\n",
    "import numpy as np\n",
    "import os\n",
    "\n",
    "# to make this notebook's output stable across runs\n",
    "np.random.seed(42)\n",
    "\n",
    "# To plot pretty figures\n",
    "%matplotlib inline\n",
    "import matplotlib as mpl\n",
    "import matplotlib.pyplot as plt\n",
    "mpl.rc('axes', labelsize=14)\n",
    "mpl.rc('xtick', labelsize=12)\n",
    "mpl.rc('ytick', labelsize=12)\n",
    "\n",
    "# Where to save the figures\n",
    "PROJECT_ROOT_DIR = \".\"\n",
    "CHAPTER_ID = \"training_linear_models\"\n",
    "IMAGES_PATH = os.path.join(PROJECT_ROOT_DIR, \"images\", CHAPTER_ID)\n",
    "os.makedirs(IMAGES_PATH, exist_ok=True)\n",
    "\n",
    "def save_fig(fig_id, tight_layout=True, fig_extension=\"png\", resolution=300):\n",
    "    path = os.path.join(IMAGES_PATH, fig_id + \".\" + fig_extension)\n",
    "    print(\"Saving figure\", fig_id)\n",
    "    if tight_layout:\n",
    "        plt.tight_layout()\n",
    "    plt.savefig(path, format=fig_extension, dpi=resolution)\n",
    "\n",
    "# Ignore useless warnings (see SciPy issue #5998)\n",
    "import warnings\n",
    "warnings.filterwarnings(action=\"ignore\", message=\"^internal gelsd\")"
   ]
  },
  {
   "cell_type": "markdown",
   "metadata": {},
   "source": [
    "# Linear regression using the Normal Equation"
   ]
  },
  {
   "cell_type": "code",
   "execution_count": 2,
   "metadata": {},
   "outputs": [],
   "source": [
    "import numpy as np\n",
    "\n",
    "X = 2 * np.random.rand(100, 1)\n",
    "y = 4 + 3 * X + np.random.randn(100, 1)"
   ]
  },
  {
   "cell_type": "code",
   "execution_count": 3,
   "metadata": {},
   "outputs": [
    {
     "output_type": "stream",
     "name": "stdout",
     "text": "Saving figure generated_data_plot\n"
    },
    {
     "output_type": "display_data",
     "data": {
      "text/plain": "<Figure size 432x288 with 1 Axes>",
      "image/svg+xml": "<?xml version=\"1.0\" encoding=\"utf-8\" standalone=\"no\"?>\n<!DOCTYPE svg PUBLIC \"-//W3C//DTD SVG 1.1//EN\"\n  \"http://www.w3.org/Graphics/SVG/1.1/DTD/svg11.dtd\">\n<!-- Created with matplotlib (https://matplotlib.org/) -->\n<svg height=\"278.834375pt\" version=\"1.1\" viewBox=\"0 0 423.610625 278.834375\" width=\"423.610625pt\" xmlns=\"http://www.w3.org/2000/svg\" xmlns:xlink=\"http://www.w3.org/1999/xlink\">\n <defs>\n  <style type=\"text/css\">\n*{stroke-linecap:butt;stroke-linejoin:round;}\n  </style>\n </defs>\n <g id=\"figure_1\">\n  <g id=\"patch_1\">\n   <path d=\"M 0 278.834375 \nL 423.610625 278.834375 \nL 423.610625 0 \nL 0 0 \nz\n\" style=\"fill:none;\"/>\n  </g>\n  <g id=\"axes_1\">\n   <g id=\"patch_2\">\n    <path d=\"M 38.87 231.6 \nL 403.05125 231.6 \nL 403.05125 7.2 \nL 38.87 7.2 \nz\n\" style=\"fill:#ffffff;\"/>\n   </g>\n   <g id=\"matplotlib.axis_1\">\n    <g id=\"xtick_1\">\n     <g id=\"line2d_1\">\n      <defs>\n       <path d=\"M 0 0 \nL 0 3.5 \n\" id=\"m93be700f7b\" style=\"stroke:#000000;stroke-width:0.8;\"/>\n      </defs>\n      <g>\n       <use style=\"stroke:#000000;stroke-width:0.8;\" x=\"38.87\" xlink:href=\"#m93be700f7b\" y=\"231.6\"/>\n      </g>\n     </g>\n     <g id=\"text_1\">\n      <!-- 0.00 -->\n      <defs>\n       <path d=\"M 31.78125 66.40625 \nQ 24.171875 66.40625 20.328125 58.90625 \nQ 16.5 51.421875 16.5 36.375 \nQ 16.5 21.390625 20.328125 13.890625 \nQ 24.171875 6.390625 31.78125 6.390625 \nQ 39.453125 6.390625 43.28125 13.890625 \nQ 47.125 21.390625 47.125 36.375 \nQ 47.125 51.421875 43.28125 58.90625 \nQ 39.453125 66.40625 31.78125 66.40625 \nz\nM 31.78125 74.21875 \nQ 44.046875 74.21875 50.515625 64.515625 \nQ 56.984375 54.828125 56.984375 36.375 \nQ 56.984375 17.96875 50.515625 8.265625 \nQ 44.046875 -1.421875 31.78125 -1.421875 \nQ 19.53125 -1.421875 13.0625 8.265625 \nQ 6.59375 17.96875 6.59375 36.375 \nQ 6.59375 54.828125 13.0625 64.515625 \nQ 19.53125 74.21875 31.78125 74.21875 \nz\n\" id=\"DejaVuSans-48\"/>\n       <path d=\"M 10.6875 12.40625 \nL 21 12.40625 \nL 21 0 \nL 10.6875 0 \nz\n\" id=\"DejaVuSans-46\"/>\n      </defs>\n      <g transform=\"translate(25.510625 247.718125)scale(0.12 -0.12)\">\n       <use xlink:href=\"#DejaVuSans-48\"/>\n       <use x=\"63.623047\" xlink:href=\"#DejaVuSans-46\"/>\n       <use x=\"95.410156\" xlink:href=\"#DejaVuSans-48\"/>\n       <use x=\"159.033203\" xlink:href=\"#DejaVuSans-48\"/>\n      </g>\n     </g>\n    </g>\n    <g id=\"xtick_2\">\n     <g id=\"line2d_2\">\n      <g>\n       <use style=\"stroke:#000000;stroke-width:0.8;\" x=\"84.392656\" xlink:href=\"#m93be700f7b\" y=\"231.6\"/>\n      </g>\n     </g>\n     <g id=\"text_2\">\n      <!-- 0.25 -->\n      <defs>\n       <path d=\"M 19.1875 8.296875 \nL 53.609375 8.296875 \nL 53.609375 0 \nL 7.328125 0 \nL 7.328125 8.296875 \nQ 12.9375 14.109375 22.625 23.890625 \nQ 32.328125 33.6875 34.8125 36.53125 \nQ 39.546875 41.84375 41.421875 45.53125 \nQ 43.3125 49.21875 43.3125 52.78125 \nQ 43.3125 58.59375 39.234375 62.25 \nQ 35.15625 65.921875 28.609375 65.921875 \nQ 23.96875 65.921875 18.8125 64.3125 \nQ 13.671875 62.703125 7.8125 59.421875 \nL 7.8125 69.390625 \nQ 13.765625 71.78125 18.9375 73 \nQ 24.125 74.21875 28.421875 74.21875 \nQ 39.75 74.21875 46.484375 68.546875 \nQ 53.21875 62.890625 53.21875 53.421875 \nQ 53.21875 48.921875 51.53125 44.890625 \nQ 49.859375 40.875 45.40625 35.40625 \nQ 44.1875 33.984375 37.640625 27.21875 \nQ 31.109375 20.453125 19.1875 8.296875 \nz\n\" id=\"DejaVuSans-50\"/>\n       <path d=\"M 10.796875 72.90625 \nL 49.515625 72.90625 \nL 49.515625 64.59375 \nL 19.828125 64.59375 \nL 19.828125 46.734375 \nQ 21.96875 47.46875 24.109375 47.828125 \nQ 26.265625 48.1875 28.421875 48.1875 \nQ 40.625 48.1875 47.75 41.5 \nQ 54.890625 34.8125 54.890625 23.390625 \nQ 54.890625 11.625 47.5625 5.09375 \nQ 40.234375 -1.421875 26.90625 -1.421875 \nQ 22.3125 -1.421875 17.546875 -0.640625 \nQ 12.796875 0.140625 7.71875 1.703125 \nL 7.71875 11.625 \nQ 12.109375 9.234375 16.796875 8.0625 \nQ 21.484375 6.890625 26.703125 6.890625 \nQ 35.15625 6.890625 40.078125 11.328125 \nQ 45.015625 15.765625 45.015625 23.390625 \nQ 45.015625 31 40.078125 35.4375 \nQ 35.15625 39.890625 26.703125 39.890625 \nQ 22.75 39.890625 18.8125 39.015625 \nQ 14.890625 38.140625 10.796875 36.28125 \nz\n\" id=\"DejaVuSans-53\"/>\n      </defs>\n      <g transform=\"translate(71.033281 247.718125)scale(0.12 -0.12)\">\n       <use xlink:href=\"#DejaVuSans-48\"/>\n       <use x=\"63.623047\" xlink:href=\"#DejaVuSans-46\"/>\n       <use x=\"95.410156\" xlink:href=\"#DejaVuSans-50\"/>\n       <use x=\"159.033203\" xlink:href=\"#DejaVuSans-53\"/>\n      </g>\n     </g>\n    </g>\n    <g id=\"xtick_3\">\n     <g id=\"line2d_3\">\n      <g>\n       <use style=\"stroke:#000000;stroke-width:0.8;\" x=\"129.915312\" xlink:href=\"#m93be700f7b\" y=\"231.6\"/>\n      </g>\n     </g>\n     <g id=\"text_3\">\n      <!-- 0.50 -->\n      <g transform=\"translate(116.555937 247.718125)scale(0.12 -0.12)\">\n       <use xlink:href=\"#DejaVuSans-48\"/>\n       <use x=\"63.623047\" xlink:href=\"#DejaVuSans-46\"/>\n       <use x=\"95.410156\" xlink:href=\"#DejaVuSans-53\"/>\n       <use x=\"159.033203\" xlink:href=\"#DejaVuSans-48\"/>\n      </g>\n     </g>\n    </g>\n    <g id=\"xtick_4\">\n     <g id=\"line2d_4\">\n      <g>\n       <use style=\"stroke:#000000;stroke-width:0.8;\" x=\"175.437969\" xlink:href=\"#m93be700f7b\" y=\"231.6\"/>\n      </g>\n     </g>\n     <g id=\"text_4\">\n      <!-- 0.75 -->\n      <defs>\n       <path d=\"M 8.203125 72.90625 \nL 55.078125 72.90625 \nL 55.078125 68.703125 \nL 28.609375 0 \nL 18.3125 0 \nL 43.21875 64.59375 \nL 8.203125 64.59375 \nz\n\" id=\"DejaVuSans-55\"/>\n      </defs>\n      <g transform=\"translate(162.078594 247.718125)scale(0.12 -0.12)\">\n       <use xlink:href=\"#DejaVuSans-48\"/>\n       <use x=\"63.623047\" xlink:href=\"#DejaVuSans-46\"/>\n       <use x=\"95.410156\" xlink:href=\"#DejaVuSans-55\"/>\n       <use x=\"159.033203\" xlink:href=\"#DejaVuSans-53\"/>\n      </g>\n     </g>\n    </g>\n    <g id=\"xtick_5\">\n     <g id=\"line2d_5\">\n      <g>\n       <use style=\"stroke:#000000;stroke-width:0.8;\" x=\"220.960625\" xlink:href=\"#m93be700f7b\" y=\"231.6\"/>\n      </g>\n     </g>\n     <g id=\"text_5\">\n      <!-- 1.00 -->\n      <defs>\n       <path d=\"M 12.40625 8.296875 \nL 28.515625 8.296875 \nL 28.515625 63.921875 \nL 10.984375 60.40625 \nL 10.984375 69.390625 \nL 28.421875 72.90625 \nL 38.28125 72.90625 \nL 38.28125 8.296875 \nL 54.390625 8.296875 \nL 54.390625 0 \nL 12.40625 0 \nz\n\" id=\"DejaVuSans-49\"/>\n      </defs>\n      <g transform=\"translate(207.60125 247.718125)scale(0.12 -0.12)\">\n       <use xlink:href=\"#DejaVuSans-49\"/>\n       <use x=\"63.623047\" xlink:href=\"#DejaVuSans-46\"/>\n       <use x=\"95.410156\" xlink:href=\"#DejaVuSans-48\"/>\n       <use x=\"159.033203\" xlink:href=\"#DejaVuSans-48\"/>\n      </g>\n     </g>\n    </g>\n    <g id=\"xtick_6\">\n     <g id=\"line2d_6\">\n      <g>\n       <use style=\"stroke:#000000;stroke-width:0.8;\" x=\"266.483281\" xlink:href=\"#m93be700f7b\" y=\"231.6\"/>\n      </g>\n     </g>\n     <g id=\"text_6\">\n      <!-- 1.25 -->\n      <g transform=\"translate(253.123906 247.718125)scale(0.12 -0.12)\">\n       <use xlink:href=\"#DejaVuSans-49\"/>\n       <use x=\"63.623047\" xlink:href=\"#DejaVuSans-46\"/>\n       <use x=\"95.410156\" xlink:href=\"#DejaVuSans-50\"/>\n       <use x=\"159.033203\" xlink:href=\"#DejaVuSans-53\"/>\n      </g>\n     </g>\n    </g>\n    <g id=\"xtick_7\">\n     <g id=\"line2d_7\">\n      <g>\n       <use style=\"stroke:#000000;stroke-width:0.8;\" x=\"312.005937\" xlink:href=\"#m93be700f7b\" y=\"231.6\"/>\n      </g>\n     </g>\n     <g id=\"text_7\">\n      <!-- 1.50 -->\n      <g transform=\"translate(298.646562 247.718125)scale(0.12 -0.12)\">\n       <use xlink:href=\"#DejaVuSans-49\"/>\n       <use x=\"63.623047\" xlink:href=\"#DejaVuSans-46\"/>\n       <use x=\"95.410156\" xlink:href=\"#DejaVuSans-53\"/>\n       <use x=\"159.033203\" xlink:href=\"#DejaVuSans-48\"/>\n      </g>\n     </g>\n    </g>\n    <g id=\"xtick_8\">\n     <g id=\"line2d_8\">\n      <g>\n       <use style=\"stroke:#000000;stroke-width:0.8;\" x=\"357.528594\" xlink:href=\"#m93be700f7b\" y=\"231.6\"/>\n      </g>\n     </g>\n     <g id=\"text_8\">\n      <!-- 1.75 -->\n      <g transform=\"translate(344.169219 247.718125)scale(0.12 -0.12)\">\n       <use xlink:href=\"#DejaVuSans-49\"/>\n       <use x=\"63.623047\" xlink:href=\"#DejaVuSans-46\"/>\n       <use x=\"95.410156\" xlink:href=\"#DejaVuSans-55\"/>\n       <use x=\"159.033203\" xlink:href=\"#DejaVuSans-53\"/>\n      </g>\n     </g>\n    </g>\n    <g id=\"xtick_9\">\n     <g id=\"line2d_9\">\n      <g>\n       <use style=\"stroke:#000000;stroke-width:0.8;\" x=\"403.05125\" xlink:href=\"#m93be700f7b\" y=\"231.6\"/>\n      </g>\n     </g>\n     <g id=\"text_9\">\n      <!-- 2.00 -->\n      <g transform=\"translate(389.691875 247.718125)scale(0.12 -0.12)\">\n       <use xlink:href=\"#DejaVuSans-50\"/>\n       <use x=\"63.623047\" xlink:href=\"#DejaVuSans-46\"/>\n       <use x=\"95.410156\" xlink:href=\"#DejaVuSans-48\"/>\n       <use x=\"159.033203\" xlink:href=\"#DejaVuSans-48\"/>\n      </g>\n     </g>\n    </g>\n    <g id=\"text_10\">\n     <!-- $x_1$ -->\n     <defs>\n      <path d=\"M 60.015625 54.6875 \nL 34.90625 27.875 \nL 50.296875 0 \nL 39.984375 0 \nL 28.421875 21.6875 \nL 8.296875 0 \nL -2.59375 0 \nL 24.3125 28.8125 \nL 10.015625 54.6875 \nL 20.3125 54.6875 \nL 30.8125 34.90625 \nL 49.125 54.6875 \nz\n\" id=\"DejaVuSans-Oblique-120\"/>\n     </defs>\n     <g transform=\"translate(211.330625 267.890937)scale(0.18 -0.18)\">\n      <use transform=\"translate(0 0.3125)\" xlink:href=\"#DejaVuSans-Oblique-120\"/>\n      <use transform=\"translate(59.179688 -16.09375)scale(0.7)\" xlink:href=\"#DejaVuSans-49\"/>\n     </g>\n    </g>\n   </g>\n   <g id=\"matplotlib.axis_2\">\n    <g id=\"ytick_1\">\n     <g id=\"line2d_10\">\n      <defs>\n       <path d=\"M 0 0 \nL -3.5 0 \n\" id=\"mc1ae65dfc8\" style=\"stroke:#000000;stroke-width:0.8;\"/>\n      </defs>\n      <g>\n       <use style=\"stroke:#000000;stroke-width:0.8;\" x=\"38.87\" xlink:href=\"#mc1ae65dfc8\" y=\"231.6\"/>\n      </g>\n     </g>\n     <g id=\"text_11\">\n      <!-- 0 -->\n      <g transform=\"translate(24.235 236.159062)scale(0.12 -0.12)\">\n       <use xlink:href=\"#DejaVuSans-48\"/>\n      </g>\n     </g>\n    </g>\n    <g id=\"ytick_2\">\n     <g id=\"line2d_11\">\n      <g>\n       <use style=\"stroke:#000000;stroke-width:0.8;\" x=\"38.87\" xlink:href=\"#mc1ae65dfc8\" y=\"201.68\"/>\n      </g>\n     </g>\n     <g id=\"text_12\">\n      <!-- 2 -->\n      <g transform=\"translate(24.235 206.239062)scale(0.12 -0.12)\">\n       <use xlink:href=\"#DejaVuSans-50\"/>\n      </g>\n     </g>\n    </g>\n    <g id=\"ytick_3\">\n     <g id=\"line2d_12\">\n      <g>\n       <use style=\"stroke:#000000;stroke-width:0.8;\" x=\"38.87\" xlink:href=\"#mc1ae65dfc8\" y=\"171.76\"/>\n      </g>\n     </g>\n     <g id=\"text_13\">\n      <!-- 4 -->\n      <defs>\n       <path d=\"M 37.796875 64.3125 \nL 12.890625 25.390625 \nL 37.796875 25.390625 \nz\nM 35.203125 72.90625 \nL 47.609375 72.90625 \nL 47.609375 25.390625 \nL 58.015625 25.390625 \nL 58.015625 17.1875 \nL 47.609375 17.1875 \nL 47.609375 0 \nL 37.796875 0 \nL 37.796875 17.1875 \nL 4.890625 17.1875 \nL 4.890625 26.703125 \nz\n\" id=\"DejaVuSans-52\"/>\n      </defs>\n      <g transform=\"translate(24.235 176.319062)scale(0.12 -0.12)\">\n       <use xlink:href=\"#DejaVuSans-52\"/>\n      </g>\n     </g>\n    </g>\n    <g id=\"ytick_4\">\n     <g id=\"line2d_13\">\n      <g>\n       <use style=\"stroke:#000000;stroke-width:0.8;\" x=\"38.87\" xlink:href=\"#mc1ae65dfc8\" y=\"141.84\"/>\n      </g>\n     </g>\n     <g id=\"text_14\">\n      <!-- 6 -->\n      <defs>\n       <path d=\"M 33.015625 40.375 \nQ 26.375 40.375 22.484375 35.828125 \nQ 18.609375 31.296875 18.609375 23.390625 \nQ 18.609375 15.53125 22.484375 10.953125 \nQ 26.375 6.390625 33.015625 6.390625 \nQ 39.65625 6.390625 43.53125 10.953125 \nQ 47.40625 15.53125 47.40625 23.390625 \nQ 47.40625 31.296875 43.53125 35.828125 \nQ 39.65625 40.375 33.015625 40.375 \nz\nM 52.59375 71.296875 \nL 52.59375 62.3125 \nQ 48.875 64.0625 45.09375 64.984375 \nQ 41.3125 65.921875 37.59375 65.921875 \nQ 27.828125 65.921875 22.671875 59.328125 \nQ 17.53125 52.734375 16.796875 39.40625 \nQ 19.671875 43.65625 24.015625 45.921875 \nQ 28.375 48.1875 33.59375 48.1875 \nQ 44.578125 48.1875 50.953125 41.515625 \nQ 57.328125 34.859375 57.328125 23.390625 \nQ 57.328125 12.15625 50.6875 5.359375 \nQ 44.046875 -1.421875 33.015625 -1.421875 \nQ 20.359375 -1.421875 13.671875 8.265625 \nQ 6.984375 17.96875 6.984375 36.375 \nQ 6.984375 53.65625 15.1875 63.9375 \nQ 23.390625 74.21875 37.203125 74.21875 \nQ 40.921875 74.21875 44.703125 73.484375 \nQ 48.484375 72.75 52.59375 71.296875 \nz\n\" id=\"DejaVuSans-54\"/>\n      </defs>\n      <g transform=\"translate(24.235 146.399062)scale(0.12 -0.12)\">\n       <use xlink:href=\"#DejaVuSans-54\"/>\n      </g>\n     </g>\n    </g>\n    <g id=\"ytick_5\">\n     <g id=\"line2d_14\">\n      <g>\n       <use style=\"stroke:#000000;stroke-width:0.8;\" x=\"38.87\" xlink:href=\"#mc1ae65dfc8\" y=\"111.92\"/>\n      </g>\n     </g>\n     <g id=\"text_15\">\n      <!-- 8 -->\n      <defs>\n       <path d=\"M 31.78125 34.625 \nQ 24.75 34.625 20.71875 30.859375 \nQ 16.703125 27.09375 16.703125 20.515625 \nQ 16.703125 13.921875 20.71875 10.15625 \nQ 24.75 6.390625 31.78125 6.390625 \nQ 38.8125 6.390625 42.859375 10.171875 \nQ 46.921875 13.96875 46.921875 20.515625 \nQ 46.921875 27.09375 42.890625 30.859375 \nQ 38.875 34.625 31.78125 34.625 \nz\nM 21.921875 38.8125 \nQ 15.578125 40.375 12.03125 44.71875 \nQ 8.5 49.078125 8.5 55.328125 \nQ 8.5 64.0625 14.71875 69.140625 \nQ 20.953125 74.21875 31.78125 74.21875 \nQ 42.671875 74.21875 48.875 69.140625 \nQ 55.078125 64.0625 55.078125 55.328125 \nQ 55.078125 49.078125 51.53125 44.71875 \nQ 48 40.375 41.703125 38.8125 \nQ 48.828125 37.15625 52.796875 32.3125 \nQ 56.78125 27.484375 56.78125 20.515625 \nQ 56.78125 9.90625 50.3125 4.234375 \nQ 43.84375 -1.421875 31.78125 -1.421875 \nQ 19.734375 -1.421875 13.25 4.234375 \nQ 6.78125 9.90625 6.78125 20.515625 \nQ 6.78125 27.484375 10.78125 32.3125 \nQ 14.796875 37.15625 21.921875 38.8125 \nz\nM 18.3125 54.390625 \nQ 18.3125 48.734375 21.84375 45.5625 \nQ 25.390625 42.390625 31.78125 42.390625 \nQ 38.140625 42.390625 41.71875 45.5625 \nQ 45.3125 48.734375 45.3125 54.390625 \nQ 45.3125 60.0625 41.71875 63.234375 \nQ 38.140625 66.40625 31.78125 66.40625 \nQ 25.390625 66.40625 21.84375 63.234375 \nQ 18.3125 60.0625 18.3125 54.390625 \nz\n\" id=\"DejaVuSans-56\"/>\n      </defs>\n      <g transform=\"translate(24.235 116.479062)scale(0.12 -0.12)\">\n       <use xlink:href=\"#DejaVuSans-56\"/>\n      </g>\n     </g>\n    </g>\n    <g id=\"ytick_6\">\n     <g id=\"line2d_15\">\n      <g>\n       <use style=\"stroke:#000000;stroke-width:0.8;\" x=\"38.87\" xlink:href=\"#mc1ae65dfc8\" y=\"82\"/>\n      </g>\n     </g>\n     <g id=\"text_16\">\n      <!-- 10 -->\n      <g transform=\"translate(16.6 86.559062)scale(0.12 -0.12)\">\n       <use xlink:href=\"#DejaVuSans-49\"/>\n       <use x=\"63.623047\" xlink:href=\"#DejaVuSans-48\"/>\n      </g>\n     </g>\n    </g>\n    <g id=\"ytick_7\">\n     <g id=\"line2d_16\">\n      <g>\n       <use style=\"stroke:#000000;stroke-width:0.8;\" x=\"38.87\" xlink:href=\"#mc1ae65dfc8\" y=\"52.08\"/>\n      </g>\n     </g>\n     <g id=\"text_17\">\n      <!-- 12 -->\n      <g transform=\"translate(16.6 56.639062)scale(0.12 -0.12)\">\n       <use xlink:href=\"#DejaVuSans-49\"/>\n       <use x=\"63.623047\" xlink:href=\"#DejaVuSans-50\"/>\n      </g>\n     </g>\n    </g>\n    <g id=\"ytick_8\">\n     <g id=\"line2d_17\">\n      <g>\n       <use style=\"stroke:#000000;stroke-width:0.8;\" x=\"38.87\" xlink:href=\"#mc1ae65dfc8\" y=\"22.16\"/>\n      </g>\n     </g>\n     <g id=\"text_18\">\n      <!-- 14 -->\n      <g transform=\"translate(16.6 26.719062)scale(0.12 -0.12)\">\n       <use xlink:href=\"#DejaVuSans-49\"/>\n       <use x=\"63.623047\" xlink:href=\"#DejaVuSans-52\"/>\n      </g>\n     </g>\n    </g>\n    <g id=\"text_19\">\n     <!-- $y$ -->\n     <defs>\n      <path d=\"M 24.8125 -5.078125 \nQ 18.5625 -15.578125 14.625 -18.1875 \nQ 10.6875 -20.796875 4.59375 -20.796875 \nL -2.484375 -20.796875 \nL -0.984375 -13.28125 \nL 4.203125 -13.28125 \nQ 7.953125 -13.28125 10.59375 -11.234375 \nQ 13.234375 -9.1875 16.5 -3.21875 \nL 19.28125 2 \nL 7.171875 54.6875 \nL 16.703125 54.6875 \nL 25.78125 12.796875 \nL 50.875 54.6875 \nL 60.296875 54.6875 \nz\n\" id=\"DejaVuSans-Oblique-121\"/>\n     </defs>\n     <g transform=\"translate(7.2 115.62)scale(0.18 -0.18)\">\n      <use transform=\"translate(0 0.3125)\" xlink:href=\"#DejaVuSans-Oblique-121\"/>\n     </g>\n    </g>\n   </g>\n   <g id=\"line2d_18\">\n    <defs>\n     <path d=\"M 0 1.5 \nC 0.397805 1.5 0.77937 1.341951 1.06066 1.06066 \nC 1.341951 0.77937 1.5 0.397805 1.5 0 \nC 1.5 -0.397805 1.341951 -0.77937 1.06066 -1.06066 \nC 0.77937 -1.341951 0.397805 -1.5 0 -1.5 \nC -0.397805 -1.5 -0.77937 -1.341951 -1.06066 -1.06066 \nC -1.341951 -0.77937 -1.5 -0.397805 -1.5 0 \nC -1.5 0.397805 -1.341951 0.77937 -1.06066 1.06066 \nC -0.77937 1.341951 -0.397805 1.5 0 1.5 \nz\n\" id=\"m5257e66e9f\" style=\"stroke:#0000ff;\"/>\n    </defs>\n    <g clip-path=\"url(#p920d20068d)\">\n     <use style=\"fill:#0000ff;stroke:#0000ff;\" x=\"175.270489\" xlink:href=\"#m5257e66e9f\" y=\"136.839055\"/>\n     <use style=\"fill:#0000ff;stroke:#0000ff;\" x=\"385.102325\" xlink:href=\"#m5257e66e9f\" y=\"90.897034\"/>\n     <use style=\"fill:#0000ff;stroke:#0000ff;\" x=\"305.448469\" xlink:href=\"#m5257e66e9f\" y=\"104.683483\"/>\n     <use style=\"fill:#0000ff;stroke:#0000ff;\" x=\"256.890195\" xlink:href=\"#m5257e66e9f\" y=\"147.758445\"/>\n     <use style=\"fill:#0000ff;stroke:#0000ff;\" x=\"95.689063\" xlink:href=\"#m5257e66e9f\" y=\"161.042058\"/>\n     <use style=\"fill:#0000ff;stroke:#0000ff;\" x=\"95.680279\" xlink:href=\"#m5257e66e9f\" y=\"152.415528\"/>\n     <use style=\"fill:#0000ff;stroke:#0000ff;\" x=\"60.022962\" xlink:href=\"#m5257e66e9f\" y=\"144.43712\"/>\n     <use style=\"fill:#0000ff;stroke:#0000ff;\" x=\"354.315111\" xlink:href=\"#m5257e66e9f\" y=\"101.765352\"/>\n     <use style=\"fill:#0000ff;stroke:#0000ff;\" x=\"257.784816\" xlink:href=\"#m5257e66e9f\" y=\"129.898981\"/>\n     <use style=\"fill:#0000ff;stroke:#0000ff;\" x=\"296.736756\" xlink:href=\"#m5257e66e9f\" y=\"115.709691\"/>\n     <use style=\"fill:#0000ff;stroke:#0000ff;\" x=\"46.366487\" xlink:href=\"#m5257e66e9f\" y=\"156.21792\"/>\n     <use style=\"fill:#0000ff;stroke:#0000ff;\" x=\"392.092982\" xlink:href=\"#m5257e66e9f\" y=\"79.782775\"/>\n     <use style=\"fill:#0000ff;stroke:#0000ff;\" x=\"342.030001\" xlink:href=\"#m5257e66e9f\" y=\"104.965161\"/>\n     <use style=\"fill:#0000ff;stroke:#0000ff;\" x=\"116.199923\" xlink:href=\"#m5257e66e9f\" y=\"145.021961\"/>\n     <use style=\"fill:#0000ff;stroke:#0000ff;\" x=\"105.087244\" xlink:href=\"#m5257e66e9f\" y=\"153.987111\"/>\n     <use style=\"fill:#0000ff;stroke:#0000ff;\" x=\"105.662484\" xlink:href=\"#m5257e66e9f\" y=\"140.806682\"/>\n     <use style=\"fill:#0000ff;stroke:#0000ff;\" x=\"149.66932\" xlink:href=\"#m5257e66e9f\" y=\"154.953931\"/>\n     <use style=\"fill:#0000ff;stroke:#0000ff;\" x=\"229.976453\" xlink:href=\"#m5257e66e9f\" y=\"129.559688\"/>\n     <use style=\"fill:#0000ff;stroke:#0000ff;\" x=\"196.176277\" xlink:href=\"#m5257e66e9f\" y=\"138.854553\"/>\n     <use style=\"fill:#0000ff;stroke:#0000ff;\" x=\"144.930192\" xlink:href=\"#m5257e66e9f\" y=\"167.513456\"/>\n     <use style=\"fill:#0000ff;stroke:#0000ff;\" x=\"261.695352\" xlink:href=\"#m5257e66e9f\" y=\"112.410125\"/>\n     <use style=\"fill:#0000ff;stroke:#0000ff;\" x=\"89.671049\" xlink:href=\"#m5257e66e9f\" y=\"155.333644\"/>\n     <use style=\"fill:#0000ff;stroke:#0000ff;\" x=\"145.263603\" xlink:href=\"#m5257e66e9f\" y=\"145.460599\"/>\n     <use style=\"fill:#0000ff;stroke:#0000ff;\" x=\"172.292114\" xlink:href=\"#m5257e66e9f\" y=\"142.384784\"/>\n     <use style=\"fill:#0000ff;stroke:#0000ff;\" x=\"204.962137\" xlink:href=\"#m5257e66e9f\" y=\"151.997105\"/>\n     <use style=\"fill:#0000ff;stroke:#0000ff;\" x=\"324.816363\" xlink:href=\"#m5257e66e9f\" y=\"107.57546\"/>\n     <use style=\"fill:#0000ff;stroke:#0000ff;\" x=\"111.587448\" xlink:href=\"#m5257e66e9f\" y=\"158.96429\"/>\n     <use style=\"fill:#0000ff;stroke:#0000ff;\" x=\"226.144541\" xlink:href=\"#m5257e66e9f\" y=\"137.604385\"/>\n     <use style=\"fill:#0000ff;stroke:#0000ff;\" x=\"254.616278\" xlink:href=\"#m5257e66e9f\" y=\"120.997703\"/>\n     <use style=\"fill:#0000ff;stroke:#0000ff;\" x=\"55.786369\" xlink:href=\"#m5257e66e9f\" y=\"161.54601\"/>\n     <use style=\"fill:#0000ff;stroke:#0000ff;\" x=\"260.126444\" xlink:href=\"#m5257e66e9f\" y=\"89.009433\"/>\n     <use style=\"fill:#0000ff;stroke:#0000ff;\" x=\"100.971689\" xlink:href=\"#m5257e66e9f\" y=\"153.842071\"/>\n     <use style=\"fill:#0000ff;stroke:#0000ff;\" x=\"62.56057\" xlink:href=\"#m5257e66e9f\" y=\"162.068015\"/>\n     <use style=\"fill:#0000ff;stroke:#0000ff;\" x=\"384.436321\" xlink:href=\"#m5257e66e9f\" y=\"87.701745\"/>\n     <use style=\"fill:#0000ff;stroke:#0000ff;\" x=\"390.535081\" xlink:href=\"#m5257e66e9f\" y=\"113.789686\"/>\n     <use style=\"fill:#0000ff;stroke:#0000ff;\" x=\"333.273157\" xlink:href=\"#m5257e66e9f\" y=\"99.594902\"/>\n     <use style=\"fill:#0000ff;stroke:#0000ff;\" x=\"149.804623\" xlink:href=\"#m5257e66e9f\" y=\"143.516824\"/>\n     <use style=\"fill:#0000ff;stroke:#0000ff;\" x=\"74.440353\" xlink:href=\"#m5257e66e9f\" y=\"126.142849\"/>\n     <use style=\"fill:#0000ff;stroke:#0000ff;\" x=\"288.054839\" xlink:href=\"#m5257e66e9f\" y=\"113.220964\"/>\n     <use style=\"fill:#0000ff;stroke:#0000ff;\" x=\"199.165285\" xlink:href=\"#m5257e66e9f\" y=\"127.740764\"/>\n     <use style=\"fill:#0000ff;stroke:#0000ff;\" x=\"83.314037\" xlink:href=\"#m5257e66e9f\" y=\"161.325136\"/>\n     <use style=\"fill:#0000ff;stroke:#0000ff;\" x=\"219.204146\" xlink:href=\"#m5257e66e9f\" y=\"144.796344\"/>\n     <use style=\"fill:#0000ff;stroke:#0000ff;\" x=\"51.393655\" xlink:href=\"#m5257e66e9f\" y=\"151.576657\"/>\n     <use style=\"fill:#0000ff;stroke:#0000ff;\" x=\"370.027441\" xlink:href=\"#m5257e66e9f\" y=\"78.890483\"/>\n     <use style=\"fill:#0000ff;stroke:#0000ff;\" x=\"133.112817\" xlink:href=\"#m5257e66e9f\" y=\"136.698071\"/>\n     <use style=\"fill:#0000ff;stroke:#0000ff;\" x=\"280.148194\" xlink:href=\"#m5257e66e9f\" y=\"125.896436\"/>\n     <use style=\"fill:#0000ff;stroke:#0000ff;\" x=\"152.389329\" xlink:href=\"#m5257e66e9f\" y=\"122.795011\"/>\n     <use style=\"fill:#0000ff;stroke:#0000ff;\" x=\"228.269022\" xlink:href=\"#m5257e66e9f\" y=\"146.050386\"/>\n     <use style=\"fill:#0000ff;stroke:#0000ff;\" x=\"237.971633\" xlink:href=\"#m5257e66e9f\" y=\"113.907903\"/>\n     <use style=\"fill:#0000ff;stroke:#0000ff;\" x=\"106.190527\" xlink:href=\"#m5257e66e9f\" y=\"122.398248\"/>\n     <use style=\"fill:#0000ff;stroke:#0000ff;\" x=\"391.974542\" xlink:href=\"#m5257e66e9f\" y=\"99.548507\"/>\n     <use style=\"fill:#0000ff;stroke:#0000ff;\" x=\"321.158841\" xlink:href=\"#m5257e66e9f\" y=\"110.655892\"/>\n     <use style=\"fill:#0000ff;stroke:#0000ff;\" x=\"381.017899\" xlink:href=\"#m5257e66e9f\" y=\"85.939791\"/>\n     <use style=\"fill:#0000ff;stroke:#0000ff;\" x=\"364.749343\" xlink:href=\"#m5257e66e9f\" y=\"98.972293\"/>\n     <use style=\"fill:#0000ff;stroke:#0000ff;\" x=\"256.613962\" xlink:href=\"#m5257e66e9f\" y=\"141.290423\"/>\n     <use style=\"fill:#0000ff;stroke:#0000ff;\" x=\"374.599311\" xlink:href=\"#m5257e66e9f\" y=\"87.986867\"/>\n     <use style=\"fill:#0000ff;stroke:#0000ff;\" x=\"71.09731\" xlink:href=\"#m5257e66e9f\" y=\"179.708977\"/>\n     <use style=\"fill:#0000ff;stroke:#0000ff;\" x=\"110.243284\" xlink:href=\"#m5257e66e9f\" y=\"147.083636\"/>\n     <use style=\"fill:#0000ff;stroke:#0000ff;\" x=\"55.340931\" xlink:href=\"#m5257e66e9f\" y=\"181.454985\"/>\n     <use style=\"fill:#0000ff;stroke:#0000ff;\" x=\"157.349207\" xlink:href=\"#m5257e66e9f\" y=\"119.371331\"/>\n     <use style=\"fill:#0000ff;stroke:#0000ff;\" x=\"180.418981\" xlink:href=\"#m5257e66e9f\" y=\"148.589796\"/>\n     <use style=\"fill:#0000ff;stroke:#0000ff;\" x=\"137.69023\" xlink:href=\"#m5257e66e9f\" y=\"152.221751\"/>\n     <use style=\"fill:#0000ff;stroke:#0000ff;\" x=\"340.680662\" xlink:href=\"#m5257e66e9f\" y=\"85.202304\"/>\n     <use style=\"fill:#0000ff;stroke:#0000ff;\" x=\"168.792872\" xlink:href=\"#m5257e66e9f\" y=\"158.151552\"/>\n     <use style=\"fill:#0000ff;stroke:#0000ff;\" x=\"141.181081\" xlink:href=\"#m5257e66e9f\" y=\"143.140518\"/>\n     <use style=\"fill:#0000ff;stroke:#0000ff;\" x=\"236.509738\" xlink:href=\"#m5257e66e9f\" y=\"103.492744\"/>\n     <use style=\"fill:#0000ff;stroke:#0000ff;\" x=\"90.19196\" xlink:href=\"#m5257e66e9f\" y=\"183.158591\"/>\n     <use style=\"fill:#0000ff;stroke:#0000ff;\" x=\"331.015099\" xlink:href=\"#m5257e66e9f\" y=\"96.992676\"/>\n     <use style=\"fill:#0000ff;stroke:#0000ff;\" x=\"66.019947\" xlink:href=\"#m5257e66e9f\" y=\"161.180488\"/>\n     <use style=\"fill:#0000ff;stroke:#0000ff;\" x=\"398.275718\" xlink:href=\"#m5257e66e9f\" y=\"71.480958\"/>\n     <use style=\"fill:#0000ff;stroke:#0000ff;\" x=\"320.107065\" xlink:href=\"#m5257e66e9f\" y=\"120.948092\"/>\n     <use style=\"fill:#0000ff;stroke:#0000ff;\" x=\"111.238525\" xlink:href=\"#m5257e66e9f\" y=\"173.677311\"/>\n     <use style=\"fill:#0000ff;stroke:#0000ff;\" x=\"40.881052\" xlink:href=\"#m5257e66e9f\" y=\"163.456089\"/>\n     <use style=\"fill:#0000ff;stroke:#0000ff;\" x=\"335.845762\" xlink:href=\"#m5257e66e9f\" y=\"94.121291\"/>\n     <use style=\"fill:#0000ff;stroke:#0000ff;\" x=\"296.294191\" xlink:href=\"#m5257e66e9f\" y=\"104.565112\"/>\n     <use style=\"fill:#0000ff;stroke:#0000ff;\" x=\"304.360742\" xlink:href=\"#m5257e66e9f\" y=\"101.141451\"/>\n     <use style=\"fill:#0000ff;stroke:#0000ff;\" x=\"319.752199\" xlink:href=\"#m5257e66e9f\" y=\"112.703944\"/>\n     <use style=\"fill:#0000ff;stroke:#0000ff;\" x=\"65.835674\" xlink:href=\"#m5257e66e9f\" y=\"161.639237\"/>\n     <use style=\"fill:#0000ff;stroke:#0000ff;\" x=\"169.416497\" xlink:href=\"#m5257e66e9f\" y=\"135.199752\"/>\n     <use style=\"fill:#0000ff;stroke:#0000ff;\" x=\"81.067339\" xlink:href=\"#m5257e66e9f\" y=\"172.04629\"/>\n     <use style=\"fill:#0000ff;stroke:#0000ff;\" x=\"353.196085\" xlink:href=\"#m5257e66e9f\" y=\"66.37585\"/>\n     <use style=\"fill:#0000ff;stroke:#0000ff;\" x=\"265.863491\" xlink:href=\"#m5257e66e9f\" y=\"108.72422\"/>\n     <use style=\"fill:#0000ff;stroke:#0000ff;\" x=\"159.376856\" xlink:href=\"#m5257e66e9f\" y=\"159.880494\"/>\n     <use style=\"fill:#0000ff;stroke:#0000ff;\" x=\"62.016759\" xlink:href=\"#m5257e66e9f\" y=\"156.23296\"/>\n     <use style=\"fill:#0000ff;stroke:#0000ff;\" x=\"152.123931\" xlink:href=\"#m5257e66e9f\" y=\"158.427465\"/>\n     <use style=\"fill:#0000ff;stroke:#0000ff;\" x=\"157.295669\" xlink:href=\"#m5257e66e9f\" y=\"130.796759\"/>\n     <use style=\"fill:#0000ff;stroke:#0000ff;\" x=\"304.57889\" xlink:href=\"#m5257e66e9f\" y=\"88.93796\"/>\n     <use style=\"fill:#0000ff;stroke:#0000ff;\" x=\"271.056477\" xlink:href=\"#m5257e66e9f\" y=\"126.810249\"/>\n     <use style=\"fill:#0000ff;stroke:#0000ff;\" x=\"361.976246\" xlink:href=\"#m5257e66e9f\" y=\"77.711677\"/>\n     <use style=\"fill:#0000ff;stroke:#0000ff;\" x=\"210.841822\" xlink:href=\"#m5257e66e9f\" y=\"123.198786\"/>\n     <use style=\"fill:#0000ff;stroke:#0000ff;\" x=\"82.423982\" xlink:href=\"#m5257e66e9f\" y=\"148.7272\"/>\n     <use style=\"fill:#0000ff;stroke:#0000ff;\" x=\"298.620378\" xlink:href=\"#m5257e66e9f\" y=\"79.363125\"/>\n     <use style=\"fill:#0000ff;stroke:#0000ff;\" x=\"315.93365\" xlink:href=\"#m5257e66e9f\" y=\"107.14294\"/>\n     <use style=\"fill:#0000ff;stroke:#0000ff;\" x=\"243.276631\" xlink:href=\"#m5257e66e9f\" y=\"132.655652\"/>\n     <use style=\"fill:#0000ff;stroke:#0000ff;\" x=\"319.641791\" xlink:href=\"#m5257e66e9f\" y=\"115.865122\"/>\n     <use style=\"fill:#0000ff;stroke:#0000ff;\" x=\"218.701098\" xlink:href=\"#m5257e66e9f\" y=\"139.641429\"/>\n     <use style=\"fill:#0000ff;stroke:#0000ff;\" x=\"229.239495\" xlink:href=\"#m5257e66e9f\" y=\"125.992943\"/>\n     <use style=\"fill:#0000ff;stroke:#0000ff;\" x=\"194.572422\" xlink:href=\"#m5257e66e9f\" y=\"128.280285\"/>\n     <use style=\"fill:#0000ff;stroke:#0000ff;\" x=\"48.127169\" xlink:href=\"#m5257e66e9f\" y=\"165.339085\"/>\n     <use style=\"fill:#0000ff;stroke:#0000ff;\" x=\"78.162035\" xlink:href=\"#m5257e66e9f\" y=\"149.701004\"/>\n    </g>\n   </g>\n   <g id=\"patch_3\">\n    <path d=\"M 38.87 231.6 \nL 38.87 7.2 \n\" style=\"fill:none;stroke:#000000;stroke-linecap:square;stroke-linejoin:miter;stroke-width:0.8;\"/>\n   </g>\n   <g id=\"patch_4\">\n    <path d=\"M 403.05125 231.6 \nL 403.05125 7.2 \n\" style=\"fill:none;stroke:#000000;stroke-linecap:square;stroke-linejoin:miter;stroke-width:0.8;\"/>\n   </g>\n   <g id=\"patch_5\">\n    <path d=\"M 38.87 231.6 \nL 403.05125 231.6 \n\" style=\"fill:none;stroke:#000000;stroke-linecap:square;stroke-linejoin:miter;stroke-width:0.8;\"/>\n   </g>\n   <g id=\"patch_6\">\n    <path d=\"M 38.87 7.2 \nL 403.05125 7.2 \n\" style=\"fill:none;stroke:#000000;stroke-linecap:square;stroke-linejoin:miter;stroke-width:0.8;\"/>\n   </g>\n  </g>\n </g>\n <defs>\n  <clipPath id=\"p920d20068d\">\n   <rect height=\"224.4\" width=\"364.18125\" x=\"38.87\" y=\"7.2\"/>\n  </clipPath>\n </defs>\n</svg>\n",
      "image/png": "[encoded data removed]"
     },
     "metadata": {
      "needs_background": "light"
     }
    }
   ],
   "source": [
    "plt.plot(X, y, \"b.\")\n",
    "plt.xlabel(\"$x_1$\", fontsize=18)\n",
    "plt.ylabel(\"$y$\", rotation=0, fontsize=18)\n",
    "plt.axis([0, 2, 0, 15])\n",
    "save_fig(\"generated_data_plot\")\n",
    "plt.show()"
   ]
  },
  {
   "cell_type": "code",
   "execution_count": 4,
   "metadata": {},
   "outputs": [],
   "source": [
    "X_b = np.c_[np.ones((100, 1)), X]  # add x0 = 1 to each instance\n",
    "theta_best = np.linalg.inv(X_b.T.dot(X_b)).dot(X_b.T).dot(y)"
   ]
  },
  {
   "cell_type": "code",
   "execution_count": 5,
   "metadata": {},
   "outputs": [
    {
     "output_type": "execute_result",
     "data": {
      "text/plain": "array([[4.21509616],\n       [2.77011339]])"
     },
     "metadata": {},
     "execution_count": 5
    }
   ],
   "source": [
    "theta_best"
   ]
  },
  {
   "cell_type": "code",
   "execution_count": 6,
   "metadata": {},
   "outputs": [
    {
     "output_type": "execute_result",
     "data": {
      "text/plain": "array([[4.21509616],\n       [9.75532293]])"
     },
     "metadata": {},
     "execution_count": 6
    }
   ],
   "source": [
    "X_new = np.array([[0], [2]])\n",
    "X_new_b = np.c_[np.ones((2, 1)), X_new]  # add x0 = 1 to each instance\n",
    "y_predict = X_new_b.dot(theta_best)\n",
    "y_predict"
   ]
  },
  {
   "cell_type": "code",
   "execution_count": 7,
   "metadata": {},
   "outputs": [
    {
     "output_type": "display_data",
     "data": {
      "text/plain": "<Figure size 432x288 with 1 Axes>",
      "image/svg+xml": "<?xml version=\"1.0\" encoding=\"utf-8\" standalone=\"no\"?>\n<!DOCTYPE svg PUBLIC \"-//W3C//DTD SVG 1.1//EN\"\n  \"http://www.w3.org/Graphics/SVG/1.1/DTD/svg11.dtd\">\n<!-- Created with matplotlib (https://matplotlib.org/) -->\n<svg height=\"250.45375pt\" version=\"1.1\" viewBox=\"0 0 384.829375 250.45375\" width=\"384.829375pt\" xmlns=\"http://www.w3.org/2000/svg\" xmlns:xlink=\"http://www.w3.org/1999/xlink\">\n <defs>\n  <style type=\"text/css\">\n*{stroke-linecap:butt;stroke-linejoin:round;}\n  </style>\n </defs>\n <g id=\"figure_1\">\n  <g id=\"patch_1\">\n   <path d=\"M 0 250.45375 \nL 384.829375 250.45375 \nL 384.829375 0 \nL 0 0 \nz\n\" style=\"fill:none;\"/>\n  </g>\n  <g id=\"axes_1\">\n   <g id=\"patch_2\">\n    <path d=\"M 29.47 224.64 \nL 364.27 224.64 \nL 364.27 7.2 \nL 29.47 7.2 \nz\n\" style=\"fill:#ffffff;\"/>\n   </g>\n   <g id=\"matplotlib.axis_1\">\n    <g id=\"xtick_1\">\n     <g id=\"line2d_1\">\n      <defs>\n       <path d=\"M 0 0 \nL 0 3.5 \n\" id=\"m1c5061f9af\" style=\"stroke:#000000;stroke-width:0.8;\"/>\n      </defs>\n      <g>\n       <use style=\"stroke:#000000;stroke-width:0.8;\" x=\"29.47\" xlink:href=\"#m1c5061f9af\" y=\"224.64\"/>\n      </g>\n     </g>\n     <g id=\"text_1\">\n      <!-- 0.00 -->\n      <defs>\n       <path d=\"M 31.78125 66.40625 \nQ 24.171875 66.40625 20.328125 58.90625 \nQ 16.5 51.421875 16.5 36.375 \nQ 16.5 21.390625 20.328125 13.890625 \nQ 24.171875 6.390625 31.78125 6.390625 \nQ 39.453125 6.390625 43.28125 13.890625 \nQ 47.125 21.390625 47.125 36.375 \nQ 47.125 51.421875 43.28125 58.90625 \nQ 39.453125 66.40625 31.78125 66.40625 \nz\nM 31.78125 74.21875 \nQ 44.046875 74.21875 50.515625 64.515625 \nQ 56.984375 54.828125 56.984375 36.375 \nQ 56.984375 17.96875 50.515625 8.265625 \nQ 44.046875 -1.421875 31.78125 -1.421875 \nQ 19.53125 -1.421875 13.0625 8.265625 \nQ 6.59375 17.96875 6.59375 36.375 \nQ 6.59375 54.828125 13.0625 64.515625 \nQ 19.53125 74.21875 31.78125 74.21875 \nz\n\" id=\"DejaVuSans-48\"/>\n       <path d=\"M 10.6875 12.40625 \nL 21 12.40625 \nL 21 0 \nL 10.6875 0 \nz\n\" id=\"DejaVuSans-46\"/>\n      </defs>\n      <g transform=\"translate(16.110625 240.758125)scale(0.12 -0.12)\">\n       <use xlink:href=\"#DejaVuSans-48\"/>\n       <use x=\"63.623047\" xlink:href=\"#DejaVuSans-46\"/>\n       <use x=\"95.410156\" xlink:href=\"#DejaVuSans-48\"/>\n       <use x=\"159.033203\" xlink:href=\"#DejaVuSans-48\"/>\n      </g>\n     </g>\n    </g>\n    <g id=\"xtick_2\">\n     <g id=\"line2d_2\">\n      <g>\n       <use style=\"stroke:#000000;stroke-width:0.8;\" x=\"71.32\" xlink:href=\"#m1c5061f9af\" y=\"224.64\"/>\n      </g>\n     </g>\n     <g id=\"text_2\">\n      <!-- 0.25 -->\n      <defs>\n       <path d=\"M 19.1875 8.296875 \nL 53.609375 8.296875 \nL 53.609375 0 \nL 7.328125 0 \nL 7.328125 8.296875 \nQ 12.9375 14.109375 22.625 23.890625 \nQ 32.328125 33.6875 34.8125 36.53125 \nQ 39.546875 41.84375 41.421875 45.53125 \nQ 43.3125 49.21875 43.3125 52.78125 \nQ 43.3125 58.59375 39.234375 62.25 \nQ 35.15625 65.921875 28.609375 65.921875 \nQ 23.96875 65.921875 18.8125 64.3125 \nQ 13.671875 62.703125 7.8125 59.421875 \nL 7.8125 69.390625 \nQ 13.765625 71.78125 18.9375 73 \nQ 24.125 74.21875 28.421875 74.21875 \nQ 39.75 74.21875 46.484375 68.546875 \nQ 53.21875 62.890625 53.21875 53.421875 \nQ 53.21875 48.921875 51.53125 44.890625 \nQ 49.859375 40.875 45.40625 35.40625 \nQ 44.1875 33.984375 37.640625 27.21875 \nQ 31.109375 20.453125 19.1875 8.296875 \nz\n\" id=\"DejaVuSans-50\"/>\n       <path d=\"M 10.796875 72.90625 \nL 49.515625 72.90625 \nL 49.515625 64.59375 \nL 19.828125 64.59375 \nL 19.828125 46.734375 \nQ 21.96875 47.46875 24.109375 47.828125 \nQ 26.265625 48.1875 28.421875 48.1875 \nQ 40.625 48.1875 47.75 41.5 \nQ 54.890625 34.8125 54.890625 23.390625 \nQ 54.890625 11.625 47.5625 5.09375 \nQ 40.234375 -1.421875 26.90625 -1.421875 \nQ 22.3125 -1.421875 17.546875 -0.640625 \nQ 12.796875 0.140625 7.71875 1.703125 \nL 7.71875 11.625 \nQ 12.109375 9.234375 16.796875 8.0625 \nQ 21.484375 6.890625 26.703125 6.890625 \nQ 35.15625 6.890625 40.078125 11.328125 \nQ 45.015625 15.765625 45.015625 23.390625 \nQ 45.015625 31 40.078125 35.4375 \nQ 35.15625 39.890625 26.703125 39.890625 \nQ 22.75 39.890625 18.8125 39.015625 \nQ 14.890625 38.140625 10.796875 36.28125 \nz\n\" id=\"DejaVuSans-53\"/>\n      </defs>\n      <g transform=\"translate(57.960625 240.758125)scale(0.12 -0.12)\">\n       <use xlink:href=\"#DejaVuSans-48\"/>\n       <use x=\"63.623047\" xlink:href=\"#DejaVuSans-46\"/>\n       <use x=\"95.410156\" xlink:href=\"#DejaVuSans-50\"/>\n       <use x=\"159.033203\" xlink:href=\"#DejaVuSans-53\"/>\n      </g>\n     </g>\n    </g>\n    <g id=\"xtick_3\">\n     <g id=\"line2d_3\">\n      <g>\n       <use style=\"stroke:#000000;stroke-width:0.8;\" x=\"113.17\" xlink:href=\"#m1c5061f9af\" y=\"224.64\"/>\n      </g>\n     </g>\n     <g id=\"text_3\">\n      <!-- 0.50 -->\n      <g transform=\"translate(99.810625 240.758125)scale(0.12 -0.12)\">\n       <use xlink:href=\"#DejaVuSans-48\"/>\n       <use x=\"63.623047\" xlink:href=\"#DejaVuSans-46\"/>\n       <use x=\"95.410156\" xlink:href=\"#DejaVuSans-53\"/>\n       <use x=\"159.033203\" xlink:href=\"#DejaVuSans-48\"/>\n      </g>\n     </g>\n    </g>\n    <g id=\"xtick_4\">\n     <g id=\"line2d_4\">\n      <g>\n       <use style=\"stroke:#000000;stroke-width:0.8;\" x=\"155.02\" xlink:href=\"#m1c5061f9af\" y=\"224.64\"/>\n      </g>\n     </g>\n     <g id=\"text_4\">\n      <!-- 0.75 -->\n      <defs>\n       <path d=\"M 8.203125 72.90625 \nL 55.078125 72.90625 \nL 55.078125 68.703125 \nL 28.609375 0 \nL 18.3125 0 \nL 43.21875 64.59375 \nL 8.203125 64.59375 \nz\n\" id=\"DejaVuSans-55\"/>\n      </defs>\n      <g transform=\"translate(141.660625 240.758125)scale(0.12 -0.12)\">\n       <use xlink:href=\"#DejaVuSans-48\"/>\n       <use x=\"63.623047\" xlink:href=\"#DejaVuSans-46\"/>\n       <use x=\"95.410156\" xlink:href=\"#DejaVuSans-55\"/>\n       <use x=\"159.033203\" xlink:href=\"#DejaVuSans-53\"/>\n      </g>\n     </g>\n    </g>\n    <g id=\"xtick_5\">\n     <g id=\"line2d_5\">\n      <g>\n       <use style=\"stroke:#000000;stroke-width:0.8;\" x=\"196.87\" xlink:href=\"#m1c5061f9af\" y=\"224.64\"/>\n      </g>\n     </g>\n     <g id=\"text_5\">\n      <!-- 1.00 -->\n      <defs>\n       <path d=\"M 12.40625 8.296875 \nL 28.515625 8.296875 \nL 28.515625 63.921875 \nL 10.984375 60.40625 \nL 10.984375 69.390625 \nL 28.421875 72.90625 \nL 38.28125 72.90625 \nL 38.28125 8.296875 \nL 54.390625 8.296875 \nL 54.390625 0 \nL 12.40625 0 \nz\n\" id=\"DejaVuSans-49\"/>\n      </defs>\n      <g transform=\"translate(183.510625 240.758125)scale(0.12 -0.12)\">\n       <use xlink:href=\"#DejaVuSans-49\"/>\n       <use x=\"63.623047\" xlink:href=\"#DejaVuSans-46\"/>\n       <use x=\"95.410156\" xlink:href=\"#DejaVuSans-48\"/>\n       <use x=\"159.033203\" xlink:href=\"#DejaVuSans-48\"/>\n      </g>\n     </g>\n    </g>\n    <g id=\"xtick_6\">\n     <g id=\"line2d_6\">\n      <g>\n       <use style=\"stroke:#000000;stroke-width:0.8;\" x=\"238.72\" xlink:href=\"#m1c5061f9af\" y=\"224.64\"/>\n      </g>\n     </g>\n     <g id=\"text_6\">\n      <!-- 1.25 -->\n      <g transform=\"translate(225.360625 240.758125)scale(0.12 -0.12)\">\n       <use xlink:href=\"#DejaVuSans-49\"/>\n       <use x=\"63.623047\" xlink:href=\"#DejaVuSans-46\"/>\n       <use x=\"95.410156\" xlink:href=\"#DejaVuSans-50\"/>\n       <use x=\"159.033203\" xlink:href=\"#DejaVuSans-53\"/>\n      </g>\n     </g>\n    </g>\n    <g id=\"xtick_7\">\n     <g id=\"line2d_7\">\n      <g>\n       <use style=\"stroke:#000000;stroke-width:0.8;\" x=\"280.57\" xlink:href=\"#m1c5061f9af\" y=\"224.64\"/>\n      </g>\n     </g>\n     <g id=\"text_7\">\n      <!-- 1.50 -->\n      <g transform=\"translate(267.210625 240.758125)scale(0.12 -0.12)\">\n       <use xlink:href=\"#DejaVuSans-49\"/>\n       <use x=\"63.623047\" xlink:href=\"#DejaVuSans-46\"/>\n       <use x=\"95.410156\" xlink:href=\"#DejaVuSans-53\"/>\n       <use x=\"159.033203\" xlink:href=\"#DejaVuSans-48\"/>\n      </g>\n     </g>\n    </g>\n    <g id=\"xtick_8\">\n     <g id=\"line2d_8\">\n      <g>\n       <use style=\"stroke:#000000;stroke-width:0.8;\" x=\"322.42\" xlink:href=\"#m1c5061f9af\" y=\"224.64\"/>\n      </g>\n     </g>\n     <g id=\"text_8\">\n      <!-- 1.75 -->\n      <g transform=\"translate(309.060625 240.758125)scale(0.12 -0.12)\">\n       <use xlink:href=\"#DejaVuSans-49\"/>\n       <use x=\"63.623047\" xlink:href=\"#DejaVuSans-46\"/>\n       <use x=\"95.410156\" xlink:href=\"#DejaVuSans-55\"/>\n       <use x=\"159.033203\" xlink:href=\"#DejaVuSans-53\"/>\n      </g>\n     </g>\n    </g>\n    <g id=\"xtick_9\">\n     <g id=\"line2d_9\">\n      <g>\n       <use style=\"stroke:#000000;stroke-width:0.8;\" x=\"364.27\" xlink:href=\"#m1c5061f9af\" y=\"224.64\"/>\n      </g>\n     </g>\n     <g id=\"text_9\">\n      <!-- 2.00 -->\n      <g transform=\"translate(350.910625 240.758125)scale(0.12 -0.12)\">\n       <use xlink:href=\"#DejaVuSans-50\"/>\n       <use x=\"63.623047\" xlink:href=\"#DejaVuSans-46\"/>\n       <use x=\"95.410156\" xlink:href=\"#DejaVuSans-48\"/>\n       <use x=\"159.033203\" xlink:href=\"#DejaVuSans-48\"/>\n      </g>\n     </g>\n    </g>\n   </g>\n   <g id=\"matplotlib.axis_2\">\n    <g id=\"ytick_1\">\n     <g id=\"line2d_10\">\n      <defs>\n       <path d=\"M 0 0 \nL -3.5 0 \n\" id=\"m4fdfdbe751\" style=\"stroke:#000000;stroke-width:0.8;\"/>\n      </defs>\n      <g>\n       <use style=\"stroke:#000000;stroke-width:0.8;\" x=\"29.47\" xlink:href=\"#m4fdfdbe751\" y=\"224.64\"/>\n      </g>\n     </g>\n     <g id=\"text_10\">\n      <!-- 0 -->\n      <g transform=\"translate(14.835 229.199062)scale(0.12 -0.12)\">\n       <use xlink:href=\"#DejaVuSans-48\"/>\n      </g>\n     </g>\n    </g>\n    <g id=\"ytick_2\">\n     <g id=\"line2d_11\">\n      <g>\n       <use style=\"stroke:#000000;stroke-width:0.8;\" x=\"29.47\" xlink:href=\"#m4fdfdbe751\" y=\"195.648\"/>\n      </g>\n     </g>\n     <g id=\"text_11\">\n      <!-- 2 -->\n      <g transform=\"translate(14.835 200.207062)scale(0.12 -0.12)\">\n       <use xlink:href=\"#DejaVuSans-50\"/>\n      </g>\n     </g>\n    </g>\n    <g id=\"ytick_3\">\n     <g id=\"line2d_12\">\n      <g>\n       <use style=\"stroke:#000000;stroke-width:0.8;\" x=\"29.47\" xlink:href=\"#m4fdfdbe751\" y=\"166.656\"/>\n      </g>\n     </g>\n     <g id=\"text_12\">\n      <!-- 4 -->\n      <defs>\n       <path d=\"M 37.796875 64.3125 \nL 12.890625 25.390625 \nL 37.796875 25.390625 \nz\nM 35.203125 72.90625 \nL 47.609375 72.90625 \nL 47.609375 25.390625 \nL 58.015625 25.390625 \nL 58.015625 17.1875 \nL 47.609375 17.1875 \nL 47.609375 0 \nL 37.796875 0 \nL 37.796875 17.1875 \nL 4.890625 17.1875 \nL 4.890625 26.703125 \nz\n\" id=\"DejaVuSans-52\"/>\n      </defs>\n      <g transform=\"translate(14.835 171.215062)scale(0.12 -0.12)\">\n       <use xlink:href=\"#DejaVuSans-52\"/>\n      </g>\n     </g>\n    </g>\n    <g id=\"ytick_4\">\n     <g id=\"line2d_13\">\n      <g>\n       <use style=\"stroke:#000000;stroke-width:0.8;\" x=\"29.47\" xlink:href=\"#m4fdfdbe751\" y=\"137.664\"/>\n      </g>\n     </g>\n     <g id=\"text_13\">\n      <!-- 6 -->\n      <defs>\n       <path d=\"M 33.015625 40.375 \nQ 26.375 40.375 22.484375 35.828125 \nQ 18.609375 31.296875 18.609375 23.390625 \nQ 18.609375 15.53125 22.484375 10.953125 \nQ 26.375 6.390625 33.015625 6.390625 \nQ 39.65625 6.390625 43.53125 10.953125 \nQ 47.40625 15.53125 47.40625 23.390625 \nQ 47.40625 31.296875 43.53125 35.828125 \nQ 39.65625 40.375 33.015625 40.375 \nz\nM 52.59375 71.296875 \nL 52.59375 62.3125 \nQ 48.875 64.0625 45.09375 64.984375 \nQ 41.3125 65.921875 37.59375 65.921875 \nQ 27.828125 65.921875 22.671875 59.328125 \nQ 17.53125 52.734375 16.796875 39.40625 \nQ 19.671875 43.65625 24.015625 45.921875 \nQ 28.375 48.1875 33.59375 48.1875 \nQ 44.578125 48.1875 50.953125 41.515625 \nQ 57.328125 34.859375 57.328125 23.390625 \nQ 57.328125 12.15625 50.6875 5.359375 \nQ 44.046875 -1.421875 33.015625 -1.421875 \nQ 20.359375 -1.421875 13.671875 8.265625 \nQ 6.984375 17.96875 6.984375 36.375 \nQ 6.984375 53.65625 15.1875 63.9375 \nQ 23.390625 74.21875 37.203125 74.21875 \nQ 40.921875 74.21875 44.703125 73.484375 \nQ 48.484375 72.75 52.59375 71.296875 \nz\n\" id=\"DejaVuSans-54\"/>\n      </defs>\n      <g transform=\"translate(14.835 142.223062)scale(0.12 -0.12)\">\n       <use xlink:href=\"#DejaVuSans-54\"/>\n      </g>\n     </g>\n    </g>\n    <g id=\"ytick_5\">\n     <g id=\"line2d_14\">\n      <g>\n       <use style=\"stroke:#000000;stroke-width:0.8;\" x=\"29.47\" xlink:href=\"#m4fdfdbe751\" y=\"108.672\"/>\n      </g>\n     </g>\n     <g id=\"text_14\">\n      <!-- 8 -->\n      <defs>\n       <path d=\"M 31.78125 34.625 \nQ 24.75 34.625 20.71875 30.859375 \nQ 16.703125 27.09375 16.703125 20.515625 \nQ 16.703125 13.921875 20.71875 10.15625 \nQ 24.75 6.390625 31.78125 6.390625 \nQ 38.8125 6.390625 42.859375 10.171875 \nQ 46.921875 13.96875 46.921875 20.515625 \nQ 46.921875 27.09375 42.890625 30.859375 \nQ 38.875 34.625 31.78125 34.625 \nz\nM 21.921875 38.8125 \nQ 15.578125 40.375 12.03125 44.71875 \nQ 8.5 49.078125 8.5 55.328125 \nQ 8.5 64.0625 14.71875 69.140625 \nQ 20.953125 74.21875 31.78125 74.21875 \nQ 42.671875 74.21875 48.875 69.140625 \nQ 55.078125 64.0625 55.078125 55.328125 \nQ 55.078125 49.078125 51.53125 44.71875 \nQ 48 40.375 41.703125 38.8125 \nQ 48.828125 37.15625 52.796875 32.3125 \nQ 56.78125 27.484375 56.78125 20.515625 \nQ 56.78125 9.90625 50.3125 4.234375 \nQ 43.84375 -1.421875 31.78125 -1.421875 \nQ 19.734375 -1.421875 13.25 4.234375 \nQ 6.78125 9.90625 6.78125 20.515625 \nQ 6.78125 27.484375 10.78125 32.3125 \nQ 14.796875 37.15625 21.921875 38.8125 \nz\nM 18.3125 54.390625 \nQ 18.3125 48.734375 21.84375 45.5625 \nQ 25.390625 42.390625 31.78125 42.390625 \nQ 38.140625 42.390625 41.71875 45.5625 \nQ 45.3125 48.734375 45.3125 54.390625 \nQ 45.3125 60.0625 41.71875 63.234375 \nQ 38.140625 66.40625 31.78125 66.40625 \nQ 25.390625 66.40625 21.84375 63.234375 \nQ 18.3125 60.0625 18.3125 54.390625 \nz\n\" id=\"DejaVuSans-56\"/>\n      </defs>\n      <g transform=\"translate(14.835 113.231063)scale(0.12 -0.12)\">\n       <use xlink:href=\"#DejaVuSans-56\"/>\n      </g>\n     </g>\n    </g>\n    <g id=\"ytick_6\">\n     <g id=\"line2d_15\">\n      <g>\n       <use style=\"stroke:#000000;stroke-width:0.8;\" x=\"29.47\" xlink:href=\"#m4fdfdbe751\" y=\"79.68\"/>\n      </g>\n     </g>\n     <g id=\"text_15\">\n      <!-- 10 -->\n      <g transform=\"translate(7.2 84.239062)scale(0.12 -0.12)\">\n       <use xlink:href=\"#DejaVuSans-49\"/>\n       <use x=\"63.623047\" xlink:href=\"#DejaVuSans-48\"/>\n      </g>\n     </g>\n    </g>\n    <g id=\"ytick_7\">\n     <g id=\"line2d_16\">\n      <g>\n       <use style=\"stroke:#000000;stroke-width:0.8;\" x=\"29.47\" xlink:href=\"#m4fdfdbe751\" y=\"50.688\"/>\n      </g>\n     </g>\n     <g id=\"text_16\">\n      <!-- 12 -->\n      <g transform=\"translate(7.2 55.247062)scale(0.12 -0.12)\">\n       <use xlink:href=\"#DejaVuSans-49\"/>\n       <use x=\"63.623047\" xlink:href=\"#DejaVuSans-50\"/>\n      </g>\n     </g>\n    </g>\n    <g id=\"ytick_8\">\n     <g id=\"line2d_17\">\n      <g>\n       <use style=\"stroke:#000000;stroke-width:0.8;\" x=\"29.47\" xlink:href=\"#m4fdfdbe751\" y=\"21.696\"/>\n      </g>\n     </g>\n     <g id=\"text_17\">\n      <!-- 14 -->\n      <g transform=\"translate(7.2 26.255062)scale(0.12 -0.12)\">\n       <use xlink:href=\"#DejaVuSans-49\"/>\n       <use x=\"63.623047\" xlink:href=\"#DejaVuSans-52\"/>\n      </g>\n     </g>\n    </g>\n   </g>\n   <g id=\"line2d_18\">\n    <path clip-path=\"url(#p3d4c75d4e8)\" d=\"M 29.47 163.537966 \nL 364.27 83.226839 \n\" style=\"fill:none;stroke:#ff0000;stroke-linecap:square;stroke-width:1.5;\"/>\n   </g>\n   <g id=\"line2d_19\">\n    <defs>\n     <path d=\"M 0 1.5 \nC 0.397805 1.5 0.77937 1.341951 1.06066 1.06066 \nC 1.341951 0.77937 1.5 0.397805 1.5 0 \nC 1.5 -0.397805 1.341951 -0.77937 1.06066 -1.06066 \nC 0.77937 -1.341951 0.397805 -1.5 0 -1.5 \nC -0.397805 -1.5 -0.77937 -1.341951 -1.06066 -1.06066 \nC -1.341951 -0.77937 -1.5 -0.397805 -1.5 0 \nC -1.5 0.397805 -1.341951 0.77937 -1.06066 1.06066 \nC -0.77937 1.341951 -0.397805 1.5 0 1.5 \nz\n\" id=\"me616c4bbef\" style=\"stroke:#0000ff;\"/>\n    </defs>\n    <g clip-path=\"url(#p3d4c75d4e8)\">\n     <use style=\"fill:#0000ff;stroke:#0000ff;\" x=\"154.866032\" xlink:href=\"#me616c4bbef\" y=\"132.818164\"/>\n     <use style=\"fill:#0000ff;stroke:#0000ff;\" x=\"347.76915\" xlink:href=\"#me616c4bbef\" y=\"88.301083\"/>\n     <use style=\"fill:#0000ff;stroke:#0000ff;\" x=\"274.541572\" xlink:href=\"#me616c4bbef\" y=\"101.659931\"/>\n     <use style=\"fill:#0000ff;stroke:#0000ff;\" x=\"229.900861\" xlink:href=\"#me616c4bbef\" y=\"143.398879\"/>\n     <use style=\"fill:#0000ff;stroke:#0000ff;\" x=\"81.705041\" xlink:href=\"#me616c4bbef\" y=\"156.270486\"/>\n     <use style=\"fill:#0000ff;stroke:#0000ff;\" x=\"81.696965\" xlink:href=\"#me616c4bbef\" y=\"147.911517\"/>\n     <use style=\"fill:#0000ff;stroke:#0000ff;\" x=\"48.916393\" xlink:href=\"#me616c4bbef\" y=\"140.180568\"/>\n     <use style=\"fill:#0000ff;stroke:#0000ff;\" x=\"319.465774\" xlink:href=\"#me616c4bbef\" y=\"98.832309\"/>\n     <use style=\"fill:#0000ff;stroke:#0000ff;\" x=\"230.723306\" xlink:href=\"#me616c4bbef\" y=\"126.093344\"/>\n     <use style=\"fill:#0000ff;stroke:#0000ff;\" x=\"266.532699\" xlink:href=\"#me616c4bbef\" y=\"112.34415\"/>\n     <use style=\"fill:#0000ff;stroke:#0000ff;\" x=\"36.361689\" xlink:href=\"#me616c4bbef\" y=\"151.595974\"/>\n     <use style=\"fill:#0000ff;stroke:#0000ff;\" x=\"354.195819\" xlink:href=\"#me616c4bbef\" y=\"77.531545\"/>\n     <use style=\"fill:#0000ff;stroke:#0000ff;\" x=\"308.171796\" xlink:href=\"#me616c4bbef\" y=\"101.932873\"/>\n     <use style=\"fill:#0000ff;stroke:#0000ff;\" x=\"100.561134\" xlink:href=\"#me616c4bbef\" y=\"140.747269\"/>\n     <use style=\"fill:#0000ff;stroke:#0000ff;\" x=\"90.344999\" xlink:href=\"#me616c4bbef\" y=\"149.434355\"/>\n     <use style=\"fill:#0000ff;stroke:#0000ff;\" x=\"90.87383\" xlink:href=\"#me616c4bbef\" y=\"136.662732\"/>\n     <use style=\"fill:#0000ff;stroke:#0000ff;\" x=\"131.330303\" xlink:href=\"#me616c4bbef\" y=\"150.371188\"/>\n     <use style=\"fill:#0000ff;stroke:#0000ff;\" x=\"205.158453\" xlink:href=\"#me616c4bbef\" y=\"125.764575\"/>\n     <use style=\"fill:#0000ff;stroke:#0000ff;\" x=\"174.085192\" xlink:href=\"#me616c4bbef\" y=\"134.77115\"/>\n     <use style=\"fill:#0000ff;stroke:#0000ff;\" x=\"126.973516\" xlink:href=\"#me616c4bbef\" y=\"162.541167\"/>\n     <use style=\"fill:#0000ff;stroke:#0000ff;\" x=\"234.318349\" xlink:href=\"#me616c4bbef\" y=\"109.146923\"/>\n     <use style=\"fill:#0000ff;stroke:#0000ff;\" x=\"76.172545\" xlink:href=\"#me616c4bbef\" y=\"150.739125\"/>\n     <use style=\"fill:#0000ff;stroke:#0000ff;\" x=\"127.280028\" xlink:href=\"#me616c4bbef\" y=\"141.172302\"/>\n     <use style=\"fill:#0000ff;stroke:#0000ff;\" x=\"152.127945\" xlink:href=\"#me616c4bbef\" y=\"138.191887\"/>\n     <use style=\"fill:#0000ff;stroke:#0000ff;\" x=\"182.162231\" xlink:href=\"#me616c4bbef\" y=\"147.506071\"/>\n     <use style=\"fill:#0000ff;stroke:#0000ff;\" x=\"292.346912\" xlink:href=\"#me616c4bbef\" y=\"104.46221\"/>\n     <use style=\"fill:#0000ff;stroke:#0000ff;\" x=\"96.320782\" xlink:href=\"#me616c4bbef\" y=\"154.257163\"/>\n     <use style=\"fill:#0000ff;stroke:#0000ff;\" x=\"201.63569\" xlink:href=\"#me616c4bbef\" y=\"133.559757\"/>\n     <use style=\"fill:#0000ff;stroke:#0000ff;\" x=\"227.810398\" xlink:href=\"#me616c4bbef\" y=\"117.468148\"/>\n     <use style=\"fill:#0000ff;stroke:#0000ff;\" x=\"45.021598\" xlink:href=\"#me616c4bbef\" y=\"156.758808\"/>\n     <use style=\"fill:#0000ff;stroke:#0000ff;\" x=\"232.876016\" xlink:href=\"#me616c4bbef\" y=\"86.472028\"/>\n     <use style=\"fill:#0000ff;stroke:#0000ff;\" x=\"86.561477\" xlink:href=\"#me616c4bbef\" y=\"149.293814\"/>\n     <use style=\"fill:#0000ff;stroke:#0000ff;\" x=\"51.249273\" xlink:href=\"#me616c4bbef\" y=\"157.264622\"/>\n     <use style=\"fill:#0000ff;stroke:#0000ff;\" x=\"347.156878\" xlink:href=\"#me616c4bbef\" y=\"85.2049\"/>\n     <use style=\"fill:#0000ff;stroke:#0000ff;\" x=\"352.763605\" xlink:href=\"#me616c4bbef\" y=\"110.483696\"/>\n     <use style=\"fill:#0000ff;stroke:#0000ff;\" x=\"300.121432\" xlink:href=\"#me616c4bbef\" y=\"96.729177\"/>\n     <use style=\"fill:#0000ff;stroke:#0000ff;\" x=\"131.45469\" xlink:href=\"#me616c4bbef\" y=\"139.288816\"/>\n     <use style=\"fill:#0000ff;stroke:#0000ff;\" x=\"62.170624\" xlink:href=\"#me616c4bbef\" y=\"122.453713\"/>\n     <use style=\"fill:#0000ff;stroke:#0000ff;\" x=\"258.551217\" xlink:href=\"#me616c4bbef\" y=\"109.932613\"/>\n     <use style=\"fill:#0000ff;stroke:#0000ff;\" x=\"176.833055\" xlink:href=\"#me616c4bbef\" y=\"124.002066\"/>\n     <use style=\"fill:#0000ff;stroke:#0000ff;\" x=\"70.328401\" xlink:href=\"#me616c4bbef\" y=\"156.544784\"/>\n     <use style=\"fill:#0000ff;stroke:#0000ff;\" x=\"195.25523\" xlink:href=\"#me616c4bbef\" y=\"140.52865\"/>\n     <use style=\"fill:#0000ff;stroke:#0000ff;\" x=\"40.983277\" xlink:href=\"#me616c4bbef\" y=\"147.098664\"/>\n     <use style=\"fill:#0000ff;stroke:#0000ff;\" x=\"333.910471\" xlink:href=\"#me616c4bbef\" y=\"76.666927\"/>\n     <use style=\"fill:#0000ff;stroke:#0000ff;\" x=\"116.109538\" xlink:href=\"#me616c4bbef\" y=\"132.681553\"/>\n     <use style=\"fill:#0000ff;stroke:#0000ff;\" x=\"251.282461\" xlink:href=\"#me616c4bbef\" y=\"122.214942\"/>\n     <use style=\"fill:#0000ff;stroke:#0000ff;\" x=\"133.830868\" xlink:href=\"#me616c4bbef\" y=\"119.209711\"/>\n     <use style=\"fill:#0000ff;stroke:#0000ff;\" x=\"203.588773\" xlink:href=\"#me616c4bbef\" y=\"141.743797\"/>\n     <use style=\"fill:#0000ff;stroke:#0000ff;\" x=\"212.508602\" xlink:href=\"#me616c4bbef\" y=\"110.598246\"/>\n     <use style=\"fill:#0000ff;stroke:#0000ff;\" x=\"91.359272\" xlink:href=\"#me616c4bbef\" y=\"118.825254\"/>\n     <use style=\"fill:#0000ff;stroke:#0000ff;\" x=\"354.086933\" xlink:href=\"#me616c4bbef\" y=\"96.684222\"/>\n     <use style=\"fill:#0000ff;stroke:#0000ff;\" x=\"288.984469\" xlink:href=\"#me616c4bbef\" y=\"107.447099\"/>\n     <use style=\"fill:#0000ff;stroke:#0000ff;\" x=\"344.014246\" xlink:href=\"#me616c4bbef\" y=\"83.497594\"/>\n     <use style=\"fill:#0000ff;stroke:#0000ff;\" x=\"329.058197\" xlink:href=\"#me616c4bbef\" y=\"96.125879\"/>\n     <use style=\"fill:#0000ff;stroke:#0000ff;\" x=\"229.646913\" xlink:href=\"#me616c4bbef\" y=\"137.131469\"/>\n     <use style=\"fill:#0000ff;stroke:#0000ff;\" x=\"338.113494\" xlink:href=\"#me616c4bbef\" y=\"85.481178\"/>\n     <use style=\"fill:#0000ff;stroke:#0000ff;\" x=\"59.09729\" xlink:href=\"#me616c4bbef\" y=\"174.358431\"/>\n     <use style=\"fill:#0000ff;stroke:#0000ff;\" x=\"95.085062\" xlink:href=\"#me616c4bbef\" y=\"142.744999\"/>\n     <use style=\"fill:#0000ff;stroke:#0000ff;\" x=\"44.612096\" xlink:href=\"#me616c4bbef\" y=\"176.050285\"/>\n     <use style=\"fill:#0000ff;stroke:#0000ff;\" x=\"138.390595\" xlink:href=\"#me616c4bbef\" y=\"115.89222\"/>\n     <use style=\"fill:#0000ff;stroke:#0000ff;\" x=\"159.599157\" xlink:href=\"#me616c4bbef\" y=\"144.204444\"/>\n     <use style=\"fill:#0000ff;stroke:#0000ff;\" x=\"120.317656\" xlink:href=\"#me616c4bbef\" y=\"147.72375\"/>\n     <use style=\"fill:#0000ff;stroke:#0000ff;\" x=\"306.931318\" xlink:href=\"#me616c4bbef\" y=\"82.782981\"/>\n     <use style=\"fill:#0000ff;stroke:#0000ff;\" x=\"148.911014\" xlink:href=\"#me616c4bbef\" y=\"153.469632\"/>\n     <use style=\"fill:#0000ff;stroke:#0000ff;\" x=\"123.526874\" xlink:href=\"#me616c4bbef\" y=\"138.924181\"/>\n     <use style=\"fill:#0000ff;stroke:#0000ff;\" x=\"211.164649\" xlink:href=\"#me616c4bbef\" y=\"100.506124\"/>\n     <use style=\"fill:#0000ff;stroke:#0000ff;\" x=\"76.651431\" xlink:href=\"#me616c4bbef\" y=\"177.701052\"/>\n     <use style=\"fill:#0000ff;stroke:#0000ff;\" x=\"298.045549\" xlink:href=\"#me616c4bbef\" y=\"94.207663\"/>\n     <use style=\"fill:#0000ff;stroke:#0000ff;\" x=\"54.429556\" xlink:href=\"#me616c4bbef\" y=\"156.404622\"/>\n     <use style=\"fill:#0000ff;stroke:#0000ff;\" x=\"359.879746\" xlink:href=\"#me616c4bbef\" y=\"69.487217\"/>\n     <use style=\"fill:#0000ff;stroke:#0000ff;\" x=\"288.017549\" xlink:href=\"#me616c4bbef\" y=\"117.420076\"/>\n     <use style=\"fill:#0000ff;stroke:#0000ff;\" x=\"96.00001\" xlink:href=\"#me616c4bbef\" y=\"168.513844\"/>\n     <use style=\"fill:#0000ff;stroke:#0000ff;\" x=\"31.318805\" xlink:href=\"#me616c4bbef\" y=\"158.609643\"/>\n     <use style=\"fill:#0000ff;stroke:#0000ff;\" x=\"302.486486\" xlink:href=\"#me616c4bbef\" y=\"91.425337\"/>\n     <use style=\"fill:#0000ff;stroke:#0000ff;\" x=\"266.125839\" xlink:href=\"#me616c4bbef\" y=\"101.545231\"/>\n     <use style=\"fill:#0000ff;stroke:#0000ff;\" x=\"273.5416\" xlink:href=\"#me616c4bbef\" y=\"98.227759\"/>\n     <use style=\"fill:#0000ff;stroke:#0000ff;\" x=\"287.691312\" xlink:href=\"#me616c4bbef\" y=\"109.431629\"/>\n     <use style=\"fill:#0000ff;stroke:#0000ff;\" x=\"54.260149\" xlink:href=\"#me616c4bbef\" y=\"156.849143\"/>\n     <use style=\"fill:#0000ff;stroke:#0000ff;\" x=\"149.484326\" xlink:href=\"#me616c4bbef\" y=\"131.229706\"/>\n     <use style=\"fill:#0000ff;stroke:#0000ff;\" x=\"68.262961\" xlink:href=\"#me616c4bbef\" y=\"166.933411\"/>\n     <use style=\"fill:#0000ff;stroke:#0000ff;\" x=\"318.437027\" xlink:href=\"#me616c4bbef\" y=\"64.540449\"/>\n     <use style=\"fill:#0000ff;stroke:#0000ff;\" x=\"238.150213\" xlink:href=\"#me616c4bbef\" y=\"105.57534\"/>\n     <use style=\"fill:#0000ff;stroke:#0000ff;\" x=\"140.254659\" xlink:href=\"#me616c4bbef\" y=\"155.144949\"/>\n     <use style=\"fill:#0000ff;stroke:#0000ff;\" x=\"50.749336\" xlink:href=\"#me616c4bbef\" y=\"151.610548\"/>\n     <use style=\"fill:#0000ff;stroke:#0000ff;\" x=\"133.586881\" xlink:href=\"#me616c4bbef\" y=\"153.736987\"/>\n     <use style=\"fill:#0000ff;stroke:#0000ff;\" x=\"138.341376\" xlink:href=\"#me616c4bbef\" y=\"126.963277\"/>\n     <use style=\"fill:#0000ff;stroke:#0000ff;\" x=\"273.742149\" xlink:href=\"#me616c4bbef\" y=\"86.402772\"/>\n     <use style=\"fill:#0000ff;stroke:#0000ff;\" x=\"242.924241\" xlink:href=\"#me616c4bbef\" y=\"123.100412\"/>\n     <use style=\"fill:#0000ff;stroke:#0000ff;\" x=\"326.508826\" xlink:href=\"#me616c4bbef\" y=\"75.524684\"/>\n     <use style=\"fill:#0000ff;stroke:#0000ff;\" x=\"187.567557\" xlink:href=\"#me616c4bbef\" y=\"119.600962\"/>\n     <use style=\"fill:#0000ff;stroke:#0000ff;\" x=\"69.510154\" xlink:href=\"#me616c4bbef\" y=\"144.337587\"/>\n     <use style=\"fill:#0000ff;stroke:#0000ff;\" x=\"268.264355\" xlink:href=\"#me616c4bbef\" y=\"77.12491\"/>\n     <use style=\"fill:#0000ff;stroke:#0000ff;\" x=\"284.180834\" xlink:href=\"#me616c4bbef\" y=\"104.043106\"/>\n     <use style=\"fill:#0000ff;stroke:#0000ff;\" x=\"217.385606\" xlink:href=\"#me616c4bbef\" y=\"128.764514\"/>\n     <use style=\"fill:#0000ff;stroke:#0000ff;\" x=\"287.589812\" xlink:href=\"#me616c4bbef\" y=\"112.49476\"/>\n     <use style=\"fill:#0000ff;stroke:#0000ff;\" x=\"194.792766\" xlink:href=\"#me616c4bbef\" y=\"135.53362\"/>\n     <use style=\"fill:#0000ff;stroke:#0000ff;\" x=\"204.480951\" xlink:href=\"#me616c4bbef\" y=\"122.308456\"/>\n     <use style=\"fill:#0000ff;stroke:#0000ff;\" x=\"172.610733\" xlink:href=\"#me616c4bbef\" y=\"124.524853\"/>\n     <use style=\"fill:#0000ff;stroke:#0000ff;\" x=\"37.980324\" xlink:href=\"#me616c4bbef\" y=\"160.434236\"/>\n     <use style=\"fill:#0000ff;stroke:#0000ff;\" x=\"65.59205\" xlink:href=\"#me616c4bbef\" y=\"145.281187\"/>\n    </g>\n   </g>\n   <g id=\"patch_3\">\n    <path d=\"M 29.47 224.64 \nL 29.47 7.2 \n\" style=\"fill:none;stroke:#000000;stroke-linecap:square;stroke-linejoin:miter;stroke-width:0.8;\"/>\n   </g>\n   <g id=\"patch_4\">\n    <path d=\"M 364.27 224.64 \nL 364.27 7.2 \n\" style=\"fill:none;stroke:#000000;stroke-linecap:square;stroke-linejoin:miter;stroke-width:0.8;\"/>\n   </g>\n   <g id=\"patch_5\">\n    <path d=\"M 29.47 224.64 \nL 364.27 224.64 \n\" style=\"fill:none;stroke:#000000;stroke-linecap:square;stroke-linejoin:miter;stroke-width:0.8;\"/>\n   </g>\n   <g id=\"patch_6\">\n    <path d=\"M 29.47 7.2 \nL 364.27 7.2 \n\" style=\"fill:none;stroke:#000000;stroke-linecap:square;stroke-linejoin:miter;stroke-width:0.8;\"/>\n   </g>\n  </g>\n </g>\n <defs>\n  <clipPath id=\"p3d4c75d4e8\">\n   <rect height=\"217.44\" width=\"334.8\" x=\"29.47\" y=\"7.2\"/>\n  </clipPath>\n </defs>\n</svg>\n",
      "image/png": "[encoded data removed]"
     },
     "metadata": {
      "needs_background": "light"
     }
    }
   ],
   "source": [
    "plt.plot(X_new, y_predict, \"r-\")\n",
    "plt.plot(X, y, \"b.\")\n",
    "plt.axis([0, 2, 0, 15])\n",
    "plt.show()"
   ]
  },
  {
   "cell_type": "markdown",
   "metadata": {},
   "source": [
    "The figure in the book actually corresponds to the following code, with a legend and axis labels:"
   ]
  },
  {
   "cell_type": "code",
   "execution_count": 8,
   "metadata": {},
   "outputs": [
    {
     "output_type": "stream",
     "name": "stdout",
     "text": "Saving figure linear_model_predictions_plot\n"
    },
    {
     "output_type": "display_data",
     "data": {
      "text/plain": "<Figure size 432x288 with 1 Axes>",
      "image/svg+xml": "<?xml version=\"1.0\" encoding=\"utf-8\" standalone=\"no\"?>\n<!DOCTYPE svg PUBLIC \"-//W3C//DTD SVG 1.1//EN\"\n  \"http://www.w3.org/Graphics/SVG/1.1/DTD/svg11.dtd\">\n<!-- Created with matplotlib (https://matplotlib.org/) -->\n<svg height=\"278.834375pt\" version=\"1.1\" viewBox=\"0 0 423.610625 278.834375\" width=\"423.610625pt\" xmlns=\"http://www.w3.org/2000/svg\" xmlns:xlink=\"http://www.w3.org/1999/xlink\">\n <defs>\n  <style type=\"text/css\">\n*{stroke-linecap:butt;stroke-linejoin:round;}\n  </style>\n </defs>\n <g id=\"figure_1\">\n  <g id=\"patch_1\">\n   <path d=\"M 0 278.834375 \nL 423.610625 278.834375 \nL 423.610625 0 \nL 0 0 \nz\n\" style=\"fill:none;\"/>\n  </g>\n  <g id=\"axes_1\">\n   <g id=\"patch_2\">\n    <path d=\"M 38.87 231.6 \nL 403.05125 231.6 \nL 403.05125 7.2 \nL 38.87 7.2 \nz\n\" style=\"fill:#ffffff;\"/>\n   </g>\n   <g id=\"matplotlib.axis_1\">\n    <g id=\"xtick_1\">\n     <g id=\"line2d_1\">\n      <defs>\n       <path d=\"M 0 0 \nL 0 3.5 \n\" id=\"m5486da1df0\" style=\"stroke:#000000;stroke-width:0.8;\"/>\n      </defs>\n      <g>\n       <use style=\"stroke:#000000;stroke-width:0.8;\" x=\"38.87\" xlink:href=\"#m5486da1df0\" y=\"231.6\"/>\n      </g>\n     </g>\n     <g id=\"text_1\">\n      <!-- 0.00 -->\n      <defs>\n       <path d=\"M 31.78125 66.40625 \nQ 24.171875 66.40625 20.328125 58.90625 \nQ 16.5 51.421875 16.5 36.375 \nQ 16.5 21.390625 20.328125 13.890625 \nQ 24.171875 6.390625 31.78125 6.390625 \nQ 39.453125 6.390625 43.28125 13.890625 \nQ 47.125 21.390625 47.125 36.375 \nQ 47.125 51.421875 43.28125 58.90625 \nQ 39.453125 66.40625 31.78125 66.40625 \nz\nM 31.78125 74.21875 \nQ 44.046875 74.21875 50.515625 64.515625 \nQ 56.984375 54.828125 56.984375 36.375 \nQ 56.984375 17.96875 50.515625 8.265625 \nQ 44.046875 -1.421875 31.78125 -1.421875 \nQ 19.53125 -1.421875 13.0625 8.265625 \nQ 6.59375 17.96875 6.59375 36.375 \nQ 6.59375 54.828125 13.0625 64.515625 \nQ 19.53125 74.21875 31.78125 74.21875 \nz\n\" id=\"DejaVuSans-48\"/>\n       <path d=\"M 10.6875 12.40625 \nL 21 12.40625 \nL 21 0 \nL 10.6875 0 \nz\n\" id=\"DejaVuSans-46\"/>\n      </defs>\n      <g transform=\"translate(25.510625 247.718125)scale(0.12 -0.12)\">\n       <use xlink:href=\"#DejaVuSans-48\"/>\n       <use x=\"63.623047\" xlink:href=\"#DejaVuSans-46\"/>\n       <use x=\"95.410156\" xlink:href=\"#DejaVuSans-48\"/>\n       <use x=\"159.033203\" xlink:href=\"#DejaVuSans-48\"/>\n      </g>\n     </g>\n    </g>\n    <g id=\"xtick_2\">\n     <g id=\"line2d_2\">\n      <g>\n       <use style=\"stroke:#000000;stroke-width:0.8;\" x=\"84.392656\" xlink:href=\"#m5486da1df0\" y=\"231.6\"/>\n      </g>\n     </g>\n     <g id=\"text_2\">\n      <!-- 0.25 -->\n      <defs>\n       <path d=\"M 19.1875 8.296875 \nL 53.609375 8.296875 \nL 53.609375 0 \nL 7.328125 0 \nL 7.328125 8.296875 \nQ 12.9375 14.109375 22.625 23.890625 \nQ 32.328125 33.6875 34.8125 36.53125 \nQ 39.546875 41.84375 41.421875 45.53125 \nQ 43.3125 49.21875 43.3125 52.78125 \nQ 43.3125 58.59375 39.234375 62.25 \nQ 35.15625 65.921875 28.609375 65.921875 \nQ 23.96875 65.921875 18.8125 64.3125 \nQ 13.671875 62.703125 7.8125 59.421875 \nL 7.8125 69.390625 \nQ 13.765625 71.78125 18.9375 73 \nQ 24.125 74.21875 28.421875 74.21875 \nQ 39.75 74.21875 46.484375 68.546875 \nQ 53.21875 62.890625 53.21875 53.421875 \nQ 53.21875 48.921875 51.53125 44.890625 \nQ 49.859375 40.875 45.40625 35.40625 \nQ 44.1875 33.984375 37.640625 27.21875 \nQ 31.109375 20.453125 19.1875 8.296875 \nz\n\" id=\"DejaVuSans-50\"/>\n       <path d=\"M 10.796875 72.90625 \nL 49.515625 72.90625 \nL 49.515625 64.59375 \nL 19.828125 64.59375 \nL 19.828125 46.734375 \nQ 21.96875 47.46875 24.109375 47.828125 \nQ 26.265625 48.1875 28.421875 48.1875 \nQ 40.625 48.1875 47.75 41.5 \nQ 54.890625 34.8125 54.890625 23.390625 \nQ 54.890625 11.625 47.5625 5.09375 \nQ 40.234375 -1.421875 26.90625 -1.421875 \nQ 22.3125 -1.421875 17.546875 -0.640625 \nQ 12.796875 0.140625 7.71875 1.703125 \nL 7.71875 11.625 \nQ 12.109375 9.234375 16.796875 8.0625 \nQ 21.484375 6.890625 26.703125 6.890625 \nQ 35.15625 6.890625 40.078125 11.328125 \nQ 45.015625 15.765625 45.015625 23.390625 \nQ 45.015625 31 40.078125 35.4375 \nQ 35.15625 39.890625 26.703125 39.890625 \nQ 22.75 39.890625 18.8125 39.015625 \nQ 14.890625 38.140625 10.796875 36.28125 \nz\n\" id=\"DejaVuSans-53\"/>\n      </defs>\n      <g transform=\"translate(71.033281 247.718125)scale(0.12 -0.12)\">\n       <use xlink:href=\"#DejaVuSans-48\"/>\n       <use x=\"63.623047\" xlink:href=\"#DejaVuSans-46\"/>\n       <use x=\"95.410156\" xlink:href=\"#DejaVuSans-50\"/>\n       <use x=\"159.033203\" xlink:href=\"#DejaVuSans-53\"/>\n      </g>\n     </g>\n    </g>\n    <g id=\"xtick_3\">\n     <g id=\"line2d_3\">\n      <g>\n       <use style=\"stroke:#000000;stroke-width:0.8;\" x=\"129.915312\" xlink:href=\"#m5486da1df0\" y=\"231.6\"/>\n      </g>\n     </g>\n     <g id=\"text_3\">\n      <!-- 0.50 -->\n      <g transform=\"translate(116.555937 247.718125)scale(0.12 -0.12)\">\n       <use xlink:href=\"#DejaVuSans-48\"/>\n       <use x=\"63.623047\" xlink:href=\"#DejaVuSans-46\"/>\n       <use x=\"95.410156\" xlink:href=\"#DejaVuSans-53\"/>\n       <use x=\"159.033203\" xlink:href=\"#DejaVuSans-48\"/>\n      </g>\n     </g>\n    </g>\n    <g id=\"xtick_4\">\n     <g id=\"line2d_4\">\n      <g>\n       <use style=\"stroke:#000000;stroke-width:0.8;\" x=\"175.437969\" xlink:href=\"#m5486da1df0\" y=\"231.6\"/>\n      </g>\n     </g>\n     <g id=\"text_4\">\n      <!-- 0.75 -->\n      <defs>\n       <path d=\"M 8.203125 72.90625 \nL 55.078125 72.90625 \nL 55.078125 68.703125 \nL 28.609375 0 \nL 18.3125 0 \nL 43.21875 64.59375 \nL 8.203125 64.59375 \nz\n\" id=\"DejaVuSans-55\"/>\n      </defs>\n      <g transform=\"translate(162.078594 247.718125)scale(0.12 -0.12)\">\n       <use xlink:href=\"#DejaVuSans-48\"/>\n       <use x=\"63.623047\" xlink:href=\"#DejaVuSans-46\"/>\n       <use x=\"95.410156\" xlink:href=\"#DejaVuSans-55\"/>\n       <use x=\"159.033203\" xlink:href=\"#DejaVuSans-53\"/>\n      </g>\n     </g>\n    </g>\n    <g id=\"xtick_5\">\n     <g id=\"line2d_5\">\n      <g>\n       <use style=\"stroke:#000000;stroke-width:0.8;\" x=\"220.960625\" xlink:href=\"#m5486da1df0\" y=\"231.6\"/>\n      </g>\n     </g>\n     <g id=\"text_5\">\n      <!-- 1.00 -->\n      <defs>\n       <path d=\"M 12.40625 8.296875 \nL 28.515625 8.296875 \nL 28.515625 63.921875 \nL 10.984375 60.40625 \nL 10.984375 69.390625 \nL 28.421875 72.90625 \nL 38.28125 72.90625 \nL 38.28125 8.296875 \nL 54.390625 8.296875 \nL 54.390625 0 \nL 12.40625 0 \nz\n\" id=\"DejaVuSans-49\"/>\n      </defs>\n      <g transform=\"translate(207.60125 247.718125)scale(0.12 -0.12)\">\n       <use xlink:href=\"#DejaVuSans-49\"/>\n       <use x=\"63.623047\" xlink:href=\"#DejaVuSans-46\"/>\n       <use x=\"95.410156\" xlink:href=\"#DejaVuSans-48\"/>\n       <use x=\"159.033203\" xlink:href=\"#DejaVuSans-48\"/>\n      </g>\n     </g>\n    </g>\n    <g id=\"xtick_6\">\n     <g id=\"line2d_6\">\n      <g>\n       <use style=\"stroke:#000000;stroke-width:0.8;\" x=\"266.483281\" xlink:href=\"#m5486da1df0\" y=\"231.6\"/>\n      </g>\n     </g>\n     <g id=\"text_6\">\n      <!-- 1.25 -->\n      <g transform=\"translate(253.123906 247.718125)scale(0.12 -0.12)\">\n       <use xlink:href=\"#DejaVuSans-49\"/>\n       <use x=\"63.623047\" xlink:href=\"#DejaVuSans-46\"/>\n       <use x=\"95.410156\" xlink:href=\"#DejaVuSans-50\"/>\n       <use x=\"159.033203\" xlink:href=\"#DejaVuSans-53\"/>\n      </g>\n     </g>\n    </g>\n    <g id=\"xtick_7\">\n     <g id=\"line2d_7\">\n      <g>\n       <use style=\"stroke:#000000;stroke-width:0.8;\" x=\"312.005937\" xlink:href=\"#m5486da1df0\" y=\"231.6\"/>\n      </g>\n     </g>\n     <g id=\"text_7\">\n      <!-- 1.50 -->\n      <g transform=\"translate(298.646562 247.718125)scale(0.12 -0.12)\">\n       <use xlink:href=\"#DejaVuSans-49\"/>\n       <use x=\"63.623047\" xlink:href=\"#DejaVuSans-46\"/>\n       <use x=\"95.410156\" xlink:href=\"#DejaVuSans-53\"/>\n       <use x=\"159.033203\" xlink:href=\"#DejaVuSans-48\"/>\n      </g>\n     </g>\n    </g>\n    <g id=\"xtick_8\">\n     <g id=\"line2d_8\">\n      <g>\n       <use style=\"stroke:#000000;stroke-width:0.8;\" x=\"357.528594\" xlink:href=\"#m5486da1df0\" y=\"231.6\"/>\n      </g>\n     </g>\n     <g id=\"text_8\">\n      <!-- 1.75 -->\n      <g transform=\"translate(344.169219 247.718125)scale(0.12 -0.12)\">\n       <use xlink:href=\"#DejaVuSans-49\"/>\n       <use x=\"63.623047\" xlink:href=\"#DejaVuSans-46\"/>\n       <use x=\"95.410156\" xlink:href=\"#DejaVuSans-55\"/>\n       <use x=\"159.033203\" xlink:href=\"#DejaVuSans-53\"/>\n      </g>\n     </g>\n    </g>\n    <g id=\"xtick_9\">\n     <g id=\"line2d_9\">\n      <g>\n       <use style=\"stroke:#000000;stroke-width:0.8;\" x=\"403.05125\" xlink:href=\"#m5486da1df0\" y=\"231.6\"/>\n      </g>\n     </g>\n     <g id=\"text_9\">\n      <!-- 2.00 -->\n      <g transform=\"translate(389.691875 247.718125)scale(0.12 -0.12)\">\n       <use xlink:href=\"#DejaVuSans-50\"/>\n       <use x=\"63.623047\" xlink:href=\"#DejaVuSans-46\"/>\n       <use x=\"95.410156\" xlink:href=\"#DejaVuSans-48\"/>\n       <use x=\"159.033203\" xlink:href=\"#DejaVuSans-48\"/>\n      </g>\n     </g>\n    </g>\n    <g id=\"text_10\">\n     <!-- $x_1$ -->\n     <defs>\n      <path d=\"M 60.015625 54.6875 \nL 34.90625 27.875 \nL 50.296875 0 \nL 39.984375 0 \nL 28.421875 21.6875 \nL 8.296875 0 \nL -2.59375 0 \nL 24.3125 28.8125 \nL 10.015625 54.6875 \nL 20.3125 54.6875 \nL 30.8125 34.90625 \nL 49.125 54.6875 \nz\n\" id=\"DejaVuSans-Oblique-120\"/>\n     </defs>\n     <g transform=\"translate(211.330625 267.890937)scale(0.18 -0.18)\">\n      <use transform=\"translate(0 0.3125)\" xlink:href=\"#DejaVuSans-Oblique-120\"/>\n      <use transform=\"translate(59.179688 -16.09375)scale(0.7)\" xlink:href=\"#DejaVuSans-49\"/>\n     </g>\n    </g>\n   </g>\n   <g id=\"matplotlib.axis_2\">\n    <g id=\"ytick_1\">\n     <g id=\"line2d_10\">\n      <defs>\n       <path d=\"M 0 0 \nL -3.5 0 \n\" id=\"m93642ea8c5\" style=\"stroke:#000000;stroke-width:0.8;\"/>\n      </defs>\n      <g>\n       <use style=\"stroke:#000000;stroke-width:0.8;\" x=\"38.87\" xlink:href=\"#m93642ea8c5\" y=\"231.6\"/>\n      </g>\n     </g>\n     <g id=\"text_11\">\n      <!-- 0 -->\n      <g transform=\"translate(24.235 236.159062)scale(0.12 -0.12)\">\n       <use xlink:href=\"#DejaVuSans-48\"/>\n      </g>\n     </g>\n    </g>\n    <g id=\"ytick_2\">\n     <g id=\"line2d_11\">\n      <g>\n       <use style=\"stroke:#000000;stroke-width:0.8;\" x=\"38.87\" xlink:href=\"#m93642ea8c5\" y=\"201.68\"/>\n      </g>\n     </g>\n     <g id=\"text_12\">\n      <!-- 2 -->\n      <g transform=\"translate(24.235 206.239062)scale(0.12 -0.12)\">\n       <use xlink:href=\"#DejaVuSans-50\"/>\n      </g>\n     </g>\n    </g>\n    <g id=\"ytick_3\">\n     <g id=\"line2d_12\">\n      <g>\n       <use style=\"stroke:#000000;stroke-width:0.8;\" x=\"38.87\" xlink:href=\"#m93642ea8c5\" y=\"171.76\"/>\n      </g>\n     </g>\n     <g id=\"text_13\">\n      <!-- 4 -->\n      <defs>\n       <path d=\"M 37.796875 64.3125 \nL 12.890625 25.390625 \nL 37.796875 25.390625 \nz\nM 35.203125 72.90625 \nL 47.609375 72.90625 \nL 47.609375 25.390625 \nL 58.015625 25.390625 \nL 58.015625 17.1875 \nL 47.609375 17.1875 \nL 47.609375 0 \nL 37.796875 0 \nL 37.796875 17.1875 \nL 4.890625 17.1875 \nL 4.890625 26.703125 \nz\n\" id=\"DejaVuSans-52\"/>\n      </defs>\n      <g transform=\"translate(24.235 176.319062)scale(0.12 -0.12)\">\n       <use xlink:href=\"#DejaVuSans-52\"/>\n      </g>\n     </g>\n    </g>\n    <g id=\"ytick_4\">\n     <g id=\"line2d_13\">\n      <g>\n       <use style=\"stroke:#000000;stroke-width:0.8;\" x=\"38.87\" xlink:href=\"#m93642ea8c5\" y=\"141.84\"/>\n      </g>\n     </g>\n     <g id=\"text_14\">\n      <!-- 6 -->\n      <defs>\n       <path d=\"M 33.015625 40.375 \nQ 26.375 40.375 22.484375 35.828125 \nQ 18.609375 31.296875 18.609375 23.390625 \nQ 18.609375 15.53125 22.484375 10.953125 \nQ 26.375 6.390625 33.015625 6.390625 \nQ 39.65625 6.390625 43.53125 10.953125 \nQ 47.40625 15.53125 47.40625 23.390625 \nQ 47.40625 31.296875 43.53125 35.828125 \nQ 39.65625 40.375 33.015625 40.375 \nz\nM 52.59375 71.296875 \nL 52.59375 62.3125 \nQ 48.875 64.0625 45.09375 64.984375 \nQ 41.3125 65.921875 37.59375 65.921875 \nQ 27.828125 65.921875 22.671875 59.328125 \nQ 17.53125 52.734375 16.796875 39.40625 \nQ 19.671875 43.65625 24.015625 45.921875 \nQ 28.375 48.1875 33.59375 48.1875 \nQ 44.578125 48.1875 50.953125 41.515625 \nQ 57.328125 34.859375 57.328125 23.390625 \nQ 57.328125 12.15625 50.6875 5.359375 \nQ 44.046875 -1.421875 33.015625 -1.421875 \nQ 20.359375 -1.421875 13.671875 8.265625 \nQ 6.984375 17.96875 6.984375 36.375 \nQ 6.984375 53.65625 15.1875 63.9375 \nQ 23.390625 74.21875 37.203125 74.21875 \nQ 40.921875 74.21875 44.703125 73.484375 \nQ 48.484375 72.75 52.59375 71.296875 \nz\n\" id=\"DejaVuSans-54\"/>\n      </defs>\n      <g transform=\"translate(24.235 146.399062)scale(0.12 -0.12)\">\n       <use xlink:href=\"#DejaVuSans-54\"/>\n      </g>\n     </g>\n    </g>\n    <g id=\"ytick_5\">\n     <g id=\"line2d_14\">\n      <g>\n       <use style=\"stroke:#000000;stroke-width:0.8;\" x=\"38.87\" xlink:href=\"#m93642ea8c5\" y=\"111.92\"/>\n      </g>\n     </g>\n     <g id=\"text_15\">\n      <!-- 8 -->\n      <defs>\n       <path d=\"M 31.78125 34.625 \nQ 24.75 34.625 20.71875 30.859375 \nQ 16.703125 27.09375 16.703125 20.515625 \nQ 16.703125 13.921875 20.71875 10.15625 \nQ 24.75 6.390625 31.78125 6.390625 \nQ 38.8125 6.390625 42.859375 10.171875 \nQ 46.921875 13.96875 46.921875 20.515625 \nQ 46.921875 27.09375 42.890625 30.859375 \nQ 38.875 34.625 31.78125 34.625 \nz\nM 21.921875 38.8125 \nQ 15.578125 40.375 12.03125 44.71875 \nQ 8.5 49.078125 8.5 55.328125 \nQ 8.5 64.0625 14.71875 69.140625 \nQ 20.953125 74.21875 31.78125 74.21875 \nQ 42.671875 74.21875 48.875 69.140625 \nQ 55.078125 64.0625 55.078125 55.328125 \nQ 55.078125 49.078125 51.53125 44.71875 \nQ 48 40.375 41.703125 38.8125 \nQ 48.828125 37.15625 52.796875 32.3125 \nQ 56.78125 27.484375 56.78125 20.515625 \nQ 56.78125 9.90625 50.3125 4.234375 \nQ 43.84375 -1.421875 31.78125 -1.421875 \nQ 19.734375 -1.421875 13.25 4.234375 \nQ 6.78125 9.90625 6.78125 20.515625 \nQ 6.78125 27.484375 10.78125 32.3125 \nQ 14.796875 37.15625 21.921875 38.8125 \nz\nM 18.3125 54.390625 \nQ 18.3125 48.734375 21.84375 45.5625 \nQ 25.390625 42.390625 31.78125 42.390625 \nQ 38.140625 42.390625 41.71875 45.5625 \nQ 45.3125 48.734375 45.3125 54.390625 \nQ 45.3125 60.0625 41.71875 63.234375 \nQ 38.140625 66.40625 31.78125 66.40625 \nQ 25.390625 66.40625 21.84375 63.234375 \nQ 18.3125 60.0625 18.3125 54.390625 \nz\n\" id=\"DejaVuSans-56\"/>\n      </defs>\n      <g transform=\"translate(24.235 116.479062)scale(0.12 -0.12)\">\n       <use xlink:href=\"#DejaVuSans-56\"/>\n      </g>\n     </g>\n    </g>\n    <g id=\"ytick_6\">\n     <g id=\"line2d_15\">\n      <g>\n       <use style=\"stroke:#000000;stroke-width:0.8;\" x=\"38.87\" xlink:href=\"#m93642ea8c5\" y=\"82\"/>\n      </g>\n     </g>\n     <g id=\"text_16\">\n      <!-- 10 -->\n      <g transform=\"translate(16.6 86.559062)scale(0.12 -0.12)\">\n       <use xlink:href=\"#DejaVuSans-49\"/>\n       <use x=\"63.623047\" xlink:href=\"#DejaVuSans-48\"/>\n      </g>\n     </g>\n    </g>\n    <g id=\"ytick_7\">\n     <g id=\"line2d_16\">\n      <g>\n       <use style=\"stroke:#000000;stroke-width:0.8;\" x=\"38.87\" xlink:href=\"#m93642ea8c5\" y=\"52.08\"/>\n      </g>\n     </g>\n     <g id=\"text_17\">\n      <!-- 12 -->\n      <g transform=\"translate(16.6 56.639062)scale(0.12 -0.12)\">\n       <use xlink:href=\"#DejaVuSans-49\"/>\n       <use x=\"63.623047\" xlink:href=\"#DejaVuSans-50\"/>\n      </g>\n     </g>\n    </g>\n    <g id=\"ytick_8\">\n     <g id=\"line2d_17\">\n      <g>\n       <use style=\"stroke:#000000;stroke-width:0.8;\" x=\"38.87\" xlink:href=\"#m93642ea8c5\" y=\"22.16\"/>\n      </g>\n     </g>\n     <g id=\"text_18\">\n      <!-- 14 -->\n      <g transform=\"translate(16.6 26.719062)scale(0.12 -0.12)\">\n       <use xlink:href=\"#DejaVuSans-49\"/>\n       <use x=\"63.623047\" xlink:href=\"#DejaVuSans-52\"/>\n      </g>\n     </g>\n    </g>\n    <g id=\"text_19\">\n     <!-- $y$ -->\n     <defs>\n      <path d=\"M 24.8125 -5.078125 \nQ 18.5625 -15.578125 14.625 -18.1875 \nQ 10.6875 -20.796875 4.59375 -20.796875 \nL -2.484375 -20.796875 \nL -0.984375 -13.28125 \nL 4.203125 -13.28125 \nQ 7.953125 -13.28125 10.59375 -11.234375 \nQ 13.234375 -9.1875 16.5 -3.21875 \nL 19.28125 2 \nL 7.171875 54.6875 \nL 16.703125 54.6875 \nL 25.78125 12.796875 \nL 50.875 54.6875 \nL 60.296875 54.6875 \nz\n\" id=\"DejaVuSans-Oblique-121\"/>\n     </defs>\n     <g transform=\"translate(7.2 115.62)scale(0.18 -0.18)\">\n      <use transform=\"translate(0 0.3125)\" xlink:href=\"#DejaVuSans-Oblique-121\"/>\n     </g>\n    </g>\n   </g>\n   <g id=\"line2d_18\">\n    <path clip-path=\"url(#pa04b981ad1)\" d=\"M 38.87 168.542161 \nL 403.05125 85.660369 \n\" style=\"fill:none;stroke:#ff0000;stroke-linecap:square;stroke-width:2;\"/>\n   </g>\n   <g id=\"line2d_19\">\n    <defs>\n     <path d=\"M 0 1.5 \nC 0.397805 1.5 0.77937 1.341951 1.06066 1.06066 \nC 1.341951 0.77937 1.5 0.397805 1.5 0 \nC 1.5 -0.397805 1.341951 -0.77937 1.06066 -1.06066 \nC 0.77937 -1.341951 0.397805 -1.5 0 -1.5 \nC -0.397805 -1.5 -0.77937 -1.341951 -1.06066 -1.06066 \nC -1.341951 -0.77937 -1.5 -0.397805 -1.5 0 \nC -1.5 0.397805 -1.341951 0.77937 -1.06066 1.06066 \nC -0.77937 1.341951 -0.397805 1.5 0 1.5 \nz\n\" id=\"mcf2fd4f0d5\" style=\"stroke:#0000ff;\"/>\n    </defs>\n    <g clip-path=\"url(#pa04b981ad1)\">\n     <use style=\"fill:#0000ff;stroke:#0000ff;\" x=\"175.270489\" xlink:href=\"#mcf2fd4f0d5\" y=\"136.839055\"/>\n     <use style=\"fill:#0000ff;stroke:#0000ff;\" x=\"385.102325\" xlink:href=\"#mcf2fd4f0d5\" y=\"90.897034\"/>\n     <use style=\"fill:#0000ff;stroke:#0000ff;\" x=\"305.448469\" xlink:href=\"#mcf2fd4f0d5\" y=\"104.683483\"/>\n     <use style=\"fill:#0000ff;stroke:#0000ff;\" x=\"256.890195\" xlink:href=\"#mcf2fd4f0d5\" y=\"147.758445\"/>\n     <use style=\"fill:#0000ff;stroke:#0000ff;\" x=\"95.689063\" xlink:href=\"#mcf2fd4f0d5\" y=\"161.042058\"/>\n     <use style=\"fill:#0000ff;stroke:#0000ff;\" x=\"95.680279\" xlink:href=\"#mcf2fd4f0d5\" y=\"152.415528\"/>\n     <use style=\"fill:#0000ff;stroke:#0000ff;\" x=\"60.022962\" xlink:href=\"#mcf2fd4f0d5\" y=\"144.43712\"/>\n     <use style=\"fill:#0000ff;stroke:#0000ff;\" x=\"354.315111\" xlink:href=\"#mcf2fd4f0d5\" y=\"101.765352\"/>\n     <use style=\"fill:#0000ff;stroke:#0000ff;\" x=\"257.784816\" xlink:href=\"#mcf2fd4f0d5\" y=\"129.898981\"/>\n     <use style=\"fill:#0000ff;stroke:#0000ff;\" x=\"296.736756\" xlink:href=\"#mcf2fd4f0d5\" y=\"115.709691\"/>\n     <use style=\"fill:#0000ff;stroke:#0000ff;\" x=\"46.366487\" xlink:href=\"#mcf2fd4f0d5\" y=\"156.21792\"/>\n     <use style=\"fill:#0000ff;stroke:#0000ff;\" x=\"392.092982\" xlink:href=\"#mcf2fd4f0d5\" y=\"79.782775\"/>\n     <use style=\"fill:#0000ff;stroke:#0000ff;\" x=\"342.030001\" xlink:href=\"#mcf2fd4f0d5\" y=\"104.965161\"/>\n     <use style=\"fill:#0000ff;stroke:#0000ff;\" x=\"116.199923\" xlink:href=\"#mcf2fd4f0d5\" y=\"145.021961\"/>\n     <use style=\"fill:#0000ff;stroke:#0000ff;\" x=\"105.087244\" xlink:href=\"#mcf2fd4f0d5\" y=\"153.987111\"/>\n     <use style=\"fill:#0000ff;stroke:#0000ff;\" x=\"105.662484\" xlink:href=\"#mcf2fd4f0d5\" y=\"140.806682\"/>\n     <use style=\"fill:#0000ff;stroke:#0000ff;\" x=\"149.66932\" xlink:href=\"#mcf2fd4f0d5\" y=\"154.953931\"/>\n     <use style=\"fill:#0000ff;stroke:#0000ff;\" x=\"229.976453\" xlink:href=\"#mcf2fd4f0d5\" y=\"129.559688\"/>\n     <use style=\"fill:#0000ff;stroke:#0000ff;\" x=\"196.176277\" xlink:href=\"#mcf2fd4f0d5\" y=\"138.854553\"/>\n     <use style=\"fill:#0000ff;stroke:#0000ff;\" x=\"144.930192\" xlink:href=\"#mcf2fd4f0d5\" y=\"167.513456\"/>\n     <use style=\"fill:#0000ff;stroke:#0000ff;\" x=\"261.695352\" xlink:href=\"#mcf2fd4f0d5\" y=\"112.410125\"/>\n     <use style=\"fill:#0000ff;stroke:#0000ff;\" x=\"89.671049\" xlink:href=\"#mcf2fd4f0d5\" y=\"155.333644\"/>\n     <use style=\"fill:#0000ff;stroke:#0000ff;\" x=\"145.263603\" xlink:href=\"#mcf2fd4f0d5\" y=\"145.460599\"/>\n     <use style=\"fill:#0000ff;stroke:#0000ff;\" x=\"172.292114\" xlink:href=\"#mcf2fd4f0d5\" y=\"142.384784\"/>\n     <use style=\"fill:#0000ff;stroke:#0000ff;\" x=\"204.962137\" xlink:href=\"#mcf2fd4f0d5\" y=\"151.997105\"/>\n     <use style=\"fill:#0000ff;stroke:#0000ff;\" x=\"324.816363\" xlink:href=\"#mcf2fd4f0d5\" y=\"107.57546\"/>\n     <use style=\"fill:#0000ff;stroke:#0000ff;\" x=\"111.587448\" xlink:href=\"#mcf2fd4f0d5\" y=\"158.96429\"/>\n     <use style=\"fill:#0000ff;stroke:#0000ff;\" x=\"226.144541\" xlink:href=\"#mcf2fd4f0d5\" y=\"137.604385\"/>\n     <use style=\"fill:#0000ff;stroke:#0000ff;\" x=\"254.616278\" xlink:href=\"#mcf2fd4f0d5\" y=\"120.997703\"/>\n     <use style=\"fill:#0000ff;stroke:#0000ff;\" x=\"55.786369\" xlink:href=\"#mcf2fd4f0d5\" y=\"161.54601\"/>\n     <use style=\"fill:#0000ff;stroke:#0000ff;\" x=\"260.126444\" xlink:href=\"#mcf2fd4f0d5\" y=\"89.009433\"/>\n     <use style=\"fill:#0000ff;stroke:#0000ff;\" x=\"100.971689\" xlink:href=\"#mcf2fd4f0d5\" y=\"153.842071\"/>\n     <use style=\"fill:#0000ff;stroke:#0000ff;\" x=\"62.56057\" xlink:href=\"#mcf2fd4f0d5\" y=\"162.068015\"/>\n     <use style=\"fill:#0000ff;stroke:#0000ff;\" x=\"384.436321\" xlink:href=\"#mcf2fd4f0d5\" y=\"87.701745\"/>\n     <use style=\"fill:#0000ff;stroke:#0000ff;\" x=\"390.535081\" xlink:href=\"#mcf2fd4f0d5\" y=\"113.789686\"/>\n     <use style=\"fill:#0000ff;stroke:#0000ff;\" x=\"333.273157\" xlink:href=\"#mcf2fd4f0d5\" y=\"99.594902\"/>\n     <use style=\"fill:#0000ff;stroke:#0000ff;\" x=\"149.804623\" xlink:href=\"#mcf2fd4f0d5\" y=\"143.516824\"/>\n     <use style=\"fill:#0000ff;stroke:#0000ff;\" x=\"74.440353\" xlink:href=\"#mcf2fd4f0d5\" y=\"126.142849\"/>\n     <use style=\"fill:#0000ff;stroke:#0000ff;\" x=\"288.054839\" xlink:href=\"#mcf2fd4f0d5\" y=\"113.220964\"/>\n     <use style=\"fill:#0000ff;stroke:#0000ff;\" x=\"199.165285\" xlink:href=\"#mcf2fd4f0d5\" y=\"127.740764\"/>\n     <use style=\"fill:#0000ff;stroke:#0000ff;\" x=\"83.314037\" xlink:href=\"#mcf2fd4f0d5\" y=\"161.325136\"/>\n     <use style=\"fill:#0000ff;stroke:#0000ff;\" x=\"219.204146\" xlink:href=\"#mcf2fd4f0d5\" y=\"144.796344\"/>\n     <use style=\"fill:#0000ff;stroke:#0000ff;\" x=\"51.393655\" xlink:href=\"#mcf2fd4f0d5\" y=\"151.576657\"/>\n     <use style=\"fill:#0000ff;stroke:#0000ff;\" x=\"370.027441\" xlink:href=\"#mcf2fd4f0d5\" y=\"78.890483\"/>\n     <use style=\"fill:#0000ff;stroke:#0000ff;\" x=\"133.112817\" xlink:href=\"#mcf2fd4f0d5\" y=\"136.698071\"/>\n     <use style=\"fill:#0000ff;stroke:#0000ff;\" x=\"280.148194\" xlink:href=\"#mcf2fd4f0d5\" y=\"125.896436\"/>\n     <use style=\"fill:#0000ff;stroke:#0000ff;\" x=\"152.389329\" xlink:href=\"#mcf2fd4f0d5\" y=\"122.795011\"/>\n     <use style=\"fill:#0000ff;stroke:#0000ff;\" x=\"228.269022\" xlink:href=\"#mcf2fd4f0d5\" y=\"146.050386\"/>\n     <use style=\"fill:#0000ff;stroke:#0000ff;\" x=\"237.971633\" xlink:href=\"#mcf2fd4f0d5\" y=\"113.907903\"/>\n     <use style=\"fill:#0000ff;stroke:#0000ff;\" x=\"106.190527\" xlink:href=\"#mcf2fd4f0d5\" y=\"122.398248\"/>\n     <use style=\"fill:#0000ff;stroke:#0000ff;\" x=\"391.974542\" xlink:href=\"#mcf2fd4f0d5\" y=\"99.548507\"/>\n     <use style=\"fill:#0000ff;stroke:#0000ff;\" x=\"321.158841\" xlink:href=\"#mcf2fd4f0d5\" y=\"110.655892\"/>\n     <use style=\"fill:#0000ff;stroke:#0000ff;\" x=\"381.017899\" xlink:href=\"#mcf2fd4f0d5\" y=\"85.939791\"/>\n     <use style=\"fill:#0000ff;stroke:#0000ff;\" x=\"364.749343\" xlink:href=\"#mcf2fd4f0d5\" y=\"98.972293\"/>\n     <use style=\"fill:#0000ff;stroke:#0000ff;\" x=\"256.613962\" xlink:href=\"#mcf2fd4f0d5\" y=\"141.290423\"/>\n     <use style=\"fill:#0000ff;stroke:#0000ff;\" x=\"374.599311\" xlink:href=\"#mcf2fd4f0d5\" y=\"87.986867\"/>\n     <use style=\"fill:#0000ff;stroke:#0000ff;\" x=\"71.09731\" xlink:href=\"#mcf2fd4f0d5\" y=\"179.708977\"/>\n     <use style=\"fill:#0000ff;stroke:#0000ff;\" x=\"110.243284\" xlink:href=\"#mcf2fd4f0d5\" y=\"147.083636\"/>\n     <use style=\"fill:#0000ff;stroke:#0000ff;\" x=\"55.340931\" xlink:href=\"#mcf2fd4f0d5\" y=\"181.454985\"/>\n     <use style=\"fill:#0000ff;stroke:#0000ff;\" x=\"157.349207\" xlink:href=\"#mcf2fd4f0d5\" y=\"119.371331\"/>\n     <use style=\"fill:#0000ff;stroke:#0000ff;\" x=\"180.418981\" xlink:href=\"#mcf2fd4f0d5\" y=\"148.589796\"/>\n     <use style=\"fill:#0000ff;stroke:#0000ff;\" x=\"137.69023\" xlink:href=\"#mcf2fd4f0d5\" y=\"152.221751\"/>\n     <use style=\"fill:#0000ff;stroke:#0000ff;\" x=\"340.680662\" xlink:href=\"#mcf2fd4f0d5\" y=\"85.202304\"/>\n     <use style=\"fill:#0000ff;stroke:#0000ff;\" x=\"168.792872\" xlink:href=\"#mcf2fd4f0d5\" y=\"158.151552\"/>\n     <use style=\"fill:#0000ff;stroke:#0000ff;\" x=\"141.181081\" xlink:href=\"#mcf2fd4f0d5\" y=\"143.140518\"/>\n     <use style=\"fill:#0000ff;stroke:#0000ff;\" x=\"236.509738\" xlink:href=\"#mcf2fd4f0d5\" y=\"103.492744\"/>\n     <use style=\"fill:#0000ff;stroke:#0000ff;\" x=\"90.19196\" xlink:href=\"#mcf2fd4f0d5\" y=\"183.158591\"/>\n     <use style=\"fill:#0000ff;stroke:#0000ff;\" x=\"331.015099\" xlink:href=\"#mcf2fd4f0d5\" y=\"96.992676\"/>\n     <use style=\"fill:#0000ff;stroke:#0000ff;\" x=\"66.019947\" xlink:href=\"#mcf2fd4f0d5\" y=\"161.180488\"/>\n     <use style=\"fill:#0000ff;stroke:#0000ff;\" x=\"398.275718\" xlink:href=\"#mcf2fd4f0d5\" y=\"71.480958\"/>\n     <use style=\"fill:#0000ff;stroke:#0000ff;\" x=\"320.107065\" xlink:href=\"#mcf2fd4f0d5\" y=\"120.948092\"/>\n     <use style=\"fill:#0000ff;stroke:#0000ff;\" x=\"111.238525\" xlink:href=\"#mcf2fd4f0d5\" y=\"173.677311\"/>\n     <use style=\"fill:#0000ff;stroke:#0000ff;\" x=\"40.881052\" xlink:href=\"#mcf2fd4f0d5\" y=\"163.456089\"/>\n     <use style=\"fill:#0000ff;stroke:#0000ff;\" x=\"335.845762\" xlink:href=\"#mcf2fd4f0d5\" y=\"94.121291\"/>\n     <use style=\"fill:#0000ff;stroke:#0000ff;\" x=\"296.294191\" xlink:href=\"#mcf2fd4f0d5\" y=\"104.565112\"/>\n     <use style=\"fill:#0000ff;stroke:#0000ff;\" x=\"304.360742\" xlink:href=\"#mcf2fd4f0d5\" y=\"101.141451\"/>\n     <use style=\"fill:#0000ff;stroke:#0000ff;\" x=\"319.752199\" xlink:href=\"#mcf2fd4f0d5\" y=\"112.703944\"/>\n     <use style=\"fill:#0000ff;stroke:#0000ff;\" x=\"65.835674\" xlink:href=\"#mcf2fd4f0d5\" y=\"161.639237\"/>\n     <use style=\"fill:#0000ff;stroke:#0000ff;\" x=\"169.416497\" xlink:href=\"#mcf2fd4f0d5\" y=\"135.199752\"/>\n     <use style=\"fill:#0000ff;stroke:#0000ff;\" x=\"81.067339\" xlink:href=\"#mcf2fd4f0d5\" y=\"172.04629\"/>\n     <use style=\"fill:#0000ff;stroke:#0000ff;\" x=\"353.196085\" xlink:href=\"#mcf2fd4f0d5\" y=\"66.37585\"/>\n     <use style=\"fill:#0000ff;stroke:#0000ff;\" x=\"265.863491\" xlink:href=\"#mcf2fd4f0d5\" y=\"108.72422\"/>\n     <use style=\"fill:#0000ff;stroke:#0000ff;\" x=\"159.376856\" xlink:href=\"#mcf2fd4f0d5\" y=\"159.880494\"/>\n     <use style=\"fill:#0000ff;stroke:#0000ff;\" x=\"62.016759\" xlink:href=\"#mcf2fd4f0d5\" y=\"156.23296\"/>\n     <use style=\"fill:#0000ff;stroke:#0000ff;\" x=\"152.123931\" xlink:href=\"#mcf2fd4f0d5\" y=\"158.427465\"/>\n     <use style=\"fill:#0000ff;stroke:#0000ff;\" x=\"157.295669\" xlink:href=\"#mcf2fd4f0d5\" y=\"130.796759\"/>\n     <use style=\"fill:#0000ff;stroke:#0000ff;\" x=\"304.57889\" xlink:href=\"#mcf2fd4f0d5\" y=\"88.93796\"/>\n     <use style=\"fill:#0000ff;stroke:#0000ff;\" x=\"271.056477\" xlink:href=\"#mcf2fd4f0d5\" y=\"126.810249\"/>\n     <use style=\"fill:#0000ff;stroke:#0000ff;\" x=\"361.976246\" xlink:href=\"#mcf2fd4f0d5\" y=\"77.711677\"/>\n     <use style=\"fill:#0000ff;stroke:#0000ff;\" x=\"210.841822\" xlink:href=\"#mcf2fd4f0d5\" y=\"123.198786\"/>\n     <use style=\"fill:#0000ff;stroke:#0000ff;\" x=\"82.423982\" xlink:href=\"#mcf2fd4f0d5\" y=\"148.7272\"/>\n     <use style=\"fill:#0000ff;stroke:#0000ff;\" x=\"298.620378\" xlink:href=\"#mcf2fd4f0d5\" y=\"79.363125\"/>\n     <use style=\"fill:#0000ff;stroke:#0000ff;\" x=\"315.93365\" xlink:href=\"#mcf2fd4f0d5\" y=\"107.14294\"/>\n     <use style=\"fill:#0000ff;stroke:#0000ff;\" x=\"243.276631\" xlink:href=\"#mcf2fd4f0d5\" y=\"132.655652\"/>\n     <use style=\"fill:#0000ff;stroke:#0000ff;\" x=\"319.641791\" xlink:href=\"#mcf2fd4f0d5\" y=\"115.865122\"/>\n     <use style=\"fill:#0000ff;stroke:#0000ff;\" x=\"218.701098\" xlink:href=\"#mcf2fd4f0d5\" y=\"139.641429\"/>\n     <use style=\"fill:#0000ff;stroke:#0000ff;\" x=\"229.239495\" xlink:href=\"#mcf2fd4f0d5\" y=\"125.992943\"/>\n     <use style=\"fill:#0000ff;stroke:#0000ff;\" x=\"194.572422\" xlink:href=\"#mcf2fd4f0d5\" y=\"128.280285\"/>\n     <use style=\"fill:#0000ff;stroke:#0000ff;\" x=\"48.127169\" xlink:href=\"#mcf2fd4f0d5\" y=\"165.339085\"/>\n     <use style=\"fill:#0000ff;stroke:#0000ff;\" x=\"78.162035\" xlink:href=\"#mcf2fd4f0d5\" y=\"149.701004\"/>\n    </g>\n   </g>\n   <g id=\"patch_3\">\n    <path d=\"M 38.87 231.6 \nL 38.87 7.2 \n\" style=\"fill:none;stroke:#000000;stroke-linecap:square;stroke-linejoin:miter;stroke-width:0.8;\"/>\n   </g>\n   <g id=\"patch_4\">\n    <path d=\"M 403.05125 231.6 \nL 403.05125 7.2 \n\" style=\"fill:none;stroke:#000000;stroke-linecap:square;stroke-linejoin:miter;stroke-width:0.8;\"/>\n   </g>\n   <g id=\"patch_5\">\n    <path d=\"M 38.87 231.6 \nL 403.05125 231.6 \n\" style=\"fill:none;stroke:#000000;stroke-linecap:square;stroke-linejoin:miter;stroke-width:0.8;\"/>\n   </g>\n   <g id=\"patch_6\">\n    <path d=\"M 38.87 7.2 \nL 403.05125 7.2 \n\" style=\"fill:none;stroke:#000000;stroke-linecap:square;stroke-linejoin:miter;stroke-width:0.8;\"/>\n   </g>\n   <g id=\"legend_1\">\n    <g id=\"patch_7\">\n     <path d=\"M 48.67 38.949375 \nL 170.859375 38.949375 \nQ 173.659375 38.949375 173.659375 36.149375 \nL 173.659375 17 \nQ 173.659375 14.2 170.859375 14.2 \nL 48.67 14.2 \nQ 45.87 14.2 45.87 17 \nL 45.87 36.149375 \nQ 45.87 38.949375 48.67 38.949375 \nz\n\" style=\"fill:#ffffff;opacity:0.8;stroke:#cccccc;stroke-linejoin:miter;\"/>\n    </g>\n    <g id=\"line2d_20\">\n     <path d=\"M 51.47 25.537812 \nL 79.47 25.537812 \n\" style=\"fill:none;stroke:#ff0000;stroke-linecap:square;stroke-width:2;\"/>\n    </g>\n    <g id=\"line2d_21\"/>\n    <g id=\"text_20\">\n     <!-- Predictions -->\n     <defs>\n      <path d=\"M 19.671875 64.796875 \nL 19.671875 37.40625 \nL 32.078125 37.40625 \nQ 38.96875 37.40625 42.71875 40.96875 \nQ 46.484375 44.53125 46.484375 51.125 \nQ 46.484375 57.671875 42.71875 61.234375 \nQ 38.96875 64.796875 32.078125 64.796875 \nz\nM 9.8125 72.90625 \nL 32.078125 72.90625 \nQ 44.34375 72.90625 50.609375 67.359375 \nQ 56.890625 61.8125 56.890625 51.125 \nQ 56.890625 40.328125 50.609375 34.8125 \nQ 44.34375 29.296875 32.078125 29.296875 \nL 19.671875 29.296875 \nL 19.671875 0 \nL 9.8125 0 \nz\n\" id=\"DejaVuSans-80\"/>\n      <path d=\"M 41.109375 46.296875 \nQ 39.59375 47.171875 37.8125 47.578125 \nQ 36.03125 48 33.890625 48 \nQ 26.265625 48 22.1875 43.046875 \nQ 18.109375 38.09375 18.109375 28.8125 \nL 18.109375 0 \nL 9.078125 0 \nL 9.078125 54.6875 \nL 18.109375 54.6875 \nL 18.109375 46.1875 \nQ 20.953125 51.171875 25.484375 53.578125 \nQ 30.03125 56 36.53125 56 \nQ 37.453125 56 38.578125 55.875 \nQ 39.703125 55.765625 41.0625 55.515625 \nz\n\" id=\"DejaVuSans-114\"/>\n      <path d=\"M 56.203125 29.59375 \nL 56.203125 25.203125 \nL 14.890625 25.203125 \nQ 15.484375 15.921875 20.484375 11.0625 \nQ 25.484375 6.203125 34.421875 6.203125 \nQ 39.59375 6.203125 44.453125 7.46875 \nQ 49.3125 8.734375 54.109375 11.28125 \nL 54.109375 2.78125 \nQ 49.265625 0.734375 44.1875 -0.34375 \nQ 39.109375 -1.421875 33.890625 -1.421875 \nQ 20.796875 -1.421875 13.15625 6.1875 \nQ 5.515625 13.8125 5.515625 26.8125 \nQ 5.515625 40.234375 12.765625 48.109375 \nQ 20.015625 56 32.328125 56 \nQ 43.359375 56 49.78125 48.890625 \nQ 56.203125 41.796875 56.203125 29.59375 \nz\nM 47.21875 32.234375 \nQ 47.125 39.59375 43.09375 43.984375 \nQ 39.0625 48.390625 32.421875 48.390625 \nQ 24.90625 48.390625 20.390625 44.140625 \nQ 15.875 39.890625 15.1875 32.171875 \nz\n\" id=\"DejaVuSans-101\"/>\n      <path d=\"M 45.40625 46.390625 \nL 45.40625 75.984375 \nL 54.390625 75.984375 \nL 54.390625 0 \nL 45.40625 0 \nL 45.40625 8.203125 \nQ 42.578125 3.328125 38.25 0.953125 \nQ 33.9375 -1.421875 27.875 -1.421875 \nQ 17.96875 -1.421875 11.734375 6.484375 \nQ 5.515625 14.40625 5.515625 27.296875 \nQ 5.515625 40.1875 11.734375 48.09375 \nQ 17.96875 56 27.875 56 \nQ 33.9375 56 38.25 53.625 \nQ 42.578125 51.265625 45.40625 46.390625 \nz\nM 14.796875 27.296875 \nQ 14.796875 17.390625 18.875 11.75 \nQ 22.953125 6.109375 30.078125 6.109375 \nQ 37.203125 6.109375 41.296875 11.75 \nQ 45.40625 17.390625 45.40625 27.296875 \nQ 45.40625 37.203125 41.296875 42.84375 \nQ 37.203125 48.484375 30.078125 48.484375 \nQ 22.953125 48.484375 18.875 42.84375 \nQ 14.796875 37.203125 14.796875 27.296875 \nz\n\" id=\"DejaVuSans-100\"/>\n      <path d=\"M 9.421875 54.6875 \nL 18.40625 54.6875 \nL 18.40625 0 \nL 9.421875 0 \nz\nM 9.421875 75.984375 \nL 18.40625 75.984375 \nL 18.40625 64.59375 \nL 9.421875 64.59375 \nz\n\" id=\"DejaVuSans-105\"/>\n      <path d=\"M 48.78125 52.59375 \nL 48.78125 44.1875 \nQ 44.96875 46.296875 41.140625 47.34375 \nQ 37.3125 48.390625 33.40625 48.390625 \nQ 24.65625 48.390625 19.8125 42.84375 \nQ 14.984375 37.3125 14.984375 27.296875 \nQ 14.984375 17.28125 19.8125 11.734375 \nQ 24.65625 6.203125 33.40625 6.203125 \nQ 37.3125 6.203125 41.140625 7.25 \nQ 44.96875 8.296875 48.78125 10.40625 \nL 48.78125 2.09375 \nQ 45.015625 0.34375 40.984375 -0.53125 \nQ 36.96875 -1.421875 32.421875 -1.421875 \nQ 20.0625 -1.421875 12.78125 6.34375 \nQ 5.515625 14.109375 5.515625 27.296875 \nQ 5.515625 40.671875 12.859375 48.328125 \nQ 20.21875 56 33.015625 56 \nQ 37.15625 56 41.109375 55.140625 \nQ 45.0625 54.296875 48.78125 52.59375 \nz\n\" id=\"DejaVuSans-99\"/>\n      <path d=\"M 18.3125 70.21875 \nL 18.3125 54.6875 \nL 36.8125 54.6875 \nL 36.8125 47.703125 \nL 18.3125 47.703125 \nL 18.3125 18.015625 \nQ 18.3125 11.328125 20.140625 9.421875 \nQ 21.96875 7.515625 27.59375 7.515625 \nL 36.8125 7.515625 \nL 36.8125 0 \nL 27.59375 0 \nQ 17.1875 0 13.234375 3.875 \nQ 9.28125 7.765625 9.28125 18.015625 \nL 9.28125 47.703125 \nL 2.6875 47.703125 \nL 2.6875 54.6875 \nL 9.28125 54.6875 \nL 9.28125 70.21875 \nz\n\" id=\"DejaVuSans-116\"/>\n      <path d=\"M 30.609375 48.390625 \nQ 23.390625 48.390625 19.1875 42.75 \nQ 14.984375 37.109375 14.984375 27.296875 \nQ 14.984375 17.484375 19.15625 11.84375 \nQ 23.34375 6.203125 30.609375 6.203125 \nQ 37.796875 6.203125 41.984375 11.859375 \nQ 46.1875 17.53125 46.1875 27.296875 \nQ 46.1875 37.015625 41.984375 42.703125 \nQ 37.796875 48.390625 30.609375 48.390625 \nz\nM 30.609375 56 \nQ 42.328125 56 49.015625 48.375 \nQ 55.71875 40.765625 55.71875 27.296875 \nQ 55.71875 13.875 49.015625 6.21875 \nQ 42.328125 -1.421875 30.609375 -1.421875 \nQ 18.84375 -1.421875 12.171875 6.21875 \nQ 5.515625 13.875 5.515625 27.296875 \nQ 5.515625 40.765625 12.171875 48.375 \nQ 18.84375 56 30.609375 56 \nz\n\" id=\"DejaVuSans-111\"/>\n      <path d=\"M 54.890625 33.015625 \nL 54.890625 0 \nL 45.90625 0 \nL 45.90625 32.71875 \nQ 45.90625 40.484375 42.875 44.328125 \nQ 39.84375 48.1875 33.796875 48.1875 \nQ 26.515625 48.1875 22.3125 43.546875 \nQ 18.109375 38.921875 18.109375 30.90625 \nL 18.109375 0 \nL 9.078125 0 \nL 9.078125 54.6875 \nL 18.109375 54.6875 \nL 18.109375 46.1875 \nQ 21.34375 51.125 25.703125 53.5625 \nQ 30.078125 56 35.796875 56 \nQ 45.21875 56 50.046875 50.171875 \nQ 54.890625 44.34375 54.890625 33.015625 \nz\n\" id=\"DejaVuSans-110\"/>\n      <path d=\"M 44.28125 53.078125 \nL 44.28125 44.578125 \nQ 40.484375 46.53125 36.375 47.5 \nQ 32.28125 48.484375 27.875 48.484375 \nQ 21.1875 48.484375 17.84375 46.4375 \nQ 14.5 44.390625 14.5 40.28125 \nQ 14.5 37.15625 16.890625 35.375 \nQ 19.28125 33.59375 26.515625 31.984375 \nL 29.59375 31.296875 \nQ 39.15625 29.25 43.1875 25.515625 \nQ 47.21875 21.78125 47.21875 15.09375 \nQ 47.21875 7.46875 41.1875 3.015625 \nQ 35.15625 -1.421875 24.609375 -1.421875 \nQ 20.21875 -1.421875 15.453125 -0.5625 \nQ 10.6875 0.296875 5.421875 2 \nL 5.421875 11.28125 \nQ 10.40625 8.6875 15.234375 7.390625 \nQ 20.0625 6.109375 24.8125 6.109375 \nQ 31.15625 6.109375 34.5625 8.28125 \nQ 37.984375 10.453125 37.984375 14.40625 \nQ 37.984375 18.0625 35.515625 20.015625 \nQ 33.0625 21.96875 24.703125 23.78125 \nL 21.578125 24.515625 \nQ 13.234375 26.265625 9.515625 29.90625 \nQ 5.8125 33.546875 5.8125 39.890625 \nQ 5.8125 47.609375 11.28125 51.796875 \nQ 16.75 56 26.8125 56 \nQ 31.78125 56 36.171875 55.265625 \nQ 40.578125 54.546875 44.28125 53.078125 \nz\n\" id=\"DejaVuSans-115\"/>\n     </defs>\n     <g transform=\"translate(90.67 30.437812)scale(0.14 -0.14)\">\n      <use xlink:href=\"#DejaVuSans-80\"/>\n      <use x=\"60.287109\" xlink:href=\"#DejaVuSans-114\"/>\n      <use x=\"101.369141\" xlink:href=\"#DejaVuSans-101\"/>\n      <use x=\"162.892578\" xlink:href=\"#DejaVuSans-100\"/>\n      <use x=\"226.369141\" xlink:href=\"#DejaVuSans-105\"/>\n      <use x=\"254.152344\" xlink:href=\"#DejaVuSans-99\"/>\n      <use x=\"309.132812\" xlink:href=\"#DejaVuSans-116\"/>\n      <use x=\"348.341797\" xlink:href=\"#DejaVuSans-105\"/>\n      <use x=\"376.125\" xlink:href=\"#DejaVuSans-111\"/>\n      <use x=\"437.306641\" xlink:href=\"#DejaVuSans-110\"/>\n      <use x=\"500.685547\" xlink:href=\"#DejaVuSans-115\"/>\n     </g>\n    </g>\n   </g>\n  </g>\n </g>\n <defs>\n  <clipPath id=\"pa04b981ad1\">\n   <rect height=\"224.4\" width=\"364.18125\" x=\"38.87\" y=\"7.2\"/>\n  </clipPath>\n </defs>\n</svg>\n",
      "image/png": "[encoded data removed]"
     },
     "metadata": {
      "needs_background": "light"
     }
    }
   ],
   "source": [
    "plt.plot(X_new, y_predict, \"r-\", linewidth=2, label=\"Predictions\")\n",
    "plt.plot(X, y, \"b.\")\n",
    "plt.xlabel(\"$x_1$\", fontsize=18)\n",
    "plt.ylabel(\"$y$\", rotation=0, fontsize=18)\n",
    "plt.legend(loc=\"upper left\", fontsize=14)\n",
    "plt.axis([0, 2, 0, 15])\n",
    "save_fig(\"linear_model_predictions_plot\")\n",
    "plt.show()"
   ]
  },
  {
   "cell_type": "code",
   "execution_count": 9,
   "metadata": {},
   "outputs": [
    {
     "output_type": "execute_result",
     "data": {
      "text/plain": "(array([4.21509616]), array([[2.77011339]]))"
     },
     "metadata": {},
     "execution_count": 9
    }
   ],
   "source": [
    "from sklearn.linear_model import LinearRegression\n",
    "\n",
    "lin_reg = LinearRegression()\n",
    "lin_reg.fit(X, y)\n",
    "lin_reg.intercept_, lin_reg.coef_"
   ]
  },
  {
   "cell_type": "code",
   "execution_count": 10,
   "metadata": {},
   "outputs": [
    {
     "output_type": "execute_result",
     "data": {
      "text/plain": "array([[4.21509616],\n       [9.75532293]])"
     },
     "metadata": {},
     "execution_count": 10
    }
   ],
   "source": [
    "lin_reg.predict(X_new)"
   ]
  },
  {
   "cell_type": "markdown",
   "metadata": {},
   "source": [
    "The `LinearRegression` class is based on the `scipy.linalg.lstsq()` function (the name stands for \"least squares\"), which you could call directly:"
   ]
  },
  {
   "cell_type": "code",
   "execution_count": 11,
   "metadata": {},
   "outputs": [
    {
     "output_type": "execute_result",
     "data": {
      "text/plain": "array([[4.21509616],\n       [2.77011339]])"
     },
     "metadata": {},
     "execution_count": 11
    }
   ],
   "source": [
    "theta_best_svd, residuals, rank, s = np.linalg.lstsq(X_b, y, rcond=1e-6)\n",
    "theta_best_svd"
   ]
  },
  {
   "cell_type": "markdown",
   "metadata": {},
   "source": [
    "This function computes $\\mathbf{X}^+\\mathbf{y}$, where $\\mathbf{X}^{+}$ is the _pseudoinverse_ of $\\mathbf{X}$ (specifically the Moore-Penrose inverse). You can use `np.linalg.pinv()` to compute the pseudoinverse directly:"
   ]
  },
  {
   "cell_type": "code",
   "execution_count": null,
   "metadata": {},
   "outputs": [],
   "source": []
  },
  {
   "cell_type": "code",
   "execution_count": 12,
   "metadata": {},
   "outputs": [
    {
     "output_type": "execute_result",
     "data": {
      "text/plain": "array([[4.21509616],\n       [2.77011339]])"
     },
     "metadata": {},
     "execution_count": 12
    }
   ],
   "source": [
    "np.linalg.pinv(X_b).dot(y)"
   ]
  },
  {
   "cell_type": "markdown",
   "metadata": {},
   "source": [
    "# Linear regression using batch gradient descent"
   ]
  },
  {
   "cell_type": "code",
   "execution_count": 13,
   "metadata": {},
   "outputs": [],
   "source": [
    "eta = 0.1  # learning rate\n",
    "n_iterations = 1000\n",
    "m = 100\n",
    "\n",
    "theta = np.random.randn(2,1)  # random initialization\n",
    "\n",
    "for iteration in range(n_iterations):\n",
    "    gradients = 2/m * X_b.T.dot(X_b.dot(theta) - y)\n",
    "    theta = theta - eta * gradients"
   ]
  },
  {
   "cell_type": "code",
   "execution_count": 14,
   "metadata": {},
   "outputs": [
    {
     "output_type": "execute_result",
     "data": {
      "text/plain": "array([[4.21509616],\n       [2.77011339]])"
     },
     "metadata": {},
     "execution_count": 14
    }
   ],
   "source": [
    "theta"
   ]
  },
  {
   "cell_type": "code",
   "execution_count": 15,
   "metadata": {},
   "outputs": [
    {
     "output_type": "execute_result",
     "data": {
      "text/plain": "array([[4.21509616],\n       [9.75532293]])"
     },
     "metadata": {},
     "execution_count": 15
    }
   ],
   "source": [
    "X_new_b.dot(theta)"
   ]
  },
  {
   "cell_type": "code",
   "execution_count": 16,
   "metadata": {},
   "outputs": [],
   "source": [
    "theta_path_bgd = []\n",
    "\n",
    "def plot_gradient_descent(theta, eta, theta_path=None):\n",
    "    m = len(X_b)\n",
    "    plt.plot(X, y, \"b.\")\n",
    "    n_iterations = 1000\n",
    "    for iteration in range(n_iterations):\n",
    "        if iteration < 10:\n",
    "            y_predict = X_new_b.dot(theta)\n",
    "            style = \"b-\" if iteration > 0 else \"r--\"\n",
    "            plt.plot(X_new, y_predict, style)\n",
    "        gradients = 2/m * X_b.T.dot(X_b.dot(theta) - y)\n",
    "        theta = theta - eta * gradients\n",
    "        if theta_path is not None:\n",
    "            theta_path.append(theta)\n",
    "    plt.xlabel(\"$x_1$\", fontsize=18)\n",
    "    plt.axis([0, 2, 0, 15])\n",
    "    plt.title(r\"$\\eta = {}$\".format(eta), fontsize=16)"
   ]
  },
  {
   "cell_type": "code",
   "execution_count": 17,
   "metadata": {},
   "outputs": [
    {
     "output_type": "stream",
     "name": "stdout",
     "text": "Saving figure gradient_descent_plot\n"
    },
    {
     "output_type": "display_data",
     "data": {
      "text/plain": "<Figure size 720x288 with 3 Axes>",
      "image/svg+xml": "<?xml version=\"1.0\" encoding=\"utf-8\" standalone=\"no\"?>\n<!DOCTYPE svg PUBLIC \"-//W3C//DTD SVG 1.1//EN\"\n  \"http://www.w3.org/Graphics/SVG/1.1/DTD/svg11.dtd\">\n<!-- Created with matplotlib (https://matplotlib.org/) -->\n<svg height=\"276.959375pt\" version=\"1.1\" viewBox=\"0 0 711.605625 276.959375\" width=\"711.605625pt\" xmlns=\"http://www.w3.org/2000/svg\" xmlns:xlink=\"http://www.w3.org/1999/xlink\">\n <defs>\n  <style type=\"text/css\">\n*{stroke-linecap:butt;stroke-linejoin:round;}\n  </style>\n </defs>\n <g id=\"figure_1\">\n  <g id=\"patch_1\">\n   <path d=\"M 0 276.959375 \nL 711.605625 276.959375 \nL 711.605625 0 \nL 0 0 \nz\n\" style=\"fill:none;\"/>\n  </g>\n  <g id=\"axes_1\">\n   <g id=\"patch_2\">\n    <path d=\"M 38.87 229.725 \nL 229.167917 229.725 \nL 229.167917 25.325 \nL 38.87 25.325 \nz\n\" style=\"fill:#ffffff;\"/>\n   </g>\n   <g id=\"matplotlib.axis_1\">\n    <g id=\"xtick_1\">\n     <g id=\"line2d_1\">\n      <defs>\n       <path d=\"M 0 0 \nL 0 3.5 \n\" id=\"m459d78ca28\" style=\"stroke:#000000;stroke-width:0.8;\"/>\n      </defs>\n      <g>\n       <use style=\"stroke:#000000;stroke-width:0.8;\" x=\"38.87\" xlink:href=\"#m459d78ca28\" y=\"229.725\"/>\n      </g>\n     </g>\n     <g id=\"text_1\">\n      <!-- 0.0 -->\n      <defs>\n       <path d=\"M 31.78125 66.40625 \nQ 24.171875 66.40625 20.328125 58.90625 \nQ 16.5 51.421875 16.5 36.375 \nQ 16.5 21.390625 20.328125 13.890625 \nQ 24.171875 6.390625 31.78125 6.390625 \nQ 39.453125 6.390625 43.28125 13.890625 \nQ 47.125 21.390625 47.125 36.375 \nQ 47.125 51.421875 43.28125 58.90625 \nQ 39.453125 66.40625 31.78125 66.40625 \nz\nM 31.78125 74.21875 \nQ 44.046875 74.21875 50.515625 64.515625 \nQ 56.984375 54.828125 56.984375 36.375 \nQ 56.984375 17.96875 50.515625 8.265625 \nQ 44.046875 -1.421875 31.78125 -1.421875 \nQ 19.53125 -1.421875 13.0625 8.265625 \nQ 6.59375 17.96875 6.59375 36.375 \nQ 6.59375 54.828125 13.0625 64.515625 \nQ 19.53125 74.21875 31.78125 74.21875 \nz\n\" id=\"DejaVuSans-48\"/>\n       <path d=\"M 10.6875 12.40625 \nL 21 12.40625 \nL 21 0 \nL 10.6875 0 \nz\n\" id=\"DejaVuSans-46\"/>\n      </defs>\n      <g transform=\"translate(29.328125 245.843125)scale(0.12 -0.12)\">\n       <use xlink:href=\"#DejaVuSans-48\"/>\n       <use x=\"63.623047\" xlink:href=\"#DejaVuSans-46\"/>\n       <use x=\"95.410156\" xlink:href=\"#DejaVuSans-48\"/>\n      </g>\n     </g>\n    </g>\n    <g id=\"xtick_2\">\n     <g id=\"line2d_2\">\n      <g>\n       <use style=\"stroke:#000000;stroke-width:0.8;\" x=\"86.444479\" xlink:href=\"#m459d78ca28\" y=\"229.725\"/>\n      </g>\n     </g>\n     <g id=\"text_2\">\n      <!-- 0.5 -->\n      <defs>\n       <path d=\"M 10.796875 72.90625 \nL 49.515625 72.90625 \nL 49.515625 64.59375 \nL 19.828125 64.59375 \nL 19.828125 46.734375 \nQ 21.96875 47.46875 24.109375 47.828125 \nQ 26.265625 48.1875 28.421875 48.1875 \nQ 40.625 48.1875 47.75 41.5 \nQ 54.890625 34.8125 54.890625 23.390625 \nQ 54.890625 11.625 47.5625 5.09375 \nQ 40.234375 -1.421875 26.90625 -1.421875 \nQ 22.3125 -1.421875 17.546875 -0.640625 \nQ 12.796875 0.140625 7.71875 1.703125 \nL 7.71875 11.625 \nQ 12.109375 9.234375 16.796875 8.0625 \nQ 21.484375 6.890625 26.703125 6.890625 \nQ 35.15625 6.890625 40.078125 11.328125 \nQ 45.015625 15.765625 45.015625 23.390625 \nQ 45.015625 31 40.078125 35.4375 \nQ 35.15625 39.890625 26.703125 39.890625 \nQ 22.75 39.890625 18.8125 39.015625 \nQ 14.890625 38.140625 10.796875 36.28125 \nz\n\" id=\"DejaVuSans-53\"/>\n      </defs>\n      <g transform=\"translate(76.902604 245.843125)scale(0.12 -0.12)\">\n       <use xlink:href=\"#DejaVuSans-48\"/>\n       <use x=\"63.623047\" xlink:href=\"#DejaVuSans-46\"/>\n       <use x=\"95.410156\" xlink:href=\"#DejaVuSans-53\"/>\n      </g>\n     </g>\n    </g>\n    <g id=\"xtick_3\">\n     <g id=\"line2d_3\">\n      <g>\n       <use style=\"stroke:#000000;stroke-width:0.8;\" x=\"134.018958\" xlink:href=\"#m459d78ca28\" y=\"229.725\"/>\n      </g>\n     </g>\n     <g id=\"text_3\">\n      <!-- 1.0 -->\n      <defs>\n       <path d=\"M 12.40625 8.296875 \nL 28.515625 8.296875 \nL 28.515625 63.921875 \nL 10.984375 60.40625 \nL 10.984375 69.390625 \nL 28.421875 72.90625 \nL 38.28125 72.90625 \nL 38.28125 8.296875 \nL 54.390625 8.296875 \nL 54.390625 0 \nL 12.40625 0 \nz\n\" id=\"DejaVuSans-49\"/>\n      </defs>\n      <g transform=\"translate(124.477083 245.843125)scale(0.12 -0.12)\">\n       <use xlink:href=\"#DejaVuSans-49\"/>\n       <use x=\"63.623047\" xlink:href=\"#DejaVuSans-46\"/>\n       <use x=\"95.410156\" xlink:href=\"#DejaVuSans-48\"/>\n      </g>\n     </g>\n    </g>\n    <g id=\"xtick_4\">\n     <g id=\"line2d_4\">\n      <g>\n       <use style=\"stroke:#000000;stroke-width:0.8;\" x=\"181.593437\" xlink:href=\"#m459d78ca28\" y=\"229.725\"/>\n      </g>\n     </g>\n     <g id=\"text_4\">\n      <!-- 1.5 -->\n      <g transform=\"translate(172.051562 245.843125)scale(0.12 -0.12)\">\n       <use xlink:href=\"#DejaVuSans-49\"/>\n       <use x=\"63.623047\" xlink:href=\"#DejaVuSans-46\"/>\n       <use x=\"95.410156\" xlink:href=\"#DejaVuSans-53\"/>\n      </g>\n     </g>\n    </g>\n    <g id=\"xtick_5\">\n     <g id=\"line2d_5\">\n      <g>\n       <use style=\"stroke:#000000;stroke-width:0.8;\" x=\"229.167917\" xlink:href=\"#m459d78ca28\" y=\"229.725\"/>\n      </g>\n     </g>\n     <g id=\"text_5\">\n      <!-- 2.0 -->\n      <defs>\n       <path d=\"M 19.1875 8.296875 \nL 53.609375 8.296875 \nL 53.609375 0 \nL 7.328125 0 \nL 7.328125 8.296875 \nQ 12.9375 14.109375 22.625 23.890625 \nQ 32.328125 33.6875 34.8125 36.53125 \nQ 39.546875 41.84375 41.421875 45.53125 \nQ 43.3125 49.21875 43.3125 52.78125 \nQ 43.3125 58.59375 39.234375 62.25 \nQ 35.15625 65.921875 28.609375 65.921875 \nQ 23.96875 65.921875 18.8125 64.3125 \nQ 13.671875 62.703125 7.8125 59.421875 \nL 7.8125 69.390625 \nQ 13.765625 71.78125 18.9375 73 \nQ 24.125 74.21875 28.421875 74.21875 \nQ 39.75 74.21875 46.484375 68.546875 \nQ 53.21875 62.890625 53.21875 53.421875 \nQ 53.21875 48.921875 51.53125 44.890625 \nQ 49.859375 40.875 45.40625 35.40625 \nQ 44.1875 33.984375 37.640625 27.21875 \nQ 31.109375 20.453125 19.1875 8.296875 \nz\n\" id=\"DejaVuSans-50\"/>\n      </defs>\n      <g transform=\"translate(219.626042 245.843125)scale(0.12 -0.12)\">\n       <use xlink:href=\"#DejaVuSans-50\"/>\n       <use x=\"63.623047\" xlink:href=\"#DejaVuSans-46\"/>\n       <use x=\"95.410156\" xlink:href=\"#DejaVuSans-48\"/>\n      </g>\n     </g>\n    </g>\n    <g id=\"text_6\">\n     <!-- $x_1$ -->\n     <defs>\n      <path d=\"M 60.015625 54.6875 \nL 34.90625 27.875 \nL 50.296875 0 \nL 39.984375 0 \nL 28.421875 21.6875 \nL 8.296875 0 \nL -2.59375 0 \nL 24.3125 28.8125 \nL 10.015625 54.6875 \nL 20.3125 54.6875 \nL 30.8125 34.90625 \nL 49.125 54.6875 \nz\n\" id=\"DejaVuSans-Oblique-120\"/>\n     </defs>\n     <g transform=\"translate(124.388958 266.015937)scale(0.18 -0.18)\">\n      <use transform=\"translate(0 0.3125)\" xlink:href=\"#DejaVuSans-Oblique-120\"/>\n      <use transform=\"translate(59.179688 -16.09375)scale(0.7)\" xlink:href=\"#DejaVuSans-49\"/>\n     </g>\n    </g>\n   </g>\n   <g id=\"matplotlib.axis_2\">\n    <g id=\"ytick_1\">\n     <g id=\"line2d_6\">\n      <defs>\n       <path d=\"M 0 0 \nL -3.5 0 \n\" id=\"mba748f9c8b\" style=\"stroke:#000000;stroke-width:0.8;\"/>\n      </defs>\n      <g>\n       <use style=\"stroke:#000000;stroke-width:0.8;\" x=\"38.87\" xlink:href=\"#mba748f9c8b\" y=\"229.725\"/>\n      </g>\n     </g>\n     <g id=\"text_7\">\n      <!-- 0 -->\n      <g transform=\"translate(24.235 234.284062)scale(0.12 -0.12)\">\n       <use xlink:href=\"#DejaVuSans-48\"/>\n      </g>\n     </g>\n    </g>\n    <g id=\"ytick_2\">\n     <g id=\"line2d_7\">\n      <g>\n       <use style=\"stroke:#000000;stroke-width:0.8;\" x=\"38.87\" xlink:href=\"#mba748f9c8b\" y=\"202.471667\"/>\n      </g>\n     </g>\n     <g id=\"text_8\">\n      <!-- 2 -->\n      <g transform=\"translate(24.235 207.030729)scale(0.12 -0.12)\">\n       <use xlink:href=\"#DejaVuSans-50\"/>\n      </g>\n     </g>\n    </g>\n    <g id=\"ytick_3\">\n     <g id=\"line2d_8\">\n      <g>\n       <use style=\"stroke:#000000;stroke-width:0.8;\" x=\"38.87\" xlink:href=\"#mba748f9c8b\" y=\"175.218333\"/>\n      </g>\n     </g>\n     <g id=\"text_9\">\n      <!-- 4 -->\n      <defs>\n       <path d=\"M 37.796875 64.3125 \nL 12.890625 25.390625 \nL 37.796875 25.390625 \nz\nM 35.203125 72.90625 \nL 47.609375 72.90625 \nL 47.609375 25.390625 \nL 58.015625 25.390625 \nL 58.015625 17.1875 \nL 47.609375 17.1875 \nL 47.609375 0 \nL 37.796875 0 \nL 37.796875 17.1875 \nL 4.890625 17.1875 \nL 4.890625 26.703125 \nz\n\" id=\"DejaVuSans-52\"/>\n      </defs>\n      <g transform=\"translate(24.235 179.777396)scale(0.12 -0.12)\">\n       <use xlink:href=\"#DejaVuSans-52\"/>\n      </g>\n     </g>\n    </g>\n    <g id=\"ytick_4\">\n     <g id=\"line2d_9\">\n      <g>\n       <use style=\"stroke:#000000;stroke-width:0.8;\" x=\"38.87\" xlink:href=\"#mba748f9c8b\" y=\"147.965\"/>\n      </g>\n     </g>\n     <g id=\"text_10\">\n      <!-- 6 -->\n      <defs>\n       <path d=\"M 33.015625 40.375 \nQ 26.375 40.375 22.484375 35.828125 \nQ 18.609375 31.296875 18.609375 23.390625 \nQ 18.609375 15.53125 22.484375 10.953125 \nQ 26.375 6.390625 33.015625 6.390625 \nQ 39.65625 6.390625 43.53125 10.953125 \nQ 47.40625 15.53125 47.40625 23.390625 \nQ 47.40625 31.296875 43.53125 35.828125 \nQ 39.65625 40.375 33.015625 40.375 \nz\nM 52.59375 71.296875 \nL 52.59375 62.3125 \nQ 48.875 64.0625 45.09375 64.984375 \nQ 41.3125 65.921875 37.59375 65.921875 \nQ 27.828125 65.921875 22.671875 59.328125 \nQ 17.53125 52.734375 16.796875 39.40625 \nQ 19.671875 43.65625 24.015625 45.921875 \nQ 28.375 48.1875 33.59375 48.1875 \nQ 44.578125 48.1875 50.953125 41.515625 \nQ 57.328125 34.859375 57.328125 23.390625 \nQ 57.328125 12.15625 50.6875 5.359375 \nQ 44.046875 -1.421875 33.015625 -1.421875 \nQ 20.359375 -1.421875 13.671875 8.265625 \nQ 6.984375 17.96875 6.984375 36.375 \nQ 6.984375 53.65625 15.1875 63.9375 \nQ 23.390625 74.21875 37.203125 74.21875 \nQ 40.921875 74.21875 44.703125 73.484375 \nQ 48.484375 72.75 52.59375 71.296875 \nz\n\" id=\"DejaVuSans-54\"/>\n      </defs>\n      <g transform=\"translate(24.235 152.524062)scale(0.12 -0.12)\">\n       <use xlink:href=\"#DejaVuSans-54\"/>\n      </g>\n     </g>\n    </g>\n    <g id=\"ytick_5\">\n     <g id=\"line2d_10\">\n      <g>\n       <use style=\"stroke:#000000;stroke-width:0.8;\" x=\"38.87\" xlink:href=\"#mba748f9c8b\" y=\"120.711667\"/>\n      </g>\n     </g>\n     <g id=\"text_11\">\n      <!-- 8 -->\n      <defs>\n       <path d=\"M 31.78125 34.625 \nQ 24.75 34.625 20.71875 30.859375 \nQ 16.703125 27.09375 16.703125 20.515625 \nQ 16.703125 13.921875 20.71875 10.15625 \nQ 24.75 6.390625 31.78125 6.390625 \nQ 38.8125 6.390625 42.859375 10.171875 \nQ 46.921875 13.96875 46.921875 20.515625 \nQ 46.921875 27.09375 42.890625 30.859375 \nQ 38.875 34.625 31.78125 34.625 \nz\nM 21.921875 38.8125 \nQ 15.578125 40.375 12.03125 44.71875 \nQ 8.5 49.078125 8.5 55.328125 \nQ 8.5 64.0625 14.71875 69.140625 \nQ 20.953125 74.21875 31.78125 74.21875 \nQ 42.671875 74.21875 48.875 69.140625 \nQ 55.078125 64.0625 55.078125 55.328125 \nQ 55.078125 49.078125 51.53125 44.71875 \nQ 48 40.375 41.703125 38.8125 \nQ 48.828125 37.15625 52.796875 32.3125 \nQ 56.78125 27.484375 56.78125 20.515625 \nQ 56.78125 9.90625 50.3125 4.234375 \nQ 43.84375 -1.421875 31.78125 -1.421875 \nQ 19.734375 -1.421875 13.25 4.234375 \nQ 6.78125 9.90625 6.78125 20.515625 \nQ 6.78125 27.484375 10.78125 32.3125 \nQ 14.796875 37.15625 21.921875 38.8125 \nz\nM 18.3125 54.390625 \nQ 18.3125 48.734375 21.84375 45.5625 \nQ 25.390625 42.390625 31.78125 42.390625 \nQ 38.140625 42.390625 41.71875 45.5625 \nQ 45.3125 48.734375 45.3125 54.390625 \nQ 45.3125 60.0625 41.71875 63.234375 \nQ 38.140625 66.40625 31.78125 66.40625 \nQ 25.390625 66.40625 21.84375 63.234375 \nQ 18.3125 60.0625 18.3125 54.390625 \nz\n\" id=\"DejaVuSans-56\"/>\n      </defs>\n      <g transform=\"translate(24.235 125.270729)scale(0.12 -0.12)\">\n       <use xlink:href=\"#DejaVuSans-56\"/>\n      </g>\n     </g>\n    </g>\n    <g id=\"ytick_6\">\n     <g id=\"line2d_11\">\n      <g>\n       <use style=\"stroke:#000000;stroke-width:0.8;\" x=\"38.87\" xlink:href=\"#mba748f9c8b\" y=\"93.458333\"/>\n      </g>\n     </g>\n     <g id=\"text_12\">\n      <!-- 10 -->\n      <g transform=\"translate(16.6 98.017396)scale(0.12 -0.12)\">\n       <use xlink:href=\"#DejaVuSans-49\"/>\n       <use x=\"63.623047\" xlink:href=\"#DejaVuSans-48\"/>\n      </g>\n     </g>\n    </g>\n    <g id=\"ytick_7\">\n     <g id=\"line2d_12\">\n      <g>\n       <use style=\"stroke:#000000;stroke-width:0.8;\" x=\"38.87\" xlink:href=\"#mba748f9c8b\" y=\"66.205\"/>\n      </g>\n     </g>\n     <g id=\"text_13\">\n      <!-- 12 -->\n      <g transform=\"translate(16.6 70.764062)scale(0.12 -0.12)\">\n       <use xlink:href=\"#DejaVuSans-49\"/>\n       <use x=\"63.623047\" xlink:href=\"#DejaVuSans-50\"/>\n      </g>\n     </g>\n    </g>\n    <g id=\"ytick_8\">\n     <g id=\"line2d_13\">\n      <g>\n       <use style=\"stroke:#000000;stroke-width:0.8;\" x=\"38.87\" xlink:href=\"#mba748f9c8b\" y=\"38.951667\"/>\n      </g>\n     </g>\n     <g id=\"text_14\">\n      <!-- 14 -->\n      <g transform=\"translate(16.6 43.510729)scale(0.12 -0.12)\">\n       <use xlink:href=\"#DejaVuSans-49\"/>\n       <use x=\"63.623047\" xlink:href=\"#DejaVuSans-52\"/>\n      </g>\n     </g>\n    </g>\n    <g id=\"text_15\">\n     <!-- $y$ -->\n     <defs>\n      <path d=\"M 24.8125 -5.078125 \nQ 18.5625 -15.578125 14.625 -18.1875 \nQ 10.6875 -20.796875 4.59375 -20.796875 \nL -2.484375 -20.796875 \nL -0.984375 -13.28125 \nL 4.203125 -13.28125 \nQ 7.953125 -13.28125 10.59375 -11.234375 \nQ 13.234375 -9.1875 16.5 -3.21875 \nL 19.28125 2 \nL 7.171875 54.6875 \nL 16.703125 54.6875 \nL 25.78125 12.796875 \nL 50.875 54.6875 \nL 60.296875 54.6875 \nz\n\" id=\"DejaVuSans-Oblique-121\"/>\n     </defs>\n     <g transform=\"translate(7.2 123.745)scale(0.18 -0.18)\">\n      <use transform=\"translate(0 0.3125)\" xlink:href=\"#DejaVuSans-Oblique-121\"/>\n     </g>\n    </g>\n   </g>\n   <g id=\"line2d_14\">\n    <defs>\n     <path d=\"M 0 1.5 \nC 0.397805 1.5 0.77937 1.341951 1.06066 1.06066 \nC 1.341951 0.77937 1.5 0.397805 1.5 0 \nC 1.5 -0.397805 1.341951 -0.77937 1.06066 -1.06066 \nC 0.77937 -1.341951 0.397805 -1.5 0 -1.5 \nC -0.397805 -1.5 -0.77937 -1.341951 -1.06066 -1.06066 \nC -1.341951 -0.77937 -1.5 -0.397805 -1.5 0 \nC -1.5 0.397805 -1.341951 0.77937 -1.06066 1.06066 \nC -0.77937 1.341951 -0.397805 1.5 0 1.5 \nz\n\" id=\"m8ef765ab56\" style=\"stroke:#0000ff;\"/>\n    </defs>\n    <g clip-path=\"url(#p1cdaecf17f)\">\n     <use style=\"fill:#0000ff;stroke:#0000ff;\" x=\"110.144204\" xlink:href=\"#m8ef765ab56\" y=\"143.409772\"/>\n     <use style=\"fill:#0000ff;stroke:#0000ff;\" x=\"219.788952\" xlink:href=\"#m8ef765ab56\" y=\"101.562405\"/>\n     <use style=\"fill:#0000ff;stroke:#0000ff;\" x=\"178.166922\" xlink:href=\"#m8ef765ab56\" y=\"114.120115\"/>\n     <use style=\"fill:#0000ff;stroke:#0000ff;\" x=\"152.793462\" xlink:href=\"#m8ef765ab56\" y=\"153.355955\"/>\n     <use style=\"fill:#0000ff;stroke:#0000ff;\" x=\"68.560022\" xlink:href=\"#m8ef765ab56\" y=\"165.455645\"/>\n     <use style=\"fill:#0000ff;stroke:#0000ff;\" x=\"68.555432\" xlink:href=\"#m8ef765ab56\" y=\"157.597967\"/>\n     <use style=\"fill:#0000ff;stroke:#0000ff;\" x=\"49.92319\" xlink:href=\"#m8ef765ab56\" y=\"150.330648\"/>\n     <use style=\"fill:#0000ff;stroke:#0000ff;\" x=\"203.701516\" xlink:href=\"#m8ef765ab56\" y=\"111.462067\"/>\n     <use style=\"fill:#0000ff;stroke:#0000ff;\" x=\"153.260934\" xlink:href=\"#m8ef765ab56\" y=\"137.088243\"/>\n     <use style=\"fill:#0000ff;stroke:#0000ff;\" x=\"173.614736\" xlink:href=\"#m8ef765ab56\" y=\"124.163595\"/>\n     <use style=\"fill:#0000ff;stroke:#0000ff;\" x=\"42.787186\" xlink:href=\"#m8ef765ab56\" y=\"161.061466\"/>\n     <use style=\"fill:#0000ff;stroke:#0000ff;\" x=\"223.441824\" xlink:href=\"#m8ef765ab56\" y=\"91.438722\"/>\n     <use style=\"fill:#0000ff;stroke:#0000ff;\" x=\"197.2821\" xlink:href=\"#m8ef765ab56\" y=\"114.376689\"/>\n     <use style=\"fill:#0000ff;stroke:#0000ff;\" x=\"79.27769\" xlink:href=\"#m8ef765ab56\" y=\"150.863363\"/>\n     <use style=\"fill:#0000ff;stroke:#0000ff;\" x=\"73.470912\" xlink:href=\"#m8ef765ab56\" y=\"159.029481\"/>\n     <use style=\"fill:#0000ff;stroke:#0000ff;\" x=\"73.771496\" xlink:href=\"#m8ef765ab56\" y=\"147.023778\"/>\n     <use style=\"fill:#0000ff;stroke:#0000ff;\" x=\"96.766665\" xlink:href=\"#m8ef765ab56\" y=\"159.910131\"/>\n     <use style=\"fill:#0000ff;stroke:#0000ff;\" x=\"138.730056\" xlink:href=\"#m8ef765ab56\" y=\"136.77919\"/>\n     <use style=\"fill:#0000ff;stroke:#0000ff;\" x=\"121.068237\" xlink:href=\"#m8ef765ab56\" y=\"145.245636\"/>\n     <use style=\"fill:#0000ff;stroke:#0000ff;\" x=\"94.290299\" xlink:href=\"#m8ef765ab56\" y=\"171.350269\"/>\n     <use style=\"fill:#0000ff;stroke:#0000ff;\" x=\"155.304331\" xlink:href=\"#m8ef765ab56\" y=\"121.158108\"/>\n     <use style=\"fill:#0000ff;stroke:#0000ff;\" x=\"65.415391\" xlink:href=\"#m8ef765ab56\" y=\"160.256002\"/>\n     <use style=\"fill:#0000ff;stroke:#0000ff;\" x=\"94.464518\" xlink:href=\"#m8ef765ab56\" y=\"151.262907\"/>\n     <use style=\"fill:#0000ff;stroke:#0000ff;\" x=\"108.587896\" xlink:href=\"#m8ef765ab56\" y=\"148.46123\"/>\n     <use style=\"fill:#0000ff;stroke:#0000ff;\" x=\"125.659168\" xlink:href=\"#m8ef765ab56\" y=\"157.216837\"/>\n     <use style=\"fill:#0000ff;stroke:#0000ff;\" x=\"188.28735\" xlink:href=\"#m8ef765ab56\" y=\"116.75434\"/>\n     <use style=\"fill:#0000ff;stroke:#0000ff;\" x=\"76.867505\" xlink:href=\"#m8ef765ab56\" y=\"163.563061\"/>\n     <use style=\"fill:#0000ff;stroke:#0000ff;\" x=\"136.727742\" xlink:href=\"#m8ef765ab56\" y=\"144.106891\"/>\n     <use style=\"fill:#0000ff;stroke:#0000ff;\" x=\"151.605258\" xlink:href=\"#m8ef765ab56\" y=\"128.980305\"/>\n     <use style=\"fill:#0000ff;stroke:#0000ff;\" x=\"47.709417\" xlink:href=\"#m8ef765ab56\" y=\"165.914681\"/>\n     <use style=\"fill:#0000ff;stroke:#0000ff;\" x=\"154.48452\" xlink:href=\"#m8ef765ab56\" y=\"99.84304\"/>\n     <use style=\"fill:#0000ff;stroke:#0000ff;\" x=\"71.320385\" xlink:href=\"#m8ef765ab56\" y=\"158.897367\"/>\n     <use style=\"fill:#0000ff;stroke:#0000ff;\" x=\"51.249183\" xlink:href=\"#m8ef765ab56\" y=\"166.390162\"/>\n     <use style=\"fill:#0000ff;stroke:#0000ff;\" x=\"219.440941\" xlink:href=\"#m8ef765ab56\" y=\"98.651901\"/>\n     <use style=\"fill:#0000ff;stroke:#0000ff;\" x=\"222.627764\" xlink:href=\"#m8ef765ab56\" y=\"122.414714\"/>\n     <use style=\"fill:#0000ff;stroke:#0000ff;\" x=\"192.706331\" xlink:href=\"#m8ef765ab56\" y=\"109.485062\"/>\n     <use style=\"fill:#0000ff;stroke:#0000ff;\" x=\"96.837366\" xlink:href=\"#m8ef765ab56\" y=\"149.492375\"/>\n     <use style=\"fill:#0000ff;stroke:#0000ff;\" x=\"57.4568\" xlink:href=\"#m8ef765ab56\" y=\"133.666882\"/>\n     <use style=\"fill:#0000ff;stroke:#0000ff;\" x=\"169.078119\" xlink:href=\"#m8ef765ab56\" y=\"121.89668\"/>\n     <use style=\"fill:#0000ff;stroke:#0000ff;\" x=\"122.630103\" xlink:href=\"#m8ef765ab56\" y=\"135.12238\"/>\n     <use style=\"fill:#0000ff;stroke:#0000ff;\" x=\"62.093622\" xlink:href=\"#m8ef765ab56\" y=\"165.713493\"/>\n     <use style=\"fill:#0000ff;stroke:#0000ff;\" x=\"133.101134\" xlink:href=\"#m8ef765ab56\" y=\"150.657855\"/>\n     <use style=\"fill:#0000ff;stroke:#0000ff;\" x=\"45.414064\" xlink:href=\"#m8ef765ab56\" y=\"156.833862\"/>\n     <use style=\"fill:#0000ff;stroke:#0000ff;\" x=\"211.911778\" xlink:href=\"#m8ef765ab56\" y=\"90.625956\"/>\n     <use style=\"fill:#0000ff;stroke:#0000ff;\" x=\"88.115291\" xlink:href=\"#m8ef765ab56\" y=\"143.281353\"/>\n     <use style=\"fill:#0000ff;stroke:#0000ff;\" x=\"164.94661\" xlink:href=\"#m8ef765ab56\" y=\"133.442431\"/>\n     <use style=\"fill:#0000ff;stroke:#0000ff;\" x=\"98.187968\" xlink:href=\"#m8ef765ab56\" y=\"130.617425\"/>\n     <use style=\"fill:#0000ff;stroke:#0000ff;\" x=\"137.837861\" xlink:href=\"#m8ef765ab56\" y=\"151.800129\"/>\n     <use style=\"fill:#0000ff;stroke:#0000ff;\" x=\"142.907827\" xlink:href=\"#m8ef765ab56\" y=\"122.522395\"/>\n     <use style=\"fill:#0000ff;stroke:#0000ff;\" x=\"74.047418\" xlink:href=\"#m8ef765ab56\" y=\"130.256024\"/>\n     <use style=\"fill:#0000ff;stroke:#0000ff;\" x=\"223.379935\" xlink:href=\"#m8ef765ab56\" y=\"109.442802\"/>\n     <use style=\"fill:#0000ff;stroke:#0000ff;\" x=\"186.376161\" xlink:href=\"#m8ef765ab56\" y=\"119.560224\"/>\n     <use style=\"fill:#0000ff;stroke:#0000ff;\" x=\"217.654691\" xlink:href=\"#m8ef765ab56\" y=\"97.046984\"/>\n     <use style=\"fill:#0000ff;stroke:#0000ff;\" x=\"209.153781\" xlink:href=\"#m8ef765ab56\" y=\"108.917944\"/>\n     <use style=\"fill:#0000ff;stroke:#0000ff;\" x=\"152.64912\" xlink:href=\"#m8ef765ab56\" y=\"147.464405\"/>\n     <use style=\"fill:#0000ff;stroke:#0000ff;\" x=\"214.300746\" xlink:href=\"#m8ef765ab56\" y=\"98.911611\"/>\n     <use style=\"fill:#0000ff;stroke:#0000ff;\" x=\"55.709939\" xlink:href=\"#m8ef765ab56\" y=\"182.458845\"/>\n     <use style=\"fill:#0000ff;stroke:#0000ff;\" x=\"76.16513\" xlink:href=\"#m8ef765ab56\" y=\"152.741288\"/>\n     <use style=\"fill:#0000ff;stroke:#0000ff;\" x=\"47.476659\" xlink:href=\"#m8ef765ab56\" y=\"184.049238\"/>\n     <use style=\"fill:#0000ff;stroke:#0000ff;\" x=\"100.779684\" xlink:href=\"#m8ef765ab56\" y=\"127.498886\"/>\n     <use style=\"fill:#0000ff;stroke:#0000ff;\" x=\"112.834478\" xlink:href=\"#m8ef765ab56\" y=\"154.11321\"/>\n     <use style=\"fill:#0000ff;stroke:#0000ff;\" x=\"90.507155\" xlink:href=\"#m8ef765ab56\" y=\"157.421461\"/>\n     <use style=\"fill:#0000ff;stroke:#0000ff;\" x=\"196.577021\" xlink:href=\"#m8ef765ab56\" y=\"96.375227\"/>\n     <use style=\"fill:#0000ff;stroke:#0000ff;\" x=\"106.759415\" xlink:href=\"#m8ef765ab56\" y=\"162.822759\"/>\n     <use style=\"fill:#0000ff;stroke:#0000ff;\" x=\"92.331252\" xlink:href=\"#m8ef765ab56\" y=\"149.149607\"/>\n     <use style=\"fill:#0000ff;stroke:#0000ff;\" x=\"142.143934\" xlink:href=\"#m8ef765ab56\" y=\"113.035503\"/>\n     <use style=\"fill:#0000ff;stroke:#0000ff;\" x=\"65.687586\" xlink:href=\"#m8ef765ab56\" y=\"185.601007\"/>\n     <use style=\"fill:#0000ff;stroke:#0000ff;\" x=\"191.526414\" xlink:href=\"#m8ef765ab56\" y=\"107.114764\"/>\n     <use style=\"fill:#0000ff;stroke:#0000ff;\" x=\"53.056832\" xlink:href=\"#m8ef765ab56\" y=\"165.581736\"/>\n     <use style=\"fill:#0000ff;stroke:#0000ff;\" x=\"226.672528\" xlink:href=\"#m8ef765ab56\" y=\"83.876818\"/>\n     <use style=\"fill:#0000ff;stroke:#0000ff;\" x=\"185.826571\" xlink:href=\"#m8ef765ab56\" y=\"128.935116\"/>\n     <use style=\"fill:#0000ff;stroke:#0000ff;\" x=\"76.68518\" xlink:href=\"#m8ef765ab56\" y=\"176.964761\"/>\n     <use style=\"fill:#0000ff;stroke:#0000ff;\" x=\"39.920847\" xlink:href=\"#m8ef765ab56\" y=\"167.654521\"/>\n     <use style=\"fill:#0000ff;stroke:#0000ff;\" x=\"194.050611\" xlink:href=\"#m8ef765ab56\" y=\"104.499296\"/>\n     <use style=\"fill:#0000ff;stroke:#0000ff;\" x=\"173.38348\" xlink:href=\"#m8ef765ab56\" y=\"114.012294\"/>\n     <use style=\"fill:#0000ff;stroke:#0000ff;\" x=\"177.598545\" xlink:href=\"#m8ef765ab56\" y=\"110.893773\"/>\n     <use style=\"fill:#0000ff;stroke:#0000ff;\" x=\"185.64114\" xlink:href=\"#m8ef765ab56\" y=\"121.42574\"/>\n     <use style=\"fill:#0000ff;stroke:#0000ff;\" x=\"52.960543\" xlink:href=\"#m8ef765ab56\" y=\"165.999599\"/>\n     <use style=\"fill:#0000ff;stroke:#0000ff;\" x=\"107.085281\" xlink:href=\"#m8ef765ab56\" y=\"141.916574\"/>\n     <use style=\"fill:#0000ff;stroke:#0000ff;\" x=\"60.919641\" xlink:href=\"#m8ef765ab56\" y=\"175.479108\"/>\n     <use style=\"fill:#0000ff;stroke:#0000ff;\" x=\"203.116784\" xlink:href=\"#m8ef765ab56\" y=\"79.22671\"/>\n     <use style=\"fill:#0000ff;stroke:#0000ff;\" x=\"157.482335\" xlink:href=\"#m8ef765ab56\" y=\"117.800715\"/>\n     <use style=\"fill:#0000ff;stroke:#0000ff;\" x=\"101.839205\" xlink:href=\"#m8ef765ab56\" y=\"164.397606\"/>\n     <use style=\"fill:#0000ff;stroke:#0000ff;\" x=\"50.965022\" xlink:href=\"#m8ef765ab56\" y=\"161.075165\"/>\n     <use style=\"fill:#0000ff;stroke:#0000ff;\" x=\"98.049288\" xlink:href=\"#m8ef765ab56\" y=\"163.074081\"/>\n     <use style=\"fill:#0000ff;stroke:#0000ff;\" x=\"100.751709\" xlink:href=\"#m8ef765ab56\" y=\"137.906005\"/>\n     <use style=\"fill:#0000ff;stroke:#0000ff;\" x=\"177.712536\" xlink:href=\"#m8ef765ab56\" y=\"99.777936\"/>\n     <use style=\"fill:#0000ff;stroke:#0000ff;\" x=\"160.195859\" xlink:href=\"#m8ef765ab56\" y=\"134.274799\"/>\n     <use style=\"fill:#0000ff;stroke:#0000ff;\" x=\"207.704737\" xlink:href=\"#m8ef765ab56\" y=\"89.552214\"/>\n     <use style=\"fill:#0000ff;stroke:#0000ff;\" x=\"128.731516\" xlink:href=\"#m8ef765ab56\" y=\"130.985213\"/>\n     <use style=\"fill:#0000ff;stroke:#0000ff;\" x=\"61.628536\" xlink:href=\"#m8ef765ab56\" y=\"154.238368\"/>\n     <use style=\"fill:#0000ff;stroke:#0000ff;\" x=\"174.598997\" xlink:href=\"#m8ef765ab56\" y=\"91.056474\"/>\n     <use style=\"fill:#0000ff;stroke:#0000ff;\" x=\"183.64581\" xlink:href=\"#m8ef765ab56\" y=\"116.36037\"/>\n     <use style=\"fill:#0000ff;stroke:#0000ff;\" x=\"145.679881\" xlink:href=\"#m8ef765ab56\" y=\"139.599221\"/>\n     <use style=\"fill:#0000ff;stroke:#0000ff;\" x=\"185.583448\" xlink:href=\"#m8ef765ab56\" y=\"124.305173\"/>\n     <use style=\"fill:#0000ff;stroke:#0000ff;\" x=\"132.838273\" xlink:href=\"#m8ef765ab56\" y=\"145.96238\"/>\n     <use style=\"fill:#0000ff;stroke:#0000ff;\" x=\"138.344968\" xlink:href=\"#m8ef765ab56\" y=\"133.530336\"/>\n     <use style=\"fill:#0000ff;stroke:#0000ff;\" x=\"120.230165\" xlink:href=\"#m8ef765ab56\" y=\"135.613815\"/>\n     <use style=\"fill:#0000ff;stroke:#0000ff;\" x=\"43.707207\" xlink:href=\"#m8ef765ab56\" y=\"169.369692\"/>\n     <use style=\"fill:#0000ff;stroke:#0000ff;\" x=\"59.401514\" xlink:href=\"#m8ef765ab56\" y=\"155.12538\"/>\n    </g>\n   </g>\n   <g id=\"line2d_15\">\n    <path clip-path=\"url(#p1cdaecf17f)\" d=\"M 38.87 222.956442 \nL 229.167917 226.724605 \n\" style=\"fill:none;stroke:#ff0000;stroke-dasharray:5.55,2.4;stroke-dashoffset:0;stroke-width:1.5;\"/>\n   </g>\n   <g id=\"line2d_16\">\n    <path clip-path=\"url(#p1cdaecf17f)\" d=\"M 38.87 219.438959 \nL 229.167917 215.48057 \n\" style=\"fill:none;stroke:#0000ff;stroke-linecap:square;stroke-width:1.5;\"/>\n   </g>\n   <g id=\"line2d_17\">\n    <path clip-path=\"url(#p1cdaecf17f)\" d=\"M 38.87 216.20749 \nL 229.167917 205.168778 \n\" style=\"fill:none;stroke:#0000ff;stroke-linecap:square;stroke-width:1.5;\"/>\n   </g>\n   <g id=\"line2d_18\">\n    <path clip-path=\"url(#p1cdaecf17f)\" d=\"M 38.87 213.238441 \nL 229.167917 195.712199 \n\" style=\"fill:none;stroke:#0000ff;stroke-linecap:square;stroke-width:1.5;\"/>\n   </g>\n   <g id=\"line2d_19\">\n    <path clip-path=\"url(#p1cdaecf17f)\" d=\"M 38.87 210.510166 \nL 229.167917 187.04017 \n\" style=\"fill:none;stroke:#0000ff;stroke-linecap:square;stroke-width:1.5;\"/>\n   </g>\n   <g id=\"line2d_20\">\n    <path clip-path=\"url(#p1cdaecf17f)\" d=\"M 38.87 208.002808 \nL 229.167917 179.087862 \n\" style=\"fill:none;stroke:#0000ff;stroke-linecap:square;stroke-width:1.5;\"/>\n   </g>\n   <g id=\"line2d_21\">\n    <path clip-path=\"url(#p1cdaecf17f)\" d=\"M 38.87 205.698149 \nL 229.167917 171.795802 \n\" style=\"fill:none;stroke:#0000ff;stroke-linecap:square;stroke-width:1.5;\"/>\n   </g>\n   <g id=\"line2d_22\">\n    <path clip-path=\"url(#p1cdaecf17f)\" d=\"M 38.87 203.579475 \nL 229.167917 165.109431 \n\" style=\"fill:none;stroke:#0000ff;stroke-linecap:square;stroke-width:1.5;\"/>\n   </g>\n   <g id=\"line2d_23\">\n    <path clip-path=\"url(#p1cdaecf17f)\" d=\"M 38.87 201.631454 \nL 229.167917 158.978694 \n\" style=\"fill:none;stroke:#0000ff;stroke-linecap:square;stroke-width:1.5;\"/>\n   </g>\n   <g id=\"line2d_24\">\n    <path clip-path=\"url(#p1cdaecf17f)\" d=\"M 38.87 199.84002 \nL 229.167917 153.357674 \n\" style=\"fill:none;stroke:#0000ff;stroke-linecap:square;stroke-width:1.5;\"/>\n   </g>\n   <g id=\"patch_3\">\n    <path d=\"M 38.87 229.725 \nL 38.87 25.325 \n\" style=\"fill:none;stroke:#000000;stroke-linecap:square;stroke-linejoin:miter;stroke-width:0.8;\"/>\n   </g>\n   <g id=\"patch_4\">\n    <path d=\"M 229.167917 229.725 \nL 229.167917 25.325 \n\" style=\"fill:none;stroke:#000000;stroke-linecap:square;stroke-linejoin:miter;stroke-width:0.8;\"/>\n   </g>\n   <g id=\"patch_5\">\n    <path d=\"M 38.87 229.725 \nL 229.167917 229.725 \n\" style=\"fill:none;stroke:#000000;stroke-linecap:square;stroke-linejoin:miter;stroke-width:0.8;\"/>\n   </g>\n   <g id=\"patch_6\">\n    <path d=\"M 38.87 25.325 \nL 229.167917 25.325 \n\" style=\"fill:none;stroke:#000000;stroke-linecap:square;stroke-linejoin:miter;stroke-width:0.8;\"/>\n   </g>\n   <g id=\"text_16\">\n    <!-- $\\eta = 0.02$ -->\n    <defs>\n     <path d=\"M 57.859375 33.015625 \nL 47.40625 -20.796875 \nL 38.421875 -20.796875 \nL 48.828125 32.71875 \nQ 50.34375 40.484375 48.046875 44.34375 \nQ 45.796875 48.1875 39.75 48.1875 \nQ 32.46875 48.1875 27.34375 43.5625 \nQ 22.265625 38.921875 20.703125 30.90625 \nL 14.703125 0 \nL 5.671875 0 \nL 16.3125 54.6875 \nL 25.34375 54.6875 \nL 23.6875 46.1875 \nQ 27.828125 51.125 32.71875 53.5625 \nQ 37.546875 56 43.265625 56 \nQ 52.6875 56 56.390625 50.203125 \nQ 60.0625 44.34375 57.859375 33.015625 \nz\n\" id=\"DejaVuSans-Oblique-951\"/>\n     <path d=\"M 10.59375 45.40625 \nL 73.1875 45.40625 \nL 73.1875 37.203125 \nL 10.59375 37.203125 \nz\nM 10.59375 25.484375 \nL 73.1875 25.484375 \nL 73.1875 17.1875 \nL 10.59375 17.1875 \nz\n\" id=\"DejaVuSans-61\"/>\n    </defs>\n    <g transform=\"translate(101.298958 19.325)scale(0.16 -0.16)\">\n     <use transform=\"translate(0 0.78125)\" xlink:href=\"#DejaVuSans-Oblique-951\"/>\n     <use transform=\"translate(82.861328 0.78125)\" xlink:href=\"#DejaVuSans-61\"/>\n     <use transform=\"translate(186.132812 0.78125)\" xlink:href=\"#DejaVuSans-48\"/>\n     <use transform=\"translate(249.755859 0.78125)\" xlink:href=\"#DejaVuSans-46\"/>\n     <use transform=\"translate(281.542969 0.78125)\" xlink:href=\"#DejaVuSans-48\"/>\n     <use transform=\"translate(345.166016 0.78125)\" xlink:href=\"#DejaVuSans-50\"/>\n    </g>\n   </g>\n  </g>\n  <g id=\"axes_2\">\n   <g id=\"patch_7\">\n    <path d=\"M 271.717917 229.725 \nL 462.015833 229.725 \nL 462.015833 25.325 \nL 271.717917 25.325 \nz\n\" style=\"fill:#ffffff;\"/>\n   </g>\n   <g id=\"matplotlib.axis_3\">\n    <g id=\"xtick_6\">\n     <g id=\"line2d_25\">\n      <g>\n       <use style=\"stroke:#000000;stroke-width:0.8;\" x=\"271.717917\" xlink:href=\"#m459d78ca28\" y=\"229.725\"/>\n      </g>\n     </g>\n     <g id=\"text_17\">\n      <!-- 0.0 -->\n      <g transform=\"translate(262.176042 245.843125)scale(0.12 -0.12)\">\n       <use xlink:href=\"#DejaVuSans-48\"/>\n       <use x=\"63.623047\" xlink:href=\"#DejaVuSans-46\"/>\n       <use x=\"95.410156\" xlink:href=\"#DejaVuSans-48\"/>\n      </g>\n     </g>\n    </g>\n    <g id=\"xtick_7\">\n     <g id=\"line2d_26\">\n      <g>\n       <use style=\"stroke:#000000;stroke-width:0.8;\" x=\"319.292396\" xlink:href=\"#m459d78ca28\" y=\"229.725\"/>\n      </g>\n     </g>\n     <g id=\"text_18\">\n      <!-- 0.5 -->\n      <g transform=\"translate(309.750521 245.843125)scale(0.12 -0.12)\">\n       <use xlink:href=\"#DejaVuSans-48\"/>\n       <use x=\"63.623047\" xlink:href=\"#DejaVuSans-46\"/>\n       <use x=\"95.410156\" xlink:href=\"#DejaVuSans-53\"/>\n      </g>\n     </g>\n    </g>\n    <g id=\"xtick_8\">\n     <g id=\"line2d_27\">\n      <g>\n       <use style=\"stroke:#000000;stroke-width:0.8;\" x=\"366.866875\" xlink:href=\"#m459d78ca28\" y=\"229.725\"/>\n      </g>\n     </g>\n     <g id=\"text_19\">\n      <!-- 1.0 -->\n      <g transform=\"translate(357.325 245.843125)scale(0.12 -0.12)\">\n       <use xlink:href=\"#DejaVuSans-49\"/>\n       <use x=\"63.623047\" xlink:href=\"#DejaVuSans-46\"/>\n       <use x=\"95.410156\" xlink:href=\"#DejaVuSans-48\"/>\n      </g>\n     </g>\n    </g>\n    <g id=\"xtick_9\">\n     <g id=\"line2d_28\">\n      <g>\n       <use style=\"stroke:#000000;stroke-width:0.8;\" x=\"414.441354\" xlink:href=\"#m459d78ca28\" y=\"229.725\"/>\n      </g>\n     </g>\n     <g id=\"text_20\">\n      <!-- 1.5 -->\n      <g transform=\"translate(404.899479 245.843125)scale(0.12 -0.12)\">\n       <use xlink:href=\"#DejaVuSans-49\"/>\n       <use x=\"63.623047\" xlink:href=\"#DejaVuSans-46\"/>\n       <use x=\"95.410156\" xlink:href=\"#DejaVuSans-53\"/>\n      </g>\n     </g>\n    </g>\n    <g id=\"xtick_10\">\n     <g id=\"line2d_29\">\n      <g>\n       <use style=\"stroke:#000000;stroke-width:0.8;\" x=\"462.015833\" xlink:href=\"#m459d78ca28\" y=\"229.725\"/>\n      </g>\n     </g>\n     <g id=\"text_21\">\n      <!-- 2.0 -->\n      <g transform=\"translate(452.473958 245.843125)scale(0.12 -0.12)\">\n       <use xlink:href=\"#DejaVuSans-50\"/>\n       <use x=\"63.623047\" xlink:href=\"#DejaVuSans-46\"/>\n       <use x=\"95.410156\" xlink:href=\"#DejaVuSans-48\"/>\n      </g>\n     </g>\n    </g>\n    <g id=\"text_22\">\n     <!-- $x_1$ -->\n     <g transform=\"translate(357.236875 266.015937)scale(0.18 -0.18)\">\n      <use transform=\"translate(0 0.3125)\" xlink:href=\"#DejaVuSans-Oblique-120\"/>\n      <use transform=\"translate(59.179688 -16.09375)scale(0.7)\" xlink:href=\"#DejaVuSans-49\"/>\n     </g>\n    </g>\n   </g>\n   <g id=\"matplotlib.axis_4\">\n    <g id=\"ytick_9\">\n     <g id=\"line2d_30\">\n      <g>\n       <use style=\"stroke:#000000;stroke-width:0.8;\" x=\"271.717917\" xlink:href=\"#mba748f9c8b\" y=\"229.725\"/>\n      </g>\n     </g>\n     <g id=\"text_23\">\n      <!-- 0 -->\n      <g transform=\"translate(257.082917 234.284062)scale(0.12 -0.12)\">\n       <use xlink:href=\"#DejaVuSans-48\"/>\n      </g>\n     </g>\n    </g>\n    <g id=\"ytick_10\">\n     <g id=\"line2d_31\">\n      <g>\n       <use style=\"stroke:#000000;stroke-width:0.8;\" x=\"271.717917\" xlink:href=\"#mba748f9c8b\" y=\"202.471667\"/>\n      </g>\n     </g>\n     <g id=\"text_24\">\n      <!-- 2 -->\n      <g transform=\"translate(257.082917 207.030729)scale(0.12 -0.12)\">\n       <use xlink:href=\"#DejaVuSans-50\"/>\n      </g>\n     </g>\n    </g>\n    <g id=\"ytick_11\">\n     <g id=\"line2d_32\">\n      <g>\n       <use style=\"stroke:#000000;stroke-width:0.8;\" x=\"271.717917\" xlink:href=\"#mba748f9c8b\" y=\"175.218333\"/>\n      </g>\n     </g>\n     <g id=\"text_25\">\n      <!-- 4 -->\n      <g transform=\"translate(257.082917 179.777396)scale(0.12 -0.12)\">\n       <use xlink:href=\"#DejaVuSans-52\"/>\n      </g>\n     </g>\n    </g>\n    <g id=\"ytick_12\">\n     <g id=\"line2d_33\">\n      <g>\n       <use style=\"stroke:#000000;stroke-width:0.8;\" x=\"271.717917\" xlink:href=\"#mba748f9c8b\" y=\"147.965\"/>\n      </g>\n     </g>\n     <g id=\"text_26\">\n      <!-- 6 -->\n      <g transform=\"translate(257.082917 152.524062)scale(0.12 -0.12)\">\n       <use xlink:href=\"#DejaVuSans-54\"/>\n      </g>\n     </g>\n    </g>\n    <g id=\"ytick_13\">\n     <g id=\"line2d_34\">\n      <g>\n       <use style=\"stroke:#000000;stroke-width:0.8;\" x=\"271.717917\" xlink:href=\"#mba748f9c8b\" y=\"120.711667\"/>\n      </g>\n     </g>\n     <g id=\"text_27\">\n      <!-- 8 -->\n      <g transform=\"translate(257.082917 125.270729)scale(0.12 -0.12)\">\n       <use xlink:href=\"#DejaVuSans-56\"/>\n      </g>\n     </g>\n    </g>\n    <g id=\"ytick_14\">\n     <g id=\"line2d_35\">\n      <g>\n       <use style=\"stroke:#000000;stroke-width:0.8;\" x=\"271.717917\" xlink:href=\"#mba748f9c8b\" y=\"93.458333\"/>\n      </g>\n     </g>\n     <g id=\"text_28\">\n      <!-- 10 -->\n      <g transform=\"translate(249.447917 98.017396)scale(0.12 -0.12)\">\n       <use xlink:href=\"#DejaVuSans-49\"/>\n       <use x=\"63.623047\" xlink:href=\"#DejaVuSans-48\"/>\n      </g>\n     </g>\n    </g>\n    <g id=\"ytick_15\">\n     <g id=\"line2d_36\">\n      <g>\n       <use style=\"stroke:#000000;stroke-width:0.8;\" x=\"271.717917\" xlink:href=\"#mba748f9c8b\" y=\"66.205\"/>\n      </g>\n     </g>\n     <g id=\"text_29\">\n      <!-- 12 -->\n      <g transform=\"translate(249.447917 70.764062)scale(0.12 -0.12)\">\n       <use xlink:href=\"#DejaVuSans-49\"/>\n       <use x=\"63.623047\" xlink:href=\"#DejaVuSans-50\"/>\n      </g>\n     </g>\n    </g>\n    <g id=\"ytick_16\">\n     <g id=\"line2d_37\">\n      <g>\n       <use style=\"stroke:#000000;stroke-width:0.8;\" x=\"271.717917\" xlink:href=\"#mba748f9c8b\" y=\"38.951667\"/>\n      </g>\n     </g>\n     <g id=\"text_30\">\n      <!-- 14 -->\n      <g transform=\"translate(249.447917 43.510729)scale(0.12 -0.12)\">\n       <use xlink:href=\"#DejaVuSans-49\"/>\n       <use x=\"63.623047\" xlink:href=\"#DejaVuSans-52\"/>\n      </g>\n     </g>\n    </g>\n   </g>\n   <g id=\"line2d_38\">\n    <g clip-path=\"url(#p7232797799)\">\n     <use style=\"fill:#0000ff;stroke:#0000ff;\" x=\"342.992121\" xlink:href=\"#m8ef765ab56\" y=\"143.409772\"/>\n     <use style=\"fill:#0000ff;stroke:#0000ff;\" x=\"452.636869\" xlink:href=\"#m8ef765ab56\" y=\"101.562405\"/>\n     <use style=\"fill:#0000ff;stroke:#0000ff;\" x=\"411.014839\" xlink:href=\"#m8ef765ab56\" y=\"114.120115\"/>\n     <use style=\"fill:#0000ff;stroke:#0000ff;\" x=\"385.641379\" xlink:href=\"#m8ef765ab56\" y=\"153.355955\"/>\n     <use style=\"fill:#0000ff;stroke:#0000ff;\" x=\"301.407939\" xlink:href=\"#m8ef765ab56\" y=\"165.455645\"/>\n     <use style=\"fill:#0000ff;stroke:#0000ff;\" x=\"301.403349\" xlink:href=\"#m8ef765ab56\" y=\"157.597967\"/>\n     <use style=\"fill:#0000ff;stroke:#0000ff;\" x=\"282.771107\" xlink:href=\"#m8ef765ab56\" y=\"150.330648\"/>\n     <use style=\"fill:#0000ff;stroke:#0000ff;\" x=\"436.549433\" xlink:href=\"#m8ef765ab56\" y=\"111.462067\"/>\n     <use style=\"fill:#0000ff;stroke:#0000ff;\" x=\"386.108851\" xlink:href=\"#m8ef765ab56\" y=\"137.088243\"/>\n     <use style=\"fill:#0000ff;stroke:#0000ff;\" x=\"406.462653\" xlink:href=\"#m8ef765ab56\" y=\"124.163595\"/>\n     <use style=\"fill:#0000ff;stroke:#0000ff;\" x=\"275.635103\" xlink:href=\"#m8ef765ab56\" y=\"161.061466\"/>\n     <use style=\"fill:#0000ff;stroke:#0000ff;\" x=\"456.289741\" xlink:href=\"#m8ef765ab56\" y=\"91.438722\"/>\n     <use style=\"fill:#0000ff;stroke:#0000ff;\" x=\"430.130017\" xlink:href=\"#m8ef765ab56\" y=\"114.376689\"/>\n     <use style=\"fill:#0000ff;stroke:#0000ff;\" x=\"312.125607\" xlink:href=\"#m8ef765ab56\" y=\"150.863363\"/>\n     <use style=\"fill:#0000ff;stroke:#0000ff;\" x=\"306.318829\" xlink:href=\"#m8ef765ab56\" y=\"159.029481\"/>\n     <use style=\"fill:#0000ff;stroke:#0000ff;\" x=\"306.619413\" xlink:href=\"#m8ef765ab56\" y=\"147.023778\"/>\n     <use style=\"fill:#0000ff;stroke:#0000ff;\" x=\"329.614582\" xlink:href=\"#m8ef765ab56\" y=\"159.910131\"/>\n     <use style=\"fill:#0000ff;stroke:#0000ff;\" x=\"371.577972\" xlink:href=\"#m8ef765ab56\" y=\"136.77919\"/>\n     <use style=\"fill:#0000ff;stroke:#0000ff;\" x=\"353.916154\" xlink:href=\"#m8ef765ab56\" y=\"145.245636\"/>\n     <use style=\"fill:#0000ff;stroke:#0000ff;\" x=\"327.138215\" xlink:href=\"#m8ef765ab56\" y=\"171.350269\"/>\n     <use style=\"fill:#0000ff;stroke:#0000ff;\" x=\"388.152248\" xlink:href=\"#m8ef765ab56\" y=\"121.158108\"/>\n     <use style=\"fill:#0000ff;stroke:#0000ff;\" x=\"298.263308\" xlink:href=\"#m8ef765ab56\" y=\"160.256002\"/>\n     <use style=\"fill:#0000ff;stroke:#0000ff;\" x=\"327.312435\" xlink:href=\"#m8ef765ab56\" y=\"151.262907\"/>\n     <use style=\"fill:#0000ff;stroke:#0000ff;\" x=\"341.435812\" xlink:href=\"#m8ef765ab56\" y=\"148.46123\"/>\n     <use style=\"fill:#0000ff;stroke:#0000ff;\" x=\"358.507085\" xlink:href=\"#m8ef765ab56\" y=\"157.216837\"/>\n     <use style=\"fill:#0000ff;stroke:#0000ff;\" x=\"421.135266\" xlink:href=\"#m8ef765ab56\" y=\"116.75434\"/>\n     <use style=\"fill:#0000ff;stroke:#0000ff;\" x=\"309.715421\" xlink:href=\"#m8ef765ab56\" y=\"163.563061\"/>\n     <use style=\"fill:#0000ff;stroke:#0000ff;\" x=\"369.575659\" xlink:href=\"#m8ef765ab56\" y=\"144.106891\"/>\n     <use style=\"fill:#0000ff;stroke:#0000ff;\" x=\"384.453175\" xlink:href=\"#m8ef765ab56\" y=\"128.980305\"/>\n     <use style=\"fill:#0000ff;stroke:#0000ff;\" x=\"280.557333\" xlink:href=\"#m8ef765ab56\" y=\"165.914681\"/>\n     <use style=\"fill:#0000ff;stroke:#0000ff;\" x=\"387.332436\" xlink:href=\"#m8ef765ab56\" y=\"99.84304\"/>\n     <use style=\"fill:#0000ff;stroke:#0000ff;\" x=\"304.168302\" xlink:href=\"#m8ef765ab56\" y=\"158.897367\"/>\n     <use style=\"fill:#0000ff;stroke:#0000ff;\" x=\"284.097099\" xlink:href=\"#m8ef765ab56\" y=\"166.390162\"/>\n     <use style=\"fill:#0000ff;stroke:#0000ff;\" x=\"452.288858\" xlink:href=\"#m8ef765ab56\" y=\"98.651901\"/>\n     <use style=\"fill:#0000ff;stroke:#0000ff;\" x=\"455.475681\" xlink:href=\"#m8ef765ab56\" y=\"122.414714\"/>\n     <use style=\"fill:#0000ff;stroke:#0000ff;\" x=\"425.554248\" xlink:href=\"#m8ef765ab56\" y=\"109.485062\"/>\n     <use style=\"fill:#0000ff;stroke:#0000ff;\" x=\"329.685282\" xlink:href=\"#m8ef765ab56\" y=\"149.492375\"/>\n     <use style=\"fill:#0000ff;stroke:#0000ff;\" x=\"290.304716\" xlink:href=\"#m8ef765ab56\" y=\"133.666882\"/>\n     <use style=\"fill:#0000ff;stroke:#0000ff;\" x=\"401.926036\" xlink:href=\"#m8ef765ab56\" y=\"121.89668\"/>\n     <use style=\"fill:#0000ff;stroke:#0000ff;\" x=\"355.478019\" xlink:href=\"#m8ef765ab56\" y=\"135.12238\"/>\n     <use style=\"fill:#0000ff;stroke:#0000ff;\" x=\"294.941539\" xlink:href=\"#m8ef765ab56\" y=\"165.713493\"/>\n     <use style=\"fill:#0000ff;stroke:#0000ff;\" x=\"365.949051\" xlink:href=\"#m8ef765ab56\" y=\"150.657855\"/>\n     <use style=\"fill:#0000ff;stroke:#0000ff;\" x=\"278.261981\" xlink:href=\"#m8ef765ab56\" y=\"156.833862\"/>\n     <use style=\"fill:#0000ff;stroke:#0000ff;\" x=\"444.759695\" xlink:href=\"#m8ef765ab56\" y=\"90.625956\"/>\n     <use style=\"fill:#0000ff;stroke:#0000ff;\" x=\"320.963208\" xlink:href=\"#m8ef765ab56\" y=\"143.281353\"/>\n     <use style=\"fill:#0000ff;stroke:#0000ff;\" x=\"397.794527\" xlink:href=\"#m8ef765ab56\" y=\"133.442431\"/>\n     <use style=\"fill:#0000ff;stroke:#0000ff;\" x=\"331.035885\" xlink:href=\"#m8ef765ab56\" y=\"130.617425\"/>\n     <use style=\"fill:#0000ff;stroke:#0000ff;\" x=\"370.685778\" xlink:href=\"#m8ef765ab56\" y=\"151.800129\"/>\n     <use style=\"fill:#0000ff;stroke:#0000ff;\" x=\"375.755744\" xlink:href=\"#m8ef765ab56\" y=\"122.522395\"/>\n     <use style=\"fill:#0000ff;stroke:#0000ff;\" x=\"306.895334\" xlink:href=\"#m8ef765ab56\" y=\"130.256024\"/>\n     <use style=\"fill:#0000ff;stroke:#0000ff;\" x=\"456.227851\" xlink:href=\"#m8ef765ab56\" y=\"109.442802\"/>\n     <use style=\"fill:#0000ff;stroke:#0000ff;\" x=\"419.224078\" xlink:href=\"#m8ef765ab56\" y=\"119.560224\"/>\n     <use style=\"fill:#0000ff;stroke:#0000ff;\" x=\"450.502608\" xlink:href=\"#m8ef765ab56\" y=\"97.046984\"/>\n     <use style=\"fill:#0000ff;stroke:#0000ff;\" x=\"442.001697\" xlink:href=\"#m8ef765ab56\" y=\"108.917944\"/>\n     <use style=\"fill:#0000ff;stroke:#0000ff;\" x=\"385.497037\" xlink:href=\"#m8ef765ab56\" y=\"147.464405\"/>\n     <use style=\"fill:#0000ff;stroke:#0000ff;\" x=\"447.148663\" xlink:href=\"#m8ef765ab56\" y=\"98.911611\"/>\n     <use style=\"fill:#0000ff;stroke:#0000ff;\" x=\"288.557855\" xlink:href=\"#m8ef765ab56\" y=\"182.458845\"/>\n     <use style=\"fill:#0000ff;stroke:#0000ff;\" x=\"309.013047\" xlink:href=\"#m8ef765ab56\" y=\"152.741288\"/>\n     <use style=\"fill:#0000ff;stroke:#0000ff;\" x=\"280.324576\" xlink:href=\"#m8ef765ab56\" y=\"184.049238\"/>\n     <use style=\"fill:#0000ff;stroke:#0000ff;\" x=\"333.627601\" xlink:href=\"#m8ef765ab56\" y=\"127.498886\"/>\n     <use style=\"fill:#0000ff;stroke:#0000ff;\" x=\"345.682395\" xlink:href=\"#m8ef765ab56\" y=\"154.11321\"/>\n     <use style=\"fill:#0000ff;stroke:#0000ff;\" x=\"323.355072\" xlink:href=\"#m8ef765ab56\" y=\"157.421461\"/>\n     <use style=\"fill:#0000ff;stroke:#0000ff;\" x=\"429.424938\" xlink:href=\"#m8ef765ab56\" y=\"96.375227\"/>\n     <use style=\"fill:#0000ff;stroke:#0000ff;\" x=\"339.607332\" xlink:href=\"#m8ef765ab56\" y=\"162.822759\"/>\n     <use style=\"fill:#0000ff;stroke:#0000ff;\" x=\"325.179169\" xlink:href=\"#m8ef765ab56\" y=\"149.149607\"/>\n     <use style=\"fill:#0000ff;stroke:#0000ff;\" x=\"374.991851\" xlink:href=\"#m8ef765ab56\" y=\"113.035503\"/>\n     <use style=\"fill:#0000ff;stroke:#0000ff;\" x=\"298.535503\" xlink:href=\"#m8ef765ab56\" y=\"185.601007\"/>\n     <use style=\"fill:#0000ff;stroke:#0000ff;\" x=\"424.374331\" xlink:href=\"#m8ef765ab56\" y=\"107.114764\"/>\n     <use style=\"fill:#0000ff;stroke:#0000ff;\" x=\"285.904749\" xlink:href=\"#m8ef765ab56\" y=\"165.581736\"/>\n     <use style=\"fill:#0000ff;stroke:#0000ff;\" x=\"459.520445\" xlink:href=\"#m8ef765ab56\" y=\"83.876818\"/>\n     <use style=\"fill:#0000ff;stroke:#0000ff;\" x=\"418.674487\" xlink:href=\"#m8ef765ab56\" y=\"128.935116\"/>\n     <use style=\"fill:#0000ff;stroke:#0000ff;\" x=\"309.533097\" xlink:href=\"#m8ef765ab56\" y=\"176.964761\"/>\n     <use style=\"fill:#0000ff;stroke:#0000ff;\" x=\"272.768764\" xlink:href=\"#m8ef765ab56\" y=\"167.654521\"/>\n     <use style=\"fill:#0000ff;stroke:#0000ff;\" x=\"426.898528\" xlink:href=\"#m8ef765ab56\" y=\"104.499296\"/>\n     <use style=\"fill:#0000ff;stroke:#0000ff;\" x=\"406.231397\" xlink:href=\"#m8ef765ab56\" y=\"114.012294\"/>\n     <use style=\"fill:#0000ff;stroke:#0000ff;\" x=\"410.446462\" xlink:href=\"#m8ef765ab56\" y=\"110.893773\"/>\n     <use style=\"fill:#0000ff;stroke:#0000ff;\" x=\"418.489057\" xlink:href=\"#m8ef765ab56\" y=\"121.42574\"/>\n     <use style=\"fill:#0000ff;stroke:#0000ff;\" x=\"285.80846\" xlink:href=\"#m8ef765ab56\" y=\"165.999599\"/>\n     <use style=\"fill:#0000ff;stroke:#0000ff;\" x=\"339.933198\" xlink:href=\"#m8ef765ab56\" y=\"141.916574\"/>\n     <use style=\"fill:#0000ff;stroke:#0000ff;\" x=\"293.767557\" xlink:href=\"#m8ef765ab56\" y=\"175.479108\"/>\n     <use style=\"fill:#0000ff;stroke:#0000ff;\" x=\"435.9647\" xlink:href=\"#m8ef765ab56\" y=\"79.22671\"/>\n     <use style=\"fill:#0000ff;stroke:#0000ff;\" x=\"390.330252\" xlink:href=\"#m8ef765ab56\" y=\"117.800715\"/>\n     <use style=\"fill:#0000ff;stroke:#0000ff;\" x=\"334.687121\" xlink:href=\"#m8ef765ab56\" y=\"164.397606\"/>\n     <use style=\"fill:#0000ff;stroke:#0000ff;\" x=\"283.812938\" xlink:href=\"#m8ef765ab56\" y=\"161.075165\"/>\n     <use style=\"fill:#0000ff;stroke:#0000ff;\" x=\"330.897205\" xlink:href=\"#m8ef765ab56\" y=\"163.074081\"/>\n     <use style=\"fill:#0000ff;stroke:#0000ff;\" x=\"333.599625\" xlink:href=\"#m8ef765ab56\" y=\"137.906005\"/>\n     <use style=\"fill:#0000ff;stroke:#0000ff;\" x=\"410.560452\" xlink:href=\"#m8ef765ab56\" y=\"99.777936\"/>\n     <use style=\"fill:#0000ff;stroke:#0000ff;\" x=\"393.043775\" xlink:href=\"#m8ef765ab56\" y=\"134.274799\"/>\n     <use style=\"fill:#0000ff;stroke:#0000ff;\" x=\"440.552653\" xlink:href=\"#m8ef765ab56\" y=\"89.552214\"/>\n     <use style=\"fill:#0000ff;stroke:#0000ff;\" x=\"361.579433\" xlink:href=\"#m8ef765ab56\" y=\"130.985213\"/>\n     <use style=\"fill:#0000ff;stroke:#0000ff;\" x=\"294.476453\" xlink:href=\"#m8ef765ab56\" y=\"154.238368\"/>\n     <use style=\"fill:#0000ff;stroke:#0000ff;\" x=\"407.446914\" xlink:href=\"#m8ef765ab56\" y=\"91.056474\"/>\n     <use style=\"fill:#0000ff;stroke:#0000ff;\" x=\"416.493726\" xlink:href=\"#m8ef765ab56\" y=\"116.36037\"/>\n     <use style=\"fill:#0000ff;stroke:#0000ff;\" x=\"378.527798\" xlink:href=\"#m8ef765ab56\" y=\"139.599221\"/>\n     <use style=\"fill:#0000ff;stroke:#0000ff;\" x=\"418.431365\" xlink:href=\"#m8ef765ab56\" y=\"124.305173\"/>\n     <use style=\"fill:#0000ff;stroke:#0000ff;\" x=\"365.68619\" xlink:href=\"#m8ef765ab56\" y=\"145.96238\"/>\n     <use style=\"fill:#0000ff;stroke:#0000ff;\" x=\"371.192885\" xlink:href=\"#m8ef765ab56\" y=\"133.530336\"/>\n     <use style=\"fill:#0000ff;stroke:#0000ff;\" x=\"353.078082\" xlink:href=\"#m8ef765ab56\" y=\"135.613815\"/>\n     <use style=\"fill:#0000ff;stroke:#0000ff;\" x=\"276.555124\" xlink:href=\"#m8ef765ab56\" y=\"169.369692\"/>\n     <use style=\"fill:#0000ff;stroke:#0000ff;\" x=\"292.24943\" xlink:href=\"#m8ef765ab56\" y=\"155.12538\"/>\n    </g>\n   </g>\n   <g id=\"line2d_39\">\n    <path clip-path=\"url(#p7232797799)\" d=\"M 271.717917 222.956442 \nL 462.015833 226.724605 \n\" style=\"fill:none;stroke:#ff0000;stroke-dasharray:5.55,2.4;stroke-dashoffset:0;stroke-width:1.5;\"/>\n   </g>\n   <g id=\"line2d_40\">\n    <path clip-path=\"url(#p7232797799)\" d=\"M 271.717917 205.369025 \nL 462.015833 170.504432 \n\" style=\"fill:none;stroke:#0000ff;stroke-linecap:square;stroke-width:1.5;\"/>\n   </g>\n   <g id=\"line2d_41\">\n    <path clip-path=\"url(#p7232797799)\" d=\"M 271.717917 194.931968 \nL 462.015833 137.590308 \n\" style=\"fill:none;stroke:#0000ff;stroke-linecap:square;stroke-width:1.5;\"/>\n   </g>\n   <g id=\"line2d_42\">\n    <path clip-path=\"url(#p7232797799)\" d=\"M 271.717917 188.695979 \nL 462.015833 118.35376 \n\" style=\"fill:none;stroke:#0000ff;stroke-linecap:square;stroke-width:1.5;\"/>\n   </g>\n   <g id=\"line2d_43\">\n    <path clip-path=\"url(#p7232797799)\" d=\"M 271.717917 184.92971 \nL 462.015833 107.143026 \n\" style=\"fill:none;stroke:#0000ff;stroke-linecap:square;stroke-width:1.5;\"/>\n   </g>\n   <g id=\"line2d_44\">\n    <path clip-path=\"url(#p7232797799)\" d=\"M 271.717917 182.616743 \nL 462.015833 100.640652 \n\" style=\"fill:none;stroke:#0000ff;stroke-linecap:square;stroke-width:1.5;\"/>\n   </g>\n   <g id=\"line2d_45\">\n    <path clip-path=\"url(#p7232797799)\" d=\"M 271.717917 181.160326 \nL 462.015833 96.899402 \n\" style=\"fill:none;stroke:#0000ff;stroke-linecap:square;stroke-width:1.5;\"/>\n   </g>\n   <g id=\"line2d_46\">\n    <path clip-path=\"url(#p7232797799)\" d=\"M 271.717917 180.210049 \nL 462.015833 94.776351 \n\" style=\"fill:none;stroke:#0000ff;stroke-linecap:square;stroke-width:1.5;\"/>\n   </g>\n   <g id=\"line2d_47\">\n    <path clip-path=\"url(#p7232797799)\" d=\"M 271.717917 179.560111 \nL 462.015833 93.600694 \n\" style=\"fill:none;stroke:#0000ff;stroke-linecap:square;stroke-width:1.5;\"/>\n   </g>\n   <g id=\"line2d_48\">\n    <path clip-path=\"url(#p7232797799)\" d=\"M 271.717917 179.089597 \nL 462.015833 92.978757 \n\" style=\"fill:none;stroke:#0000ff;stroke-linecap:square;stroke-width:1.5;\"/>\n   </g>\n   <g id=\"patch_8\">\n    <path d=\"M 271.717917 229.725 \nL 271.717917 25.325 \n\" style=\"fill:none;stroke:#000000;stroke-linecap:square;stroke-linejoin:miter;stroke-width:0.8;\"/>\n   </g>\n   <g id=\"patch_9\">\n    <path d=\"M 462.015833 229.725 \nL 462.015833 25.325 \n\" style=\"fill:none;stroke:#000000;stroke-linecap:square;stroke-linejoin:miter;stroke-width:0.8;\"/>\n   </g>\n   <g id=\"patch_10\">\n    <path d=\"M 271.717917 229.725 \nL 462.015833 229.725 \n\" style=\"fill:none;stroke:#000000;stroke-linecap:square;stroke-linejoin:miter;stroke-width:0.8;\"/>\n   </g>\n   <g id=\"patch_11\">\n    <path d=\"M 271.717917 25.325 \nL 462.015833 25.325 \n\" style=\"fill:none;stroke:#000000;stroke-linecap:square;stroke-linejoin:miter;stroke-width:0.8;\"/>\n   </g>\n   <g id=\"text_31\">\n    <!-- $\\eta = 0.1$ -->\n    <g transform=\"translate(339.186875 19.325)scale(0.16 -0.16)\">\n     <use transform=\"translate(0 0.78125)\" xlink:href=\"#DejaVuSans-Oblique-951\"/>\n     <use transform=\"translate(82.861328 0.78125)\" xlink:href=\"#DejaVuSans-61\"/>\n     <use transform=\"translate(186.132812 0.78125)\" xlink:href=\"#DejaVuSans-48\"/>\n     <use transform=\"translate(249.755859 0.78125)\" xlink:href=\"#DejaVuSans-46\"/>\n     <use transform=\"translate(281.542969 0.78125)\" xlink:href=\"#DejaVuSans-49\"/>\n    </g>\n   </g>\n  </g>\n  <g id=\"axes_3\">\n   <g id=\"patch_12\">\n    <path d=\"M 504.565833 229.725 \nL 694.86375 229.725 \nL 694.86375 25.325 \nL 504.565833 25.325 \nz\n\" style=\"fill:#ffffff;\"/>\n   </g>\n   <g id=\"matplotlib.axis_5\">\n    <g id=\"xtick_11\">\n     <g id=\"line2d_49\">\n      <g>\n       <use style=\"stroke:#000000;stroke-width:0.8;\" x=\"504.565833\" xlink:href=\"#m459d78ca28\" y=\"229.725\"/>\n      </g>\n     </g>\n     <g id=\"text_32\">\n      <!-- 0.0 -->\n      <g transform=\"translate(495.023958 245.843125)scale(0.12 -0.12)\">\n       <use xlink:href=\"#DejaVuSans-48\"/>\n       <use x=\"63.623047\" xlink:href=\"#DejaVuSans-46\"/>\n       <use x=\"95.410156\" xlink:href=\"#DejaVuSans-48\"/>\n      </g>\n     </g>\n    </g>\n    <g id=\"xtick_12\">\n     <g id=\"line2d_50\">\n      <g>\n       <use style=\"stroke:#000000;stroke-width:0.8;\" x=\"552.140312\" xlink:href=\"#m459d78ca28\" y=\"229.725\"/>\n      </g>\n     </g>\n     <g id=\"text_33\">\n      <!-- 0.5 -->\n      <g transform=\"translate(542.598437 245.843125)scale(0.12 -0.12)\">\n       <use xlink:href=\"#DejaVuSans-48\"/>\n       <use x=\"63.623047\" xlink:href=\"#DejaVuSans-46\"/>\n       <use x=\"95.410156\" xlink:href=\"#DejaVuSans-53\"/>\n      </g>\n     </g>\n    </g>\n    <g id=\"xtick_13\">\n     <g id=\"line2d_51\">\n      <g>\n       <use style=\"stroke:#000000;stroke-width:0.8;\" x=\"599.714792\" xlink:href=\"#m459d78ca28\" y=\"229.725\"/>\n      </g>\n     </g>\n     <g id=\"text_34\">\n      <!-- 1.0 -->\n      <g transform=\"translate(590.172917 245.843125)scale(0.12 -0.12)\">\n       <use xlink:href=\"#DejaVuSans-49\"/>\n       <use x=\"63.623047\" xlink:href=\"#DejaVuSans-46\"/>\n       <use x=\"95.410156\" xlink:href=\"#DejaVuSans-48\"/>\n      </g>\n     </g>\n    </g>\n    <g id=\"xtick_14\">\n     <g id=\"line2d_52\">\n      <g>\n       <use style=\"stroke:#000000;stroke-width:0.8;\" x=\"647.289271\" xlink:href=\"#m459d78ca28\" y=\"229.725\"/>\n      </g>\n     </g>\n     <g id=\"text_35\">\n      <!-- 1.5 -->\n      <g transform=\"translate(637.747396 245.843125)scale(0.12 -0.12)\">\n       <use xlink:href=\"#DejaVuSans-49\"/>\n       <use x=\"63.623047\" xlink:href=\"#DejaVuSans-46\"/>\n       <use x=\"95.410156\" xlink:href=\"#DejaVuSans-53\"/>\n      </g>\n     </g>\n    </g>\n    <g id=\"xtick_15\">\n     <g id=\"line2d_53\">\n      <g>\n       <use style=\"stroke:#000000;stroke-width:0.8;\" x=\"694.86375\" xlink:href=\"#m459d78ca28\" y=\"229.725\"/>\n      </g>\n     </g>\n     <g id=\"text_36\">\n      <!-- 2.0 -->\n      <g transform=\"translate(685.321875 245.843125)scale(0.12 -0.12)\">\n       <use xlink:href=\"#DejaVuSans-50\"/>\n       <use x=\"63.623047\" xlink:href=\"#DejaVuSans-46\"/>\n       <use x=\"95.410156\" xlink:href=\"#DejaVuSans-48\"/>\n      </g>\n     </g>\n    </g>\n    <g id=\"text_37\">\n     <!-- $x_1$ -->\n     <g transform=\"translate(590.084792 266.015937)scale(0.18 -0.18)\">\n      <use transform=\"translate(0 0.3125)\" xlink:href=\"#DejaVuSans-Oblique-120\"/>\n      <use transform=\"translate(59.179688 -16.09375)scale(0.7)\" xlink:href=\"#DejaVuSans-49\"/>\n     </g>\n    </g>\n   </g>\n   <g id=\"matplotlib.axis_6\">\n    <g id=\"ytick_17\">\n     <g id=\"line2d_54\">\n      <g>\n       <use style=\"stroke:#000000;stroke-width:0.8;\" x=\"504.565833\" xlink:href=\"#mba748f9c8b\" y=\"229.725\"/>\n      </g>\n     </g>\n     <g id=\"text_38\">\n      <!-- 0 -->\n      <g transform=\"translate(489.930833 234.284062)scale(0.12 -0.12)\">\n       <use xlink:href=\"#DejaVuSans-48\"/>\n      </g>\n     </g>\n    </g>\n    <g id=\"ytick_18\">\n     <g id=\"line2d_55\">\n      <g>\n       <use style=\"stroke:#000000;stroke-width:0.8;\" x=\"504.565833\" xlink:href=\"#mba748f9c8b\" y=\"202.471667\"/>\n      </g>\n     </g>\n     <g id=\"text_39\">\n      <!-- 2 -->\n      <g transform=\"translate(489.930833 207.030729)scale(0.12 -0.12)\">\n       <use xlink:href=\"#DejaVuSans-50\"/>\n      </g>\n     </g>\n    </g>\n    <g id=\"ytick_19\">\n     <g id=\"line2d_56\">\n      <g>\n       <use style=\"stroke:#000000;stroke-width:0.8;\" x=\"504.565833\" xlink:href=\"#mba748f9c8b\" y=\"175.218333\"/>\n      </g>\n     </g>\n     <g id=\"text_40\">\n      <!-- 4 -->\n      <g transform=\"translate(489.930833 179.777396)scale(0.12 -0.12)\">\n       <use xlink:href=\"#DejaVuSans-52\"/>\n      </g>\n     </g>\n    </g>\n    <g id=\"ytick_20\">\n     <g id=\"line2d_57\">\n      <g>\n       <use style=\"stroke:#000000;stroke-width:0.8;\" x=\"504.565833\" xlink:href=\"#mba748f9c8b\" y=\"147.965\"/>\n      </g>\n     </g>\n     <g id=\"text_41\">\n      <!-- 6 -->\n      <g transform=\"translate(489.930833 152.524062)scale(0.12 -0.12)\">\n       <use xlink:href=\"#DejaVuSans-54\"/>\n      </g>\n     </g>\n    </g>\n    <g id=\"ytick_21\">\n     <g id=\"line2d_58\">\n      <g>\n       <use style=\"stroke:#000000;stroke-width:0.8;\" x=\"504.565833\" xlink:href=\"#mba748f9c8b\" y=\"120.711667\"/>\n      </g>\n     </g>\n     <g id=\"text_42\">\n      <!-- 8 -->\n      <g transform=\"translate(489.930833 125.270729)scale(0.12 -0.12)\">\n       <use xlink:href=\"#DejaVuSans-56\"/>\n      </g>\n     </g>\n    </g>\n    <g id=\"ytick_22\">\n     <g id=\"line2d_59\">\n      <g>\n       <use style=\"stroke:#000000;stroke-width:0.8;\" x=\"504.565833\" xlink:href=\"#mba748f9c8b\" y=\"93.458333\"/>\n      </g>\n     </g>\n     <g id=\"text_43\">\n      <!-- 10 -->\n      <g transform=\"translate(482.295833 98.017396)scale(0.12 -0.12)\">\n       <use xlink:href=\"#DejaVuSans-49\"/>\n       <use x=\"63.623047\" xlink:href=\"#DejaVuSans-48\"/>\n      </g>\n     </g>\n    </g>\n    <g id=\"ytick_23\">\n     <g id=\"line2d_60\">\n      <g>\n       <use style=\"stroke:#000000;stroke-width:0.8;\" x=\"504.565833\" xlink:href=\"#mba748f9c8b\" y=\"66.205\"/>\n      </g>\n     </g>\n     <g id=\"text_44\">\n      <!-- 12 -->\n      <g transform=\"translate(482.295833 70.764062)scale(0.12 -0.12)\">\n       <use xlink:href=\"#DejaVuSans-49\"/>\n       <use x=\"63.623047\" xlink:href=\"#DejaVuSans-50\"/>\n      </g>\n     </g>\n    </g>\n    <g id=\"ytick_24\">\n     <g id=\"line2d_61\">\n      <g>\n       <use style=\"stroke:#000000;stroke-width:0.8;\" x=\"504.565833\" xlink:href=\"#mba748f9c8b\" y=\"38.951667\"/>\n      </g>\n     </g>\n     <g id=\"text_45\">\n      <!-- 14 -->\n      <g transform=\"translate(482.295833 43.510729)scale(0.12 -0.12)\">\n       <use xlink:href=\"#DejaVuSans-49\"/>\n       <use x=\"63.623047\" xlink:href=\"#DejaVuSans-52\"/>\n      </g>\n     </g>\n    </g>\n   </g>\n   <g id=\"line2d_62\">\n    <g clip-path=\"url(#pe60f408ece)\">\n     <use style=\"fill:#0000ff;stroke:#0000ff;\" x=\"575.840038\" xlink:href=\"#m8ef765ab56\" y=\"143.409772\"/>\n     <use style=\"fill:#0000ff;stroke:#0000ff;\" x=\"685.484785\" xlink:href=\"#m8ef765ab56\" y=\"101.562405\"/>\n     <use style=\"fill:#0000ff;stroke:#0000ff;\" x=\"643.862755\" xlink:href=\"#m8ef765ab56\" y=\"114.120115\"/>\n     <use style=\"fill:#0000ff;stroke:#0000ff;\" x=\"618.489296\" xlink:href=\"#m8ef765ab56\" y=\"153.355955\"/>\n     <use style=\"fill:#0000ff;stroke:#0000ff;\" x=\"534.255856\" xlink:href=\"#m8ef765ab56\" y=\"165.455645\"/>\n     <use style=\"fill:#0000ff;stroke:#0000ff;\" x=\"534.251266\" xlink:href=\"#m8ef765ab56\" y=\"157.597967\"/>\n     <use style=\"fill:#0000ff;stroke:#0000ff;\" x=\"515.619024\" xlink:href=\"#m8ef765ab56\" y=\"150.330648\"/>\n     <use style=\"fill:#0000ff;stroke:#0000ff;\" x=\"669.397349\" xlink:href=\"#m8ef765ab56\" y=\"111.462067\"/>\n     <use style=\"fill:#0000ff;stroke:#0000ff;\" x=\"618.956768\" xlink:href=\"#m8ef765ab56\" y=\"137.088243\"/>\n     <use style=\"fill:#0000ff;stroke:#0000ff;\" x=\"639.31057\" xlink:href=\"#m8ef765ab56\" y=\"124.163595\"/>\n     <use style=\"fill:#0000ff;stroke:#0000ff;\" x=\"508.48302\" xlink:href=\"#m8ef765ab56\" y=\"161.061466\"/>\n     <use style=\"fill:#0000ff;stroke:#0000ff;\" x=\"689.137658\" xlink:href=\"#m8ef765ab56\" y=\"91.438722\"/>\n     <use style=\"fill:#0000ff;stroke:#0000ff;\" x=\"662.977934\" xlink:href=\"#m8ef765ab56\" y=\"114.376689\"/>\n     <use style=\"fill:#0000ff;stroke:#0000ff;\" x=\"544.973524\" xlink:href=\"#m8ef765ab56\" y=\"150.863363\"/>\n     <use style=\"fill:#0000ff;stroke:#0000ff;\" x=\"539.166746\" xlink:href=\"#m8ef765ab56\" y=\"159.029481\"/>\n     <use style=\"fill:#0000ff;stroke:#0000ff;\" x=\"539.467329\" xlink:href=\"#m8ef765ab56\" y=\"147.023778\"/>\n     <use style=\"fill:#0000ff;stroke:#0000ff;\" x=\"562.462498\" xlink:href=\"#m8ef765ab56\" y=\"159.910131\"/>\n     <use style=\"fill:#0000ff;stroke:#0000ff;\" x=\"604.425889\" xlink:href=\"#m8ef765ab56\" y=\"136.77919\"/>\n     <use style=\"fill:#0000ff;stroke:#0000ff;\" x=\"586.76407\" xlink:href=\"#m8ef765ab56\" y=\"145.245636\"/>\n     <use style=\"fill:#0000ff;stroke:#0000ff;\" x=\"559.986132\" xlink:href=\"#m8ef765ab56\" y=\"171.350269\"/>\n     <use style=\"fill:#0000ff;stroke:#0000ff;\" x=\"621.000165\" xlink:href=\"#m8ef765ab56\" y=\"121.158108\"/>\n     <use style=\"fill:#0000ff;stroke:#0000ff;\" x=\"531.111224\" xlink:href=\"#m8ef765ab56\" y=\"160.256002\"/>\n     <use style=\"fill:#0000ff;stroke:#0000ff;\" x=\"560.160351\" xlink:href=\"#m8ef765ab56\" y=\"151.262907\"/>\n     <use style=\"fill:#0000ff;stroke:#0000ff;\" x=\"574.283729\" xlink:href=\"#m8ef765ab56\" y=\"148.46123\"/>\n     <use style=\"fill:#0000ff;stroke:#0000ff;\" x=\"591.355001\" xlink:href=\"#m8ef765ab56\" y=\"157.216837\"/>\n     <use style=\"fill:#0000ff;stroke:#0000ff;\" x=\"653.983183\" xlink:href=\"#m8ef765ab56\" y=\"116.75434\"/>\n     <use style=\"fill:#0000ff;stroke:#0000ff;\" x=\"542.563338\" xlink:href=\"#m8ef765ab56\" y=\"163.563061\"/>\n     <use style=\"fill:#0000ff;stroke:#0000ff;\" x=\"602.423576\" xlink:href=\"#m8ef765ab56\" y=\"144.106891\"/>\n     <use style=\"fill:#0000ff;stroke:#0000ff;\" x=\"617.301092\" xlink:href=\"#m8ef765ab56\" y=\"128.980305\"/>\n     <use style=\"fill:#0000ff;stroke:#0000ff;\" x=\"513.40525\" xlink:href=\"#m8ef765ab56\" y=\"165.914681\"/>\n     <use style=\"fill:#0000ff;stroke:#0000ff;\" x=\"620.180353\" xlink:href=\"#m8ef765ab56\" y=\"99.84304\"/>\n     <use style=\"fill:#0000ff;stroke:#0000ff;\" x=\"537.016219\" xlink:href=\"#m8ef765ab56\" y=\"158.897367\"/>\n     <use style=\"fill:#0000ff;stroke:#0000ff;\" x=\"516.945016\" xlink:href=\"#m8ef765ab56\" y=\"166.390162\"/>\n     <use style=\"fill:#0000ff;stroke:#0000ff;\" x=\"685.136774\" xlink:href=\"#m8ef765ab56\" y=\"98.651901\"/>\n     <use style=\"fill:#0000ff;stroke:#0000ff;\" x=\"688.323597\" xlink:href=\"#m8ef765ab56\" y=\"122.414714\"/>\n     <use style=\"fill:#0000ff;stroke:#0000ff;\" x=\"658.402165\" xlink:href=\"#m8ef765ab56\" y=\"109.485062\"/>\n     <use style=\"fill:#0000ff;stroke:#0000ff;\" x=\"562.533199\" xlink:href=\"#m8ef765ab56\" y=\"149.492375\"/>\n     <use style=\"fill:#0000ff;stroke:#0000ff;\" x=\"523.152633\" xlink:href=\"#m8ef765ab56\" y=\"133.666882\"/>\n     <use style=\"fill:#0000ff;stroke:#0000ff;\" x=\"634.773953\" xlink:href=\"#m8ef765ab56\" y=\"121.89668\"/>\n     <use style=\"fill:#0000ff;stroke:#0000ff;\" x=\"588.325936\" xlink:href=\"#m8ef765ab56\" y=\"135.12238\"/>\n     <use style=\"fill:#0000ff;stroke:#0000ff;\" x=\"527.789455\" xlink:href=\"#m8ef765ab56\" y=\"165.713493\"/>\n     <use style=\"fill:#0000ff;stroke:#0000ff;\" x=\"598.796968\" xlink:href=\"#m8ef765ab56\" y=\"150.657855\"/>\n     <use style=\"fill:#0000ff;stroke:#0000ff;\" x=\"511.109897\" xlink:href=\"#m8ef765ab56\" y=\"156.833862\"/>\n     <use style=\"fill:#0000ff;stroke:#0000ff;\" x=\"677.607611\" xlink:href=\"#m8ef765ab56\" y=\"90.625956\"/>\n     <use style=\"fill:#0000ff;stroke:#0000ff;\" x=\"553.811125\" xlink:href=\"#m8ef765ab56\" y=\"143.281353\"/>\n     <use style=\"fill:#0000ff;stroke:#0000ff;\" x=\"630.642444\" xlink:href=\"#m8ef765ab56\" y=\"133.442431\"/>\n     <use style=\"fill:#0000ff;stroke:#0000ff;\" x=\"563.883802\" xlink:href=\"#m8ef765ab56\" y=\"130.617425\"/>\n     <use style=\"fill:#0000ff;stroke:#0000ff;\" x=\"603.533694\" xlink:href=\"#m8ef765ab56\" y=\"151.800129\"/>\n     <use style=\"fill:#0000ff;stroke:#0000ff;\" x=\"608.603661\" xlink:href=\"#m8ef765ab56\" y=\"122.522395\"/>\n     <use style=\"fill:#0000ff;stroke:#0000ff;\" x=\"539.743251\" xlink:href=\"#m8ef765ab56\" y=\"130.256024\"/>\n     <use style=\"fill:#0000ff;stroke:#0000ff;\" x=\"689.075768\" xlink:href=\"#m8ef765ab56\" y=\"109.442802\"/>\n     <use style=\"fill:#0000ff;stroke:#0000ff;\" x=\"652.071995\" xlink:href=\"#m8ef765ab56\" y=\"119.560224\"/>\n     <use style=\"fill:#0000ff;stroke:#0000ff;\" x=\"683.350525\" xlink:href=\"#m8ef765ab56\" y=\"97.046984\"/>\n     <use style=\"fill:#0000ff;stroke:#0000ff;\" x=\"674.849614\" xlink:href=\"#m8ef765ab56\" y=\"108.917944\"/>\n     <use style=\"fill:#0000ff;stroke:#0000ff;\" x=\"618.344954\" xlink:href=\"#m8ef765ab56\" y=\"147.464405\"/>\n     <use style=\"fill:#0000ff;stroke:#0000ff;\" x=\"679.99658\" xlink:href=\"#m8ef765ab56\" y=\"98.911611\"/>\n     <use style=\"fill:#0000ff;stroke:#0000ff;\" x=\"521.405772\" xlink:href=\"#m8ef765ab56\" y=\"182.458845\"/>\n     <use style=\"fill:#0000ff;stroke:#0000ff;\" x=\"541.860964\" xlink:href=\"#m8ef765ab56\" y=\"152.741288\"/>\n     <use style=\"fill:#0000ff;stroke:#0000ff;\" x=\"513.172492\" xlink:href=\"#m8ef765ab56\" y=\"184.049238\"/>\n     <use style=\"fill:#0000ff;stroke:#0000ff;\" x=\"566.475518\" xlink:href=\"#m8ef765ab56\" y=\"127.498886\"/>\n     <use style=\"fill:#0000ff;stroke:#0000ff;\" x=\"578.530312\" xlink:href=\"#m8ef765ab56\" y=\"154.11321\"/>\n     <use style=\"fill:#0000ff;stroke:#0000ff;\" x=\"556.202989\" xlink:href=\"#m8ef765ab56\" y=\"157.421461\"/>\n     <use style=\"fill:#0000ff;stroke:#0000ff;\" x=\"662.272855\" xlink:href=\"#m8ef765ab56\" y=\"96.375227\"/>\n     <use style=\"fill:#0000ff;stroke:#0000ff;\" x=\"572.455248\" xlink:href=\"#m8ef765ab56\" y=\"162.822759\"/>\n     <use style=\"fill:#0000ff;stroke:#0000ff;\" x=\"558.027085\" xlink:href=\"#m8ef765ab56\" y=\"149.149607\"/>\n     <use style=\"fill:#0000ff;stroke:#0000ff;\" x=\"607.839767\" xlink:href=\"#m8ef765ab56\" y=\"113.035503\"/>\n     <use style=\"fill:#0000ff;stroke:#0000ff;\" x=\"531.38342\" xlink:href=\"#m8ef765ab56\" y=\"185.601007\"/>\n     <use style=\"fill:#0000ff;stroke:#0000ff;\" x=\"657.222248\" xlink:href=\"#m8ef765ab56\" y=\"107.114764\"/>\n     <use style=\"fill:#0000ff;stroke:#0000ff;\" x=\"518.752666\" xlink:href=\"#m8ef765ab56\" y=\"165.581736\"/>\n     <use style=\"fill:#0000ff;stroke:#0000ff;\" x=\"692.368361\" xlink:href=\"#m8ef765ab56\" y=\"83.876818\"/>\n     <use style=\"fill:#0000ff;stroke:#0000ff;\" x=\"651.522404\" xlink:href=\"#m8ef765ab56\" y=\"128.935116\"/>\n     <use style=\"fill:#0000ff;stroke:#0000ff;\" x=\"542.381014\" xlink:href=\"#m8ef765ab56\" y=\"176.964761\"/>\n     <use style=\"fill:#0000ff;stroke:#0000ff;\" x=\"505.616681\" xlink:href=\"#m8ef765ab56\" y=\"167.654521\"/>\n     <use style=\"fill:#0000ff;stroke:#0000ff;\" x=\"659.746444\" xlink:href=\"#m8ef765ab56\" y=\"104.499296\"/>\n     <use style=\"fill:#0000ff;stroke:#0000ff;\" x=\"639.079313\" xlink:href=\"#m8ef765ab56\" y=\"114.012294\"/>\n     <use style=\"fill:#0000ff;stroke:#0000ff;\" x=\"643.294379\" xlink:href=\"#m8ef765ab56\" y=\"110.893773\"/>\n     <use style=\"fill:#0000ff;stroke:#0000ff;\" x=\"651.336973\" xlink:href=\"#m8ef765ab56\" y=\"121.42574\"/>\n     <use style=\"fill:#0000ff;stroke:#0000ff;\" x=\"518.656376\" xlink:href=\"#m8ef765ab56\" y=\"165.999599\"/>\n     <use style=\"fill:#0000ff;stroke:#0000ff;\" x=\"572.781115\" xlink:href=\"#m8ef765ab56\" y=\"141.916574\"/>\n     <use style=\"fill:#0000ff;stroke:#0000ff;\" x=\"526.615474\" xlink:href=\"#m8ef765ab56\" y=\"175.479108\"/>\n     <use style=\"fill:#0000ff;stroke:#0000ff;\" x=\"668.812617\" xlink:href=\"#m8ef765ab56\" y=\"79.22671\"/>\n     <use style=\"fill:#0000ff;stroke:#0000ff;\" x=\"623.178168\" xlink:href=\"#m8ef765ab56\" y=\"117.800715\"/>\n     <use style=\"fill:#0000ff;stroke:#0000ff;\" x=\"567.535038\" xlink:href=\"#m8ef765ab56\" y=\"164.397606\"/>\n     <use style=\"fill:#0000ff;stroke:#0000ff;\" x=\"516.660855\" xlink:href=\"#m8ef765ab56\" y=\"161.075165\"/>\n     <use style=\"fill:#0000ff;stroke:#0000ff;\" x=\"563.745121\" xlink:href=\"#m8ef765ab56\" y=\"163.074081\"/>\n     <use style=\"fill:#0000ff;stroke:#0000ff;\" x=\"566.447542\" xlink:href=\"#m8ef765ab56\" y=\"137.906005\"/>\n     <use style=\"fill:#0000ff;stroke:#0000ff;\" x=\"643.408369\" xlink:href=\"#m8ef765ab56\" y=\"99.777936\"/>\n     <use style=\"fill:#0000ff;stroke:#0000ff;\" x=\"625.891692\" xlink:href=\"#m8ef765ab56\" y=\"134.274799\"/>\n     <use style=\"fill:#0000ff;stroke:#0000ff;\" x=\"673.40057\" xlink:href=\"#m8ef765ab56\" y=\"89.552214\"/>\n     <use style=\"fill:#0000ff;stroke:#0000ff;\" x=\"594.42735\" xlink:href=\"#m8ef765ab56\" y=\"130.985213\"/>\n     <use style=\"fill:#0000ff;stroke:#0000ff;\" x=\"527.324369\" xlink:href=\"#m8ef765ab56\" y=\"154.238368\"/>\n     <use style=\"fill:#0000ff;stroke:#0000ff;\" x=\"640.29483\" xlink:href=\"#m8ef765ab56\" y=\"91.056474\"/>\n     <use style=\"fill:#0000ff;stroke:#0000ff;\" x=\"649.341643\" xlink:href=\"#m8ef765ab56\" y=\"116.36037\"/>\n     <use style=\"fill:#0000ff;stroke:#0000ff;\" x=\"611.375715\" xlink:href=\"#m8ef765ab56\" y=\"139.599221\"/>\n     <use style=\"fill:#0000ff;stroke:#0000ff;\" x=\"651.279281\" xlink:href=\"#m8ef765ab56\" y=\"124.305173\"/>\n     <use style=\"fill:#0000ff;stroke:#0000ff;\" x=\"598.534107\" xlink:href=\"#m8ef765ab56\" y=\"145.96238\"/>\n     <use style=\"fill:#0000ff;stroke:#0000ff;\" x=\"604.040802\" xlink:href=\"#m8ef765ab56\" y=\"133.530336\"/>\n     <use style=\"fill:#0000ff;stroke:#0000ff;\" x=\"585.925998\" xlink:href=\"#m8ef765ab56\" y=\"135.613815\"/>\n     <use style=\"fill:#0000ff;stroke:#0000ff;\" x=\"509.40304\" xlink:href=\"#m8ef765ab56\" y=\"169.369692\"/>\n     <use style=\"fill:#0000ff;stroke:#0000ff;\" x=\"525.097347\" xlink:href=\"#m8ef765ab56\" y=\"155.12538\"/>\n    </g>\n   </g>\n   <g id=\"line2d_63\">\n    <path clip-path=\"url(#pe60f408ece)\" d=\"M 504.565833 222.956442 \nL 694.86375 226.724605 \n\" style=\"fill:none;stroke:#ff0000;stroke-dasharray:5.55,2.4;stroke-dashoffset:0;stroke-width:1.5;\"/>\n   </g>\n   <g id=\"line2d_64\">\n    <path clip-path=\"url(#pe60f408ece)\" d=\"M 504.565833 135.01936 \nL 641.233202 -1 \n\" style=\"fill:none;stroke:#0000ff;stroke-linecap:square;stroke-width:1.5;\"/>\n   </g>\n   <g id=\"line2d_65\">\n    <path clip-path=\"url(#pe60f408ece)\" d=\"M 504.565833 225.84125 \nL 694.86375 247.174097 \n\" style=\"fill:none;stroke:#0000ff;stroke-linecap:square;stroke-width:1.5;\"/>\n   </g>\n   <g id=\"line2d_66\">\n    <path clip-path=\"url(#pe60f408ece)\" d=\"M 504.565833 126.760784 \nL 626.773983 -1 \n\" style=\"fill:none;stroke:#0000ff;stroke-linecap:square;stroke-width:1.5;\"/>\n   </g>\n   <g id=\"line2d_67\">\n    <path clip-path=\"url(#pe60f408ece)\" d=\"M 504.565833 230.330841 \nL 694.86375 269.437228 \n\" style=\"fill:none;stroke:#0000ff;stroke-linecap:square;stroke-width:1.5;\"/>\n   </g>\n   <g id=\"line2d_68\">\n    <path clip-path=\"url(#pe60f408ece)\" d=\"M 504.565833 118.404007 \nL 611.969517 -1 \n\" style=\"fill:none;stroke:#0000ff;stroke-linecap:square;stroke-width:1.5;\"/>\n   </g>\n   <g id=\"line2d_69\">\n    <path clip-path=\"url(#pe60f408ece)\" d=\"M 504.565833 236.262562 \nL 641.882982 277.959375 \n\" style=\"fill:none;stroke:#0000ff;stroke-linecap:square;stroke-width:1.5;\"/>\n   </g>\n   <g id=\"line2d_70\">\n    <path clip-path=\"url(#pe60f408ece)\" d=\"M 504.565833 109.621871 \nL 597.260953 -1 \n\" style=\"fill:none;stroke:#0000ff;stroke-linecap:square;stroke-width:1.5;\"/>\n   </g>\n   <g id=\"line2d_71\">\n    <path clip-path=\"url(#pe60f408ece)\" d=\"M 504.565833 243.569377 \nL 588.52224 277.959375 \n\" style=\"fill:none;stroke:#0000ff;stroke-linecap:square;stroke-width:1.5;\"/>\n   </g>\n   <g id=\"line2d_72\">\n    <path clip-path=\"url(#pe60f408ece)\" d=\"M 504.565833 100.140807 \nL 582.940259 -1 \n\" style=\"fill:none;stroke:#0000ff;stroke-linecap:square;stroke-width:1.5;\"/>\n   </g>\n   <g id=\"patch_13\">\n    <path d=\"M 504.565833 229.725 \nL 504.565833 25.325 \n\" style=\"fill:none;stroke:#000000;stroke-linecap:square;stroke-linejoin:miter;stroke-width:0.8;\"/>\n   </g>\n   <g id=\"patch_14\">\n    <path d=\"M 694.86375 229.725 \nL 694.86375 25.325 \n\" style=\"fill:none;stroke:#000000;stroke-linecap:square;stroke-linejoin:miter;stroke-width:0.8;\"/>\n   </g>\n   <g id=\"patch_15\">\n    <path d=\"M 504.565833 229.725 \nL 694.86375 229.725 \n\" style=\"fill:none;stroke:#000000;stroke-linecap:square;stroke-linejoin:miter;stroke-width:0.8;\"/>\n   </g>\n   <g id=\"patch_16\">\n    <path d=\"M 504.565833 25.325 \nL 694.86375 25.325 \n\" style=\"fill:none;stroke:#000000;stroke-linecap:square;stroke-linejoin:miter;stroke-width:0.8;\"/>\n   </g>\n   <g id=\"text_46\">\n    <!-- $\\eta = 0.5$ -->\n    <g transform=\"translate(572.034792 19.325)scale(0.16 -0.16)\">\n     <use transform=\"translate(0 0.78125)\" xlink:href=\"#DejaVuSans-Oblique-951\"/>\n     <use transform=\"translate(82.861328 0.78125)\" xlink:href=\"#DejaVuSans-61\"/>\n     <use transform=\"translate(186.132812 0.78125)\" xlink:href=\"#DejaVuSans-48\"/>\n     <use transform=\"translate(249.755859 0.78125)\" xlink:href=\"#DejaVuSans-46\"/>\n     <use transform=\"translate(281.542969 0.78125)\" xlink:href=\"#DejaVuSans-53\"/>\n    </g>\n   </g>\n  </g>\n </g>\n <defs>\n  <clipPath id=\"p1cdaecf17f\">\n   <rect height=\"204.4\" width=\"190.297917\" x=\"38.87\" y=\"25.325\"/>\n  </clipPath>\n  <clipPath id=\"p7232797799\">\n   <rect height=\"204.4\" width=\"190.297917\" x=\"271.717917\" y=\"25.325\"/>\n  </clipPath>\n  <clipPath id=\"pe60f408ece\">\n   <rect height=\"204.4\" width=\"190.297917\" x=\"504.565833\" y=\"25.325\"/>\n  </clipPath>\n </defs>\n</svg>\n",
      "image/png": "[encoded data removed]"
     },
     "metadata": {
      "needs_background": "light"
     }
    }
   ],
   "source": [
    "np.random.seed(42)\n",
    "theta = np.random.randn(2,1)  # random initialization\n",
    "\n",
    "plt.figure(figsize=(10,4))\n",
    "plt.subplot(131); plot_gradient_descent(theta, eta=0.02)\n",
    "plt.ylabel(\"$y$\", rotation=0, fontsize=18)\n",
    "plt.subplot(132); plot_gradient_descent(theta, eta=0.1, theta_path=theta_path_bgd)\n",
    "plt.subplot(133); plot_gradient_descent(theta, eta=0.5)\n",
    "\n",
    "save_fig(\"gradient_descent_plot\")\n",
    "plt.show()"
   ]
  },
  {
   "cell_type": "markdown",
   "metadata": {},
   "source": [
    "# Stochastic Gradient Descent"
   ]
  },
  {
   "cell_type": "code",
   "execution_count": 18,
   "metadata": {},
   "outputs": [],
   "source": [
    "theta_path_sgd = []\n",
    "m = len(X_b)\n",
    "np.random.seed(42)"
   ]
  },
  {
   "cell_type": "code",
   "execution_count": 19,
   "metadata": {},
   "outputs": [
    {
     "output_type": "stream",
     "name": "stdout",
     "text": "Saving figure sgd_plot\n"
    },
    {
     "output_type": "display_data",
     "data": {
      "text/plain": "<Figure size 432x288 with 1 Axes>",
      "image/svg+xml": "<?xml version=\"1.0\" encoding=\"utf-8\" standalone=\"no\"?>\n<!DOCTYPE svg PUBLIC \"-//W3C//DTD SVG 1.1//EN\"\n  \"http://www.w3.org/Graphics/SVG/1.1/DTD/svg11.dtd\">\n<!-- Created with matplotlib (https://matplotlib.org/) -->\n<svg height=\"278.834375pt\" version=\"1.1\" viewBox=\"0 0 423.610625 278.834375\" width=\"423.610625pt\" xmlns=\"http://www.w3.org/2000/svg\" xmlns:xlink=\"http://www.w3.org/1999/xlink\">\n <defs>\n  <style type=\"text/css\">\n*{stroke-linecap:butt;stroke-linejoin:round;}\n  </style>\n </defs>\n <g id=\"figure_1\">\n  <g id=\"patch_1\">\n   <path d=\"M 0 278.834375 \nL 423.610625 278.834375 \nL 423.610625 0 \nL 0 0 \nz\n\" style=\"fill:none;\"/>\n  </g>\n  <g id=\"axes_1\">\n   <g id=\"patch_2\">\n    <path d=\"M 38.87 231.6 \nL 403.05125 231.6 \nL 403.05125 7.2 \nL 38.87 7.2 \nz\n\" style=\"fill:#ffffff;\"/>\n   </g>\n   <g id=\"matplotlib.axis_1\">\n    <g id=\"xtick_1\">\n     <g id=\"line2d_1\">\n      <defs>\n       <path d=\"M 0 0 \nL 0 3.5 \n\" id=\"m7825da4672\" style=\"stroke:#000000;stroke-width:0.8;\"/>\n      </defs>\n      <g>\n       <use style=\"stroke:#000000;stroke-width:0.8;\" x=\"38.87\" xlink:href=\"#m7825da4672\" y=\"231.6\"/>\n      </g>\n     </g>\n     <g id=\"text_1\">\n      <!-- 0.00 -->\n      <defs>\n       <path d=\"M 31.78125 66.40625 \nQ 24.171875 66.40625 20.328125 58.90625 \nQ 16.5 51.421875 16.5 36.375 \nQ 16.5 21.390625 20.328125 13.890625 \nQ 24.171875 6.390625 31.78125 6.390625 \nQ 39.453125 6.390625 43.28125 13.890625 \nQ 47.125 21.390625 47.125 36.375 \nQ 47.125 51.421875 43.28125 58.90625 \nQ 39.453125 66.40625 31.78125 66.40625 \nz\nM 31.78125 74.21875 \nQ 44.046875 74.21875 50.515625 64.515625 \nQ 56.984375 54.828125 56.984375 36.375 \nQ 56.984375 17.96875 50.515625 8.265625 \nQ 44.046875 -1.421875 31.78125 -1.421875 \nQ 19.53125 -1.421875 13.0625 8.265625 \nQ 6.59375 17.96875 6.59375 36.375 \nQ 6.59375 54.828125 13.0625 64.515625 \nQ 19.53125 74.21875 31.78125 74.21875 \nz\n\" id=\"DejaVuSans-48\"/>\n       <path d=\"M 10.6875 12.40625 \nL 21 12.40625 \nL 21 0 \nL 10.6875 0 \nz\n\" id=\"DejaVuSans-46\"/>\n      </defs>\n      <g transform=\"translate(25.510625 247.718125)scale(0.12 -0.12)\">\n       <use xlink:href=\"#DejaVuSans-48\"/>\n       <use x=\"63.623047\" xlink:href=\"#DejaVuSans-46\"/>\n       <use x=\"95.410156\" xlink:href=\"#DejaVuSans-48\"/>\n       <use x=\"159.033203\" xlink:href=\"#DejaVuSans-48\"/>\n      </g>\n     </g>\n    </g>\n    <g id=\"xtick_2\">\n     <g id=\"line2d_2\">\n      <g>\n       <use style=\"stroke:#000000;stroke-width:0.8;\" x=\"84.392656\" xlink:href=\"#m7825da4672\" y=\"231.6\"/>\n      </g>\n     </g>\n     <g id=\"text_2\">\n      <!-- 0.25 -->\n      <defs>\n       <path d=\"M 19.1875 8.296875 \nL 53.609375 8.296875 \nL 53.609375 0 \nL 7.328125 0 \nL 7.328125 8.296875 \nQ 12.9375 14.109375 22.625 23.890625 \nQ 32.328125 33.6875 34.8125 36.53125 \nQ 39.546875 41.84375 41.421875 45.53125 \nQ 43.3125 49.21875 43.3125 52.78125 \nQ 43.3125 58.59375 39.234375 62.25 \nQ 35.15625 65.921875 28.609375 65.921875 \nQ 23.96875 65.921875 18.8125 64.3125 \nQ 13.671875 62.703125 7.8125 59.421875 \nL 7.8125 69.390625 \nQ 13.765625 71.78125 18.9375 73 \nQ 24.125 74.21875 28.421875 74.21875 \nQ 39.75 74.21875 46.484375 68.546875 \nQ 53.21875 62.890625 53.21875 53.421875 \nQ 53.21875 48.921875 51.53125 44.890625 \nQ 49.859375 40.875 45.40625 35.40625 \nQ 44.1875 33.984375 37.640625 27.21875 \nQ 31.109375 20.453125 19.1875 8.296875 \nz\n\" id=\"DejaVuSans-50\"/>\n       <path d=\"M 10.796875 72.90625 \nL 49.515625 72.90625 \nL 49.515625 64.59375 \nL 19.828125 64.59375 \nL 19.828125 46.734375 \nQ 21.96875 47.46875 24.109375 47.828125 \nQ 26.265625 48.1875 28.421875 48.1875 \nQ 40.625 48.1875 47.75 41.5 \nQ 54.890625 34.8125 54.890625 23.390625 \nQ 54.890625 11.625 47.5625 5.09375 \nQ 40.234375 -1.421875 26.90625 -1.421875 \nQ 22.3125 -1.421875 17.546875 -0.640625 \nQ 12.796875 0.140625 7.71875 1.703125 \nL 7.71875 11.625 \nQ 12.109375 9.234375 16.796875 8.0625 \nQ 21.484375 6.890625 26.703125 6.890625 \nQ 35.15625 6.890625 40.078125 11.328125 \nQ 45.015625 15.765625 45.015625 23.390625 \nQ 45.015625 31 40.078125 35.4375 \nQ 35.15625 39.890625 26.703125 39.890625 \nQ 22.75 39.890625 18.8125 39.015625 \nQ 14.890625 38.140625 10.796875 36.28125 \nz\n\" id=\"DejaVuSans-53\"/>\n      </defs>\n      <g transform=\"translate(71.033281 247.718125)scale(0.12 -0.12)\">\n       <use xlink:href=\"#DejaVuSans-48\"/>\n       <use x=\"63.623047\" xlink:href=\"#DejaVuSans-46\"/>\n       <use x=\"95.410156\" xlink:href=\"#DejaVuSans-50\"/>\n       <use x=\"159.033203\" xlink:href=\"#DejaVuSans-53\"/>\n      </g>\n     </g>\n    </g>\n    <g id=\"xtick_3\">\n     <g id=\"line2d_3\">\n      <g>\n       <use style=\"stroke:#000000;stroke-width:0.8;\" x=\"129.915312\" xlink:href=\"#m7825da4672\" y=\"231.6\"/>\n      </g>\n     </g>\n     <g id=\"text_3\">\n      <!-- 0.50 -->\n      <g transform=\"translate(116.555937 247.718125)scale(0.12 -0.12)\">\n       <use xlink:href=\"#DejaVuSans-48\"/>\n       <use x=\"63.623047\" xlink:href=\"#DejaVuSans-46\"/>\n       <use x=\"95.410156\" xlink:href=\"#DejaVuSans-53\"/>\n       <use x=\"159.033203\" xlink:href=\"#DejaVuSans-48\"/>\n      </g>\n     </g>\n    </g>\n    <g id=\"xtick_4\">\n     <g id=\"line2d_4\">\n      <g>\n       <use style=\"stroke:#000000;stroke-width:0.8;\" x=\"175.437969\" xlink:href=\"#m7825da4672\" y=\"231.6\"/>\n      </g>\n     </g>\n     <g id=\"text_4\">\n      <!-- 0.75 -->\n      <defs>\n       <path d=\"M 8.203125 72.90625 \nL 55.078125 72.90625 \nL 55.078125 68.703125 \nL 28.609375 0 \nL 18.3125 0 \nL 43.21875 64.59375 \nL 8.203125 64.59375 \nz\n\" id=\"DejaVuSans-55\"/>\n      </defs>\n      <g transform=\"translate(162.078594 247.718125)scale(0.12 -0.12)\">\n       <use xlink:href=\"#DejaVuSans-48\"/>\n       <use x=\"63.623047\" xlink:href=\"#DejaVuSans-46\"/>\n       <use x=\"95.410156\" xlink:href=\"#DejaVuSans-55\"/>\n       <use x=\"159.033203\" xlink:href=\"#DejaVuSans-53\"/>\n      </g>\n     </g>\n    </g>\n    <g id=\"xtick_5\">\n     <g id=\"line2d_5\">\n      <g>\n       <use style=\"stroke:#000000;stroke-width:0.8;\" x=\"220.960625\" xlink:href=\"#m7825da4672\" y=\"231.6\"/>\n      </g>\n     </g>\n     <g id=\"text_5\">\n      <!-- 1.00 -->\n      <defs>\n       <path d=\"M 12.40625 8.296875 \nL 28.515625 8.296875 \nL 28.515625 63.921875 \nL 10.984375 60.40625 \nL 10.984375 69.390625 \nL 28.421875 72.90625 \nL 38.28125 72.90625 \nL 38.28125 8.296875 \nL 54.390625 8.296875 \nL 54.390625 0 \nL 12.40625 0 \nz\n\" id=\"DejaVuSans-49\"/>\n      </defs>\n      <g transform=\"translate(207.60125 247.718125)scale(0.12 -0.12)\">\n       <use xlink:href=\"#DejaVuSans-49\"/>\n       <use x=\"63.623047\" xlink:href=\"#DejaVuSans-46\"/>\n       <use x=\"95.410156\" xlink:href=\"#DejaVuSans-48\"/>\n       <use x=\"159.033203\" xlink:href=\"#DejaVuSans-48\"/>\n      </g>\n     </g>\n    </g>\n    <g id=\"xtick_6\">\n     <g id=\"line2d_6\">\n      <g>\n       <use style=\"stroke:#000000;stroke-width:0.8;\" x=\"266.483281\" xlink:href=\"#m7825da4672\" y=\"231.6\"/>\n      </g>\n     </g>\n     <g id=\"text_6\">\n      <!-- 1.25 -->\n      <g transform=\"translate(253.123906 247.718125)scale(0.12 -0.12)\">\n       <use xlink:href=\"#DejaVuSans-49\"/>\n       <use x=\"63.623047\" xlink:href=\"#DejaVuSans-46\"/>\n       <use x=\"95.410156\" xlink:href=\"#DejaVuSans-50\"/>\n       <use x=\"159.033203\" xlink:href=\"#DejaVuSans-53\"/>\n      </g>\n     </g>\n    </g>\n    <g id=\"xtick_7\">\n     <g id=\"line2d_7\">\n      <g>\n       <use style=\"stroke:#000000;stroke-width:0.8;\" x=\"312.005937\" xlink:href=\"#m7825da4672\" y=\"231.6\"/>\n      </g>\n     </g>\n     <g id=\"text_7\">\n      <!-- 1.50 -->\n      <g transform=\"translate(298.646562 247.718125)scale(0.12 -0.12)\">\n       <use xlink:href=\"#DejaVuSans-49\"/>\n       <use x=\"63.623047\" xlink:href=\"#DejaVuSans-46\"/>\n       <use x=\"95.410156\" xlink:href=\"#DejaVuSans-53\"/>\n       <use x=\"159.033203\" xlink:href=\"#DejaVuSans-48\"/>\n      </g>\n     </g>\n    </g>\n    <g id=\"xtick_8\">\n     <g id=\"line2d_8\">\n      <g>\n       <use style=\"stroke:#000000;stroke-width:0.8;\" x=\"357.528594\" xlink:href=\"#m7825da4672\" y=\"231.6\"/>\n      </g>\n     </g>\n     <g id=\"text_8\">\n      <!-- 1.75 -->\n      <g transform=\"translate(344.169219 247.718125)scale(0.12 -0.12)\">\n       <use xlink:href=\"#DejaVuSans-49\"/>\n       <use x=\"63.623047\" xlink:href=\"#DejaVuSans-46\"/>\n       <use x=\"95.410156\" xlink:href=\"#DejaVuSans-55\"/>\n       <use x=\"159.033203\" xlink:href=\"#DejaVuSans-53\"/>\n      </g>\n     </g>\n    </g>\n    <g id=\"xtick_9\">\n     <g id=\"line2d_9\">\n      <g>\n       <use style=\"stroke:#000000;stroke-width:0.8;\" x=\"403.05125\" xlink:href=\"#m7825da4672\" y=\"231.6\"/>\n      </g>\n     </g>\n     <g id=\"text_9\">\n      <!-- 2.00 -->\n      <g transform=\"translate(389.691875 247.718125)scale(0.12 -0.12)\">\n       <use xlink:href=\"#DejaVuSans-50\"/>\n       <use x=\"63.623047\" xlink:href=\"#DejaVuSans-46\"/>\n       <use x=\"95.410156\" xlink:href=\"#DejaVuSans-48\"/>\n       <use x=\"159.033203\" xlink:href=\"#DejaVuSans-48\"/>\n      </g>\n     </g>\n    </g>\n    <g id=\"text_10\">\n     <!-- $x_1$ -->\n     <defs>\n      <path d=\"M 60.015625 54.6875 \nL 34.90625 27.875 \nL 50.296875 0 \nL 39.984375 0 \nL 28.421875 21.6875 \nL 8.296875 0 \nL -2.59375 0 \nL 24.3125 28.8125 \nL 10.015625 54.6875 \nL 20.3125 54.6875 \nL 30.8125 34.90625 \nL 49.125 54.6875 \nz\n\" id=\"DejaVuSans-Oblique-120\"/>\n     </defs>\n     <g transform=\"translate(211.330625 267.890937)scale(0.18 -0.18)\">\n      <use transform=\"translate(0 0.3125)\" xlink:href=\"#DejaVuSans-Oblique-120\"/>\n      <use transform=\"translate(59.179688 -16.09375)scale(0.7)\" xlink:href=\"#DejaVuSans-49\"/>\n     </g>\n    </g>\n   </g>\n   <g id=\"matplotlib.axis_2\">\n    <g id=\"ytick_1\">\n     <g id=\"line2d_10\">\n      <defs>\n       <path d=\"M 0 0 \nL -3.5 0 \n\" id=\"m168d9ff900\" style=\"stroke:#000000;stroke-width:0.8;\"/>\n      </defs>\n      <g>\n       <use style=\"stroke:#000000;stroke-width:0.8;\" x=\"38.87\" xlink:href=\"#m168d9ff900\" y=\"231.6\"/>\n      </g>\n     </g>\n     <g id=\"text_11\">\n      <!-- 0 -->\n      <g transform=\"translate(24.235 236.159062)scale(0.12 -0.12)\">\n       <use xlink:href=\"#DejaVuSans-48\"/>\n      </g>\n     </g>\n    </g>\n    <g id=\"ytick_2\">\n     <g id=\"line2d_11\">\n      <g>\n       <use style=\"stroke:#000000;stroke-width:0.8;\" x=\"38.87\" xlink:href=\"#m168d9ff900\" y=\"201.68\"/>\n      </g>\n     </g>\n     <g id=\"text_12\">\n      <!-- 2 -->\n      <g transform=\"translate(24.235 206.239062)scale(0.12 -0.12)\">\n       <use xlink:href=\"#DejaVuSans-50\"/>\n      </g>\n     </g>\n    </g>\n    <g id=\"ytick_3\">\n     <g id=\"line2d_12\">\n      <g>\n       <use style=\"stroke:#000000;stroke-width:0.8;\" x=\"38.87\" xlink:href=\"#m168d9ff900\" y=\"171.76\"/>\n      </g>\n     </g>\n     <g id=\"text_13\">\n      <!-- 4 -->\n      <defs>\n       <path d=\"M 37.796875 64.3125 \nL 12.890625 25.390625 \nL 37.796875 25.390625 \nz\nM 35.203125 72.90625 \nL 47.609375 72.90625 \nL 47.609375 25.390625 \nL 58.015625 25.390625 \nL 58.015625 17.1875 \nL 47.609375 17.1875 \nL 47.609375 0 \nL 37.796875 0 \nL 37.796875 17.1875 \nL 4.890625 17.1875 \nL 4.890625 26.703125 \nz\n\" id=\"DejaVuSans-52\"/>\n      </defs>\n      <g transform=\"translate(24.235 176.319062)scale(0.12 -0.12)\">\n       <use xlink:href=\"#DejaVuSans-52\"/>\n      </g>\n     </g>\n    </g>\n    <g id=\"ytick_4\">\n     <g id=\"line2d_13\">\n      <g>\n       <use style=\"stroke:#000000;stroke-width:0.8;\" x=\"38.87\" xlink:href=\"#m168d9ff900\" y=\"141.84\"/>\n      </g>\n     </g>\n     <g id=\"text_14\">\n      <!-- 6 -->\n      <defs>\n       <path d=\"M 33.015625 40.375 \nQ 26.375 40.375 22.484375 35.828125 \nQ 18.609375 31.296875 18.609375 23.390625 \nQ 18.609375 15.53125 22.484375 10.953125 \nQ 26.375 6.390625 33.015625 6.390625 \nQ 39.65625 6.390625 43.53125 10.953125 \nQ 47.40625 15.53125 47.40625 23.390625 \nQ 47.40625 31.296875 43.53125 35.828125 \nQ 39.65625 40.375 33.015625 40.375 \nz\nM 52.59375 71.296875 \nL 52.59375 62.3125 \nQ 48.875 64.0625 45.09375 64.984375 \nQ 41.3125 65.921875 37.59375 65.921875 \nQ 27.828125 65.921875 22.671875 59.328125 \nQ 17.53125 52.734375 16.796875 39.40625 \nQ 19.671875 43.65625 24.015625 45.921875 \nQ 28.375 48.1875 33.59375 48.1875 \nQ 44.578125 48.1875 50.953125 41.515625 \nQ 57.328125 34.859375 57.328125 23.390625 \nQ 57.328125 12.15625 50.6875 5.359375 \nQ 44.046875 -1.421875 33.015625 -1.421875 \nQ 20.359375 -1.421875 13.671875 8.265625 \nQ 6.984375 17.96875 6.984375 36.375 \nQ 6.984375 53.65625 15.1875 63.9375 \nQ 23.390625 74.21875 37.203125 74.21875 \nQ 40.921875 74.21875 44.703125 73.484375 \nQ 48.484375 72.75 52.59375 71.296875 \nz\n\" id=\"DejaVuSans-54\"/>\n      </defs>\n      <g transform=\"translate(24.235 146.399062)scale(0.12 -0.12)\">\n       <use xlink:href=\"#DejaVuSans-54\"/>\n      </g>\n     </g>\n    </g>\n    <g id=\"ytick_5\">\n     <g id=\"line2d_14\">\n      <g>\n       <use style=\"stroke:#000000;stroke-width:0.8;\" x=\"38.87\" xlink:href=\"#m168d9ff900\" y=\"111.92\"/>\n      </g>\n     </g>\n     <g id=\"text_15\">\n      <!-- 8 -->\n      <defs>\n       <path d=\"M 31.78125 34.625 \nQ 24.75 34.625 20.71875 30.859375 \nQ 16.703125 27.09375 16.703125 20.515625 \nQ 16.703125 13.921875 20.71875 10.15625 \nQ 24.75 6.390625 31.78125 6.390625 \nQ 38.8125 6.390625 42.859375 10.171875 \nQ 46.921875 13.96875 46.921875 20.515625 \nQ 46.921875 27.09375 42.890625 30.859375 \nQ 38.875 34.625 31.78125 34.625 \nz\nM 21.921875 38.8125 \nQ 15.578125 40.375 12.03125 44.71875 \nQ 8.5 49.078125 8.5 55.328125 \nQ 8.5 64.0625 14.71875 69.140625 \nQ 20.953125 74.21875 31.78125 74.21875 \nQ 42.671875 74.21875 48.875 69.140625 \nQ 55.078125 64.0625 55.078125 55.328125 \nQ 55.078125 49.078125 51.53125 44.71875 \nQ 48 40.375 41.703125 38.8125 \nQ 48.828125 37.15625 52.796875 32.3125 \nQ 56.78125 27.484375 56.78125 20.515625 \nQ 56.78125 9.90625 50.3125 4.234375 \nQ 43.84375 -1.421875 31.78125 -1.421875 \nQ 19.734375 -1.421875 13.25 4.234375 \nQ 6.78125 9.90625 6.78125 20.515625 \nQ 6.78125 27.484375 10.78125 32.3125 \nQ 14.796875 37.15625 21.921875 38.8125 \nz\nM 18.3125 54.390625 \nQ 18.3125 48.734375 21.84375 45.5625 \nQ 25.390625 42.390625 31.78125 42.390625 \nQ 38.140625 42.390625 41.71875 45.5625 \nQ 45.3125 48.734375 45.3125 54.390625 \nQ 45.3125 60.0625 41.71875 63.234375 \nQ 38.140625 66.40625 31.78125 66.40625 \nQ 25.390625 66.40625 21.84375 63.234375 \nQ 18.3125 60.0625 18.3125 54.390625 \nz\n\" id=\"DejaVuSans-56\"/>\n      </defs>\n      <g transform=\"translate(24.235 116.479062)scale(0.12 -0.12)\">\n       <use xlink:href=\"#DejaVuSans-56\"/>\n      </g>\n     </g>\n    </g>\n    <g id=\"ytick_6\">\n     <g id=\"line2d_15\">\n      <g>\n       <use style=\"stroke:#000000;stroke-width:0.8;\" x=\"38.87\" xlink:href=\"#m168d9ff900\" y=\"82\"/>\n      </g>\n     </g>\n     <g id=\"text_16\">\n      <!-- 10 -->\n      <g transform=\"translate(16.6 86.559062)scale(0.12 -0.12)\">\n       <use xlink:href=\"#DejaVuSans-49\"/>\n       <use x=\"63.623047\" xlink:href=\"#DejaVuSans-48\"/>\n      </g>\n     </g>\n    </g>\n    <g id=\"ytick_7\">\n     <g id=\"line2d_16\">\n      <g>\n       <use style=\"stroke:#000000;stroke-width:0.8;\" x=\"38.87\" xlink:href=\"#m168d9ff900\" y=\"52.08\"/>\n      </g>\n     </g>\n     <g id=\"text_17\">\n      <!-- 12 -->\n      <g transform=\"translate(16.6 56.639062)scale(0.12 -0.12)\">\n       <use xlink:href=\"#DejaVuSans-49\"/>\n       <use x=\"63.623047\" xlink:href=\"#DejaVuSans-50\"/>\n      </g>\n     </g>\n    </g>\n    <g id=\"ytick_8\">\n     <g id=\"line2d_17\">\n      <g>\n       <use style=\"stroke:#000000;stroke-width:0.8;\" x=\"38.87\" xlink:href=\"#m168d9ff900\" y=\"22.16\"/>\n      </g>\n     </g>\n     <g id=\"text_18\">\n      <!-- 14 -->\n      <g transform=\"translate(16.6 26.719062)scale(0.12 -0.12)\">\n       <use xlink:href=\"#DejaVuSans-49\"/>\n       <use x=\"63.623047\" xlink:href=\"#DejaVuSans-52\"/>\n      </g>\n     </g>\n    </g>\n    <g id=\"text_19\">\n     <!-- $y$ -->\n     <defs>\n      <path d=\"M 24.8125 -5.078125 \nQ 18.5625 -15.578125 14.625 -18.1875 \nQ 10.6875 -20.796875 4.59375 -20.796875 \nL -2.484375 -20.796875 \nL -0.984375 -13.28125 \nL 4.203125 -13.28125 \nQ 7.953125 -13.28125 10.59375 -11.234375 \nQ 13.234375 -9.1875 16.5 -3.21875 \nL 19.28125 2 \nL 7.171875 54.6875 \nL 16.703125 54.6875 \nL 25.78125 12.796875 \nL 50.875 54.6875 \nL 60.296875 54.6875 \nz\n\" id=\"DejaVuSans-Oblique-121\"/>\n     </defs>\n     <g transform=\"translate(7.2 115.62)scale(0.18 -0.18)\">\n      <use transform=\"translate(0 0.3125)\" xlink:href=\"#DejaVuSans-Oblique-121\"/>\n     </g>\n    </g>\n   </g>\n   <g id=\"line2d_18\">\n    <path clip-path=\"url(#p769ef9b135)\" d=\"M 38.87 224.169156 \nL 403.05125 228.306024 \n\" style=\"fill:none;stroke:#ff0000;stroke-dasharray:5.55,2.4;stroke-dashoffset:0;stroke-width:1.5;\"/>\n   </g>\n   <g id=\"line2d_19\">\n    <path clip-path=\"url(#p769ef9b135)\" d=\"M 38.87 213.906375 \nL 403.05125 209.885741 \n\" style=\"fill:none;stroke:#0000ff;stroke-linecap:square;stroke-width:1.5;\"/>\n   </g>\n   <g id=\"line2d_20\">\n    <path clip-path=\"url(#p769ef9b135)\" d=\"M 38.87 201.40562 \nL 403.05125 177.949948 \n\" style=\"fill:none;stroke:#0000ff;stroke-linecap:square;stroke-width:1.5;\"/>\n   </g>\n   <g id=\"line2d_21\">\n    <path clip-path=\"url(#p769ef9b135)\" d=\"M 38.87 187.050991 \nL 403.05125 128.463631 \n\" style=\"fill:none;stroke:#0000ff;stroke-linecap:square;stroke-width:1.5;\"/>\n   </g>\n   <g id=\"line2d_22\">\n    <path clip-path=\"url(#p769ef9b135)\" d=\"M 38.87 185.582301 \nL 403.05125 125.050995 \n\" style=\"fill:none;stroke:#0000ff;stroke-linecap:square;stroke-width:1.5;\"/>\n   </g>\n   <g id=\"line2d_23\">\n    <path clip-path=\"url(#p769ef9b135)\" d=\"M 38.87 175.863722 \nL 403.05125 86.969475 \n\" style=\"fill:none;stroke:#0000ff;stroke-linecap:square;stroke-width:1.5;\"/>\n   </g>\n   <g id=\"line2d_24\">\n    <path clip-path=\"url(#p769ef9b135)\" d=\"M 38.87 174.324984 \nL 403.05125 81.080064 \n\" style=\"fill:none;stroke:#0000ff;stroke-linecap:square;stroke-width:1.5;\"/>\n   </g>\n   <g id=\"line2d_25\">\n    <path clip-path=\"url(#p769ef9b135)\" d=\"M 38.87 173.63766 \nL 403.05125 78.449379 \n\" style=\"fill:none;stroke:#0000ff;stroke-linecap:square;stroke-width:1.5;\"/>\n   </g>\n   <g id=\"line2d_26\">\n    <path clip-path=\"url(#p769ef9b135)\" d=\"M 38.87 176.069342 \nL 403.05125 87.08241 \n\" style=\"fill:none;stroke:#0000ff;stroke-linecap:square;stroke-width:1.5;\"/>\n   </g>\n   <g id=\"line2d_27\">\n    <path clip-path=\"url(#p769ef9b135)\" d=\"M 38.87 173.178409 \nL 403.05125 82.94385 \n\" style=\"fill:none;stroke:#0000ff;stroke-linecap:square;stroke-width:1.5;\"/>\n   </g>\n   <g id=\"line2d_28\">\n    <path clip-path=\"url(#p769ef9b135)\" d=\"M 38.87 173.562286 \nL 403.05125 83.890278 \n\" style=\"fill:none;stroke:#0000ff;stroke-linecap:square;stroke-width:1.5;\"/>\n   </g>\n   <g id=\"line2d_29\">\n    <path clip-path=\"url(#p769ef9b135)\" d=\"M 38.87 173.02238 \nL 403.05125 81.76954 \n\" style=\"fill:none;stroke:#0000ff;stroke-linecap:square;stroke-width:1.5;\"/>\n   </g>\n   <g id=\"line2d_30\">\n    <path clip-path=\"url(#p769ef9b135)\" d=\"M 38.87 172.209343 \nL 403.05125 80.502849 \n\" style=\"fill:none;stroke:#0000ff;stroke-linecap:square;stroke-width:1.5;\"/>\n   </g>\n   <g id=\"line2d_31\">\n    <path clip-path=\"url(#p769ef9b135)\" d=\"M 38.87 172.191376 \nL 403.05125 80.41736 \n\" style=\"fill:none;stroke:#0000ff;stroke-linecap:square;stroke-width:1.5;\"/>\n   </g>\n   <g id=\"line2d_32\">\n    <path clip-path=\"url(#p769ef9b135)\" d=\"M 38.87 173.136856 \nL 403.05125 84.958368 \n\" style=\"fill:none;stroke:#0000ff;stroke-linecap:square;stroke-width:1.5;\"/>\n   </g>\n   <g id=\"line2d_33\">\n    <path clip-path=\"url(#p769ef9b135)\" d=\"M 38.87 174.68252 \nL 403.05125 90.445829 \n\" style=\"fill:none;stroke:#0000ff;stroke-linecap:square;stroke-width:1.5;\"/>\n   </g>\n   <g id=\"line2d_34\">\n    <path clip-path=\"url(#p769ef9b135)\" d=\"M 38.87 173.263492 \nL 403.05125 88.763144 \n\" style=\"fill:none;stroke:#0000ff;stroke-linecap:square;stroke-width:1.5;\"/>\n   </g>\n   <g id=\"line2d_35\">\n    <path clip-path=\"url(#p769ef9b135)\" d=\"M 38.87 167.374505 \nL 403.05125 80.573397 \n\" style=\"fill:none;stroke:#0000ff;stroke-linecap:square;stroke-width:1.5;\"/>\n   </g>\n   <g id=\"line2d_36\">\n    <path clip-path=\"url(#p769ef9b135)\" d=\"M 38.87 168.276831 \nL 403.05125 84.90714 \n\" style=\"fill:none;stroke:#0000ff;stroke-linecap:square;stroke-width:1.5;\"/>\n   </g>\n   <g id=\"line2d_37\">\n    <path clip-path=\"url(#p769ef9b135)\" d=\"M 38.87 171.161704 \nL 403.05125 91.908765 \n\" style=\"fill:none;stroke:#0000ff;stroke-linecap:square;stroke-width:1.5;\"/>\n   </g>\n   <g id=\"line2d_38\">\n    <defs>\n     <path d=\"M 0 1.5 \nC 0.397805 1.5 0.77937 1.341951 1.06066 1.06066 \nC 1.341951 0.77937 1.5 0.397805 1.5 0 \nC 1.5 -0.397805 1.341951 -0.77937 1.06066 -1.06066 \nC 0.77937 -1.341951 0.397805 -1.5 0 -1.5 \nC -0.397805 -1.5 -0.77937 -1.341951 -1.06066 -1.06066 \nC -1.341951 -0.77937 -1.5 -0.397805 -1.5 0 \nC -1.5 0.397805 -1.341951 0.77937 -1.06066 1.06066 \nC -0.77937 1.341951 -0.397805 1.5 0 1.5 \nz\n\" id=\"m8846918a2b\" style=\"stroke:#0000ff;\"/>\n    </defs>\n    <g clip-path=\"url(#p769ef9b135)\">\n     <use style=\"fill:#0000ff;stroke:#0000ff;\" x=\"175.270489\" xlink:href=\"#m8846918a2b\" y=\"136.839055\"/>\n     <use style=\"fill:#0000ff;stroke:#0000ff;\" x=\"385.102325\" xlink:href=\"#m8846918a2b\" y=\"90.897034\"/>\n     <use style=\"fill:#0000ff;stroke:#0000ff;\" x=\"305.448469\" xlink:href=\"#m8846918a2b\" y=\"104.683483\"/>\n     <use style=\"fill:#0000ff;stroke:#0000ff;\" x=\"256.890195\" xlink:href=\"#m8846918a2b\" y=\"147.758445\"/>\n     <use style=\"fill:#0000ff;stroke:#0000ff;\" x=\"95.689063\" xlink:href=\"#m8846918a2b\" y=\"161.042058\"/>\n     <use style=\"fill:#0000ff;stroke:#0000ff;\" x=\"95.680279\" xlink:href=\"#m8846918a2b\" y=\"152.415528\"/>\n     <use style=\"fill:#0000ff;stroke:#0000ff;\" x=\"60.022962\" xlink:href=\"#m8846918a2b\" y=\"144.43712\"/>\n     <use style=\"fill:#0000ff;stroke:#0000ff;\" x=\"354.315111\" xlink:href=\"#m8846918a2b\" y=\"101.765352\"/>\n     <use style=\"fill:#0000ff;stroke:#0000ff;\" x=\"257.784816\" xlink:href=\"#m8846918a2b\" y=\"129.898981\"/>\n     <use style=\"fill:#0000ff;stroke:#0000ff;\" x=\"296.736756\" xlink:href=\"#m8846918a2b\" y=\"115.709691\"/>\n     <use style=\"fill:#0000ff;stroke:#0000ff;\" x=\"46.366487\" xlink:href=\"#m8846918a2b\" y=\"156.21792\"/>\n     <use style=\"fill:#0000ff;stroke:#0000ff;\" x=\"392.092982\" xlink:href=\"#m8846918a2b\" y=\"79.782775\"/>\n     <use style=\"fill:#0000ff;stroke:#0000ff;\" x=\"342.030001\" xlink:href=\"#m8846918a2b\" y=\"104.965161\"/>\n     <use style=\"fill:#0000ff;stroke:#0000ff;\" x=\"116.199923\" xlink:href=\"#m8846918a2b\" y=\"145.021961\"/>\n     <use style=\"fill:#0000ff;stroke:#0000ff;\" x=\"105.087244\" xlink:href=\"#m8846918a2b\" y=\"153.987111\"/>\n     <use style=\"fill:#0000ff;stroke:#0000ff;\" x=\"105.662484\" xlink:href=\"#m8846918a2b\" y=\"140.806682\"/>\n     <use style=\"fill:#0000ff;stroke:#0000ff;\" x=\"149.66932\" xlink:href=\"#m8846918a2b\" y=\"154.953931\"/>\n     <use style=\"fill:#0000ff;stroke:#0000ff;\" x=\"229.976453\" xlink:href=\"#m8846918a2b\" y=\"129.559688\"/>\n     <use style=\"fill:#0000ff;stroke:#0000ff;\" x=\"196.176277\" xlink:href=\"#m8846918a2b\" y=\"138.854553\"/>\n     <use style=\"fill:#0000ff;stroke:#0000ff;\" x=\"144.930192\" xlink:href=\"#m8846918a2b\" y=\"167.513456\"/>\n     <use style=\"fill:#0000ff;stroke:#0000ff;\" x=\"261.695352\" xlink:href=\"#m8846918a2b\" y=\"112.410125\"/>\n     <use style=\"fill:#0000ff;stroke:#0000ff;\" x=\"89.671049\" xlink:href=\"#m8846918a2b\" y=\"155.333644\"/>\n     <use style=\"fill:#0000ff;stroke:#0000ff;\" x=\"145.263603\" xlink:href=\"#m8846918a2b\" y=\"145.460599\"/>\n     <use style=\"fill:#0000ff;stroke:#0000ff;\" x=\"172.292114\" xlink:href=\"#m8846918a2b\" y=\"142.384784\"/>\n     <use style=\"fill:#0000ff;stroke:#0000ff;\" x=\"204.962137\" xlink:href=\"#m8846918a2b\" y=\"151.997105\"/>\n     <use style=\"fill:#0000ff;stroke:#0000ff;\" x=\"324.816363\" xlink:href=\"#m8846918a2b\" y=\"107.57546\"/>\n     <use style=\"fill:#0000ff;stroke:#0000ff;\" x=\"111.587448\" xlink:href=\"#m8846918a2b\" y=\"158.96429\"/>\n     <use style=\"fill:#0000ff;stroke:#0000ff;\" x=\"226.144541\" xlink:href=\"#m8846918a2b\" y=\"137.604385\"/>\n     <use style=\"fill:#0000ff;stroke:#0000ff;\" x=\"254.616278\" xlink:href=\"#m8846918a2b\" y=\"120.997703\"/>\n     <use style=\"fill:#0000ff;stroke:#0000ff;\" x=\"55.786369\" xlink:href=\"#m8846918a2b\" y=\"161.54601\"/>\n     <use style=\"fill:#0000ff;stroke:#0000ff;\" x=\"260.126444\" xlink:href=\"#m8846918a2b\" y=\"89.009433\"/>\n     <use style=\"fill:#0000ff;stroke:#0000ff;\" x=\"100.971689\" xlink:href=\"#m8846918a2b\" y=\"153.842071\"/>\n     <use style=\"fill:#0000ff;stroke:#0000ff;\" x=\"62.56057\" xlink:href=\"#m8846918a2b\" y=\"162.068015\"/>\n     <use style=\"fill:#0000ff;stroke:#0000ff;\" x=\"384.436321\" xlink:href=\"#m8846918a2b\" y=\"87.701745\"/>\n     <use style=\"fill:#0000ff;stroke:#0000ff;\" x=\"390.535081\" xlink:href=\"#m8846918a2b\" y=\"113.789686\"/>\n     <use style=\"fill:#0000ff;stroke:#0000ff;\" x=\"333.273157\" xlink:href=\"#m8846918a2b\" y=\"99.594902\"/>\n     <use style=\"fill:#0000ff;stroke:#0000ff;\" x=\"149.804623\" xlink:href=\"#m8846918a2b\" y=\"143.516824\"/>\n     <use style=\"fill:#0000ff;stroke:#0000ff;\" x=\"74.440353\" xlink:href=\"#m8846918a2b\" y=\"126.142849\"/>\n     <use style=\"fill:#0000ff;stroke:#0000ff;\" x=\"288.054839\" xlink:href=\"#m8846918a2b\" y=\"113.220964\"/>\n     <use style=\"fill:#0000ff;stroke:#0000ff;\" x=\"199.165285\" xlink:href=\"#m8846918a2b\" y=\"127.740764\"/>\n     <use style=\"fill:#0000ff;stroke:#0000ff;\" x=\"83.314037\" xlink:href=\"#m8846918a2b\" y=\"161.325136\"/>\n     <use style=\"fill:#0000ff;stroke:#0000ff;\" x=\"219.204146\" xlink:href=\"#m8846918a2b\" y=\"144.796344\"/>\n     <use style=\"fill:#0000ff;stroke:#0000ff;\" x=\"51.393655\" xlink:href=\"#m8846918a2b\" y=\"151.576657\"/>\n     <use style=\"fill:#0000ff;stroke:#0000ff;\" x=\"370.027441\" xlink:href=\"#m8846918a2b\" y=\"78.890483\"/>\n     <use style=\"fill:#0000ff;stroke:#0000ff;\" x=\"133.112817\" xlink:href=\"#m8846918a2b\" y=\"136.698071\"/>\n     <use style=\"fill:#0000ff;stroke:#0000ff;\" x=\"280.148194\" xlink:href=\"#m8846918a2b\" y=\"125.896436\"/>\n     <use style=\"fill:#0000ff;stroke:#0000ff;\" x=\"152.389329\" xlink:href=\"#m8846918a2b\" y=\"122.795011\"/>\n     <use style=\"fill:#0000ff;stroke:#0000ff;\" x=\"228.269022\" xlink:href=\"#m8846918a2b\" y=\"146.050386\"/>\n     <use style=\"fill:#0000ff;stroke:#0000ff;\" x=\"237.971633\" xlink:href=\"#m8846918a2b\" y=\"113.907903\"/>\n     <use style=\"fill:#0000ff;stroke:#0000ff;\" x=\"106.190527\" xlink:href=\"#m8846918a2b\" y=\"122.398248\"/>\n     <use style=\"fill:#0000ff;stroke:#0000ff;\" x=\"391.974542\" xlink:href=\"#m8846918a2b\" y=\"99.548507\"/>\n     <use style=\"fill:#0000ff;stroke:#0000ff;\" x=\"321.158841\" xlink:href=\"#m8846918a2b\" y=\"110.655892\"/>\n     <use style=\"fill:#0000ff;stroke:#0000ff;\" x=\"381.017899\" xlink:href=\"#m8846918a2b\" y=\"85.939791\"/>\n     <use style=\"fill:#0000ff;stroke:#0000ff;\" x=\"364.749343\" xlink:href=\"#m8846918a2b\" y=\"98.972293\"/>\n     <use style=\"fill:#0000ff;stroke:#0000ff;\" x=\"256.613962\" xlink:href=\"#m8846918a2b\" y=\"141.290423\"/>\n     <use style=\"fill:#0000ff;stroke:#0000ff;\" x=\"374.599311\" xlink:href=\"#m8846918a2b\" y=\"87.986867\"/>\n     <use style=\"fill:#0000ff;stroke:#0000ff;\" x=\"71.09731\" xlink:href=\"#m8846918a2b\" y=\"179.708977\"/>\n     <use style=\"fill:#0000ff;stroke:#0000ff;\" x=\"110.243284\" xlink:href=\"#m8846918a2b\" y=\"147.083636\"/>\n     <use style=\"fill:#0000ff;stroke:#0000ff;\" x=\"55.340931\" xlink:href=\"#m8846918a2b\" y=\"181.454985\"/>\n     <use style=\"fill:#0000ff;stroke:#0000ff;\" x=\"157.349207\" xlink:href=\"#m8846918a2b\" y=\"119.371331\"/>\n     <use style=\"fill:#0000ff;stroke:#0000ff;\" x=\"180.418981\" xlink:href=\"#m8846918a2b\" y=\"148.589796\"/>\n     <use style=\"fill:#0000ff;stroke:#0000ff;\" x=\"137.69023\" xlink:href=\"#m8846918a2b\" y=\"152.221751\"/>\n     <use style=\"fill:#0000ff;stroke:#0000ff;\" x=\"340.680662\" xlink:href=\"#m8846918a2b\" y=\"85.202304\"/>\n     <use style=\"fill:#0000ff;stroke:#0000ff;\" x=\"168.792872\" xlink:href=\"#m8846918a2b\" y=\"158.151552\"/>\n     <use style=\"fill:#0000ff;stroke:#0000ff;\" x=\"141.181081\" xlink:href=\"#m8846918a2b\" y=\"143.140518\"/>\n     <use style=\"fill:#0000ff;stroke:#0000ff;\" x=\"236.509738\" xlink:href=\"#m8846918a2b\" y=\"103.492744\"/>\n     <use style=\"fill:#0000ff;stroke:#0000ff;\" x=\"90.19196\" xlink:href=\"#m8846918a2b\" y=\"183.158591\"/>\n     <use style=\"fill:#0000ff;stroke:#0000ff;\" x=\"331.015099\" xlink:href=\"#m8846918a2b\" y=\"96.992676\"/>\n     <use style=\"fill:#0000ff;stroke:#0000ff;\" x=\"66.019947\" xlink:href=\"#m8846918a2b\" y=\"161.180488\"/>\n     <use style=\"fill:#0000ff;stroke:#0000ff;\" x=\"398.275718\" xlink:href=\"#m8846918a2b\" y=\"71.480958\"/>\n     <use style=\"fill:#0000ff;stroke:#0000ff;\" x=\"320.107065\" xlink:href=\"#m8846918a2b\" y=\"120.948092\"/>\n     <use style=\"fill:#0000ff;stroke:#0000ff;\" x=\"111.238525\" xlink:href=\"#m8846918a2b\" y=\"173.677311\"/>\n     <use style=\"fill:#0000ff;stroke:#0000ff;\" x=\"40.881052\" xlink:href=\"#m8846918a2b\" y=\"163.456089\"/>\n     <use style=\"fill:#0000ff;stroke:#0000ff;\" x=\"335.845762\" xlink:href=\"#m8846918a2b\" y=\"94.121291\"/>\n     <use style=\"fill:#0000ff;stroke:#0000ff;\" x=\"296.294191\" xlink:href=\"#m8846918a2b\" y=\"104.565112\"/>\n     <use style=\"fill:#0000ff;stroke:#0000ff;\" x=\"304.360742\" xlink:href=\"#m8846918a2b\" y=\"101.141451\"/>\n     <use style=\"fill:#0000ff;stroke:#0000ff;\" x=\"319.752199\" xlink:href=\"#m8846918a2b\" y=\"112.703944\"/>\n     <use style=\"fill:#0000ff;stroke:#0000ff;\" x=\"65.835674\" xlink:href=\"#m8846918a2b\" y=\"161.639237\"/>\n     <use style=\"fill:#0000ff;stroke:#0000ff;\" x=\"169.416497\" xlink:href=\"#m8846918a2b\" y=\"135.199752\"/>\n     <use style=\"fill:#0000ff;stroke:#0000ff;\" x=\"81.067339\" xlink:href=\"#m8846918a2b\" y=\"172.04629\"/>\n     <use style=\"fill:#0000ff;stroke:#0000ff;\" x=\"353.196085\" xlink:href=\"#m8846918a2b\" y=\"66.37585\"/>\n     <use style=\"fill:#0000ff;stroke:#0000ff;\" x=\"265.863491\" xlink:href=\"#m8846918a2b\" y=\"108.72422\"/>\n     <use style=\"fill:#0000ff;stroke:#0000ff;\" x=\"159.376856\" xlink:href=\"#m8846918a2b\" y=\"159.880494\"/>\n     <use style=\"fill:#0000ff;stroke:#0000ff;\" x=\"62.016759\" xlink:href=\"#m8846918a2b\" y=\"156.23296\"/>\n     <use style=\"fill:#0000ff;stroke:#0000ff;\" x=\"152.123931\" xlink:href=\"#m8846918a2b\" y=\"158.427465\"/>\n     <use style=\"fill:#0000ff;stroke:#0000ff;\" x=\"157.295669\" xlink:href=\"#m8846918a2b\" y=\"130.796759\"/>\n     <use style=\"fill:#0000ff;stroke:#0000ff;\" x=\"304.57889\" xlink:href=\"#m8846918a2b\" y=\"88.93796\"/>\n     <use style=\"fill:#0000ff;stroke:#0000ff;\" x=\"271.056477\" xlink:href=\"#m8846918a2b\" y=\"126.810249\"/>\n     <use style=\"fill:#0000ff;stroke:#0000ff;\" x=\"361.976246\" xlink:href=\"#m8846918a2b\" y=\"77.711677\"/>\n     <use style=\"fill:#0000ff;stroke:#0000ff;\" x=\"210.841822\" xlink:href=\"#m8846918a2b\" y=\"123.198786\"/>\n     <use style=\"fill:#0000ff;stroke:#0000ff;\" x=\"82.423982\" xlink:href=\"#m8846918a2b\" y=\"148.7272\"/>\n     <use style=\"fill:#0000ff;stroke:#0000ff;\" x=\"298.620378\" xlink:href=\"#m8846918a2b\" y=\"79.363125\"/>\n     <use style=\"fill:#0000ff;stroke:#0000ff;\" x=\"315.93365\" xlink:href=\"#m8846918a2b\" y=\"107.14294\"/>\n     <use style=\"fill:#0000ff;stroke:#0000ff;\" x=\"243.276631\" xlink:href=\"#m8846918a2b\" y=\"132.655652\"/>\n     <use style=\"fill:#0000ff;stroke:#0000ff;\" x=\"319.641791\" xlink:href=\"#m8846918a2b\" y=\"115.865122\"/>\n     <use style=\"fill:#0000ff;stroke:#0000ff;\" x=\"218.701098\" xlink:href=\"#m8846918a2b\" y=\"139.641429\"/>\n     <use style=\"fill:#0000ff;stroke:#0000ff;\" x=\"229.239495\" xlink:href=\"#m8846918a2b\" y=\"125.992943\"/>\n     <use style=\"fill:#0000ff;stroke:#0000ff;\" x=\"194.572422\" xlink:href=\"#m8846918a2b\" y=\"128.280285\"/>\n     <use style=\"fill:#0000ff;stroke:#0000ff;\" x=\"48.127169\" xlink:href=\"#m8846918a2b\" y=\"165.339085\"/>\n     <use style=\"fill:#0000ff;stroke:#0000ff;\" x=\"78.162035\" xlink:href=\"#m8846918a2b\" y=\"149.701004\"/>\n    </g>\n   </g>\n   <g id=\"patch_3\">\n    <path d=\"M 38.87 231.6 \nL 38.87 7.2 \n\" style=\"fill:none;stroke:#000000;stroke-linecap:square;stroke-linejoin:miter;stroke-width:0.8;\"/>\n   </g>\n   <g id=\"patch_4\">\n    <path d=\"M 403.05125 231.6 \nL 403.05125 7.2 \n\" style=\"fill:none;stroke:#000000;stroke-linecap:square;stroke-linejoin:miter;stroke-width:0.8;\"/>\n   </g>\n   <g id=\"patch_5\">\n    <path d=\"M 38.87 231.6 \nL 403.05125 231.6 \n\" style=\"fill:none;stroke:#000000;stroke-linecap:square;stroke-linejoin:miter;stroke-width:0.8;\"/>\n   </g>\n   <g id=\"patch_6\">\n    <path d=\"M 38.87 7.2 \nL 403.05125 7.2 \n\" style=\"fill:none;stroke:#000000;stroke-linecap:square;stroke-linejoin:miter;stroke-width:0.8;\"/>\n   </g>\n  </g>\n </g>\n <defs>\n  <clipPath id=\"p769ef9b135\">\n   <rect height=\"224.4\" width=\"364.18125\" x=\"38.87\" y=\"7.2\"/>\n  </clipPath>\n </defs>\n</svg>\n",
      "image/png": "[encoded data removed]"
     },
     "metadata": {
      "needs_background": "light"
     }
    }
   ],
   "source": [
    "n_epochs = 50\n",
    "t0, t1 = 5, 50  # learning schedule hyperparameters\n",
    "\n",
    "def learning_schedule(t):\n",
    "    return t0 / (t + t1)\n",
    "\n",
    "theta = np.random.randn(2,1)  # random initialization\n",
    "\n",
    "for epoch in range(n_epochs):\n",
    "    for i in range(m):\n",
    "        if epoch == 0 and i < 20:                    # not shown in the book\n",
    "            y_predict = X_new_b.dot(theta)           # not shown\n",
    "            style = \"b-\" if i > 0 else \"r--\"         # not shown\n",
    "            plt.plot(X_new, y_predict, style)        # not shown\n",
    "        random_index = np.random.randint(m)\n",
    "        xi = X_b[random_index:random_index+1]\n",
    "        yi = y[random_index:random_index+1]\n",
    "        gradients = 2 * xi.T.dot(xi.dot(theta) - yi)\n",
    "        eta = learning_schedule(epoch * m + i)\n",
    "        theta = theta - eta * gradients\n",
    "        theta_path_sgd.append(theta)                 # not shown\n",
    "\n",
    "plt.plot(X, y, \"b.\")                                 # not shown\n",
    "plt.xlabel(\"$x_1$\", fontsize=18)                     # not shown\n",
    "plt.ylabel(\"$y$\", rotation=0, fontsize=18)           # not shown\n",
    "plt.axis([0, 2, 0, 15])                              # not shown\n",
    "save_fig(\"sgd_plot\")                                 # not shown\n",
    "plt.show()                                           # not shown"
   ]
  },
  {
   "cell_type": "code",
   "execution_count": 20,
   "metadata": {},
   "outputs": [
    {
     "output_type": "execute_result",
     "data": {
      "text/plain": "array([[4.21076011],\n       [2.74856079]])"
     },
     "metadata": {},
     "execution_count": 20
    }
   ],
   "source": [
    "theta"
   ]
  },
  {
   "cell_type": "code",
   "execution_count": 21,
   "metadata": {},
   "outputs": [
    {
     "output_type": "execute_result",
     "data": {
      "text/plain": "SGDRegressor(alpha=0.0001, average=False, early_stopping=False, epsilon=0.1,\n             eta0=0.1, fit_intercept=True, l1_ratio=0.15,\n             learning_rate='invscaling', loss='squared_loss', max_iter=1000,\n             n_iter_no_change=5, penalty=None, power_t=0.25, random_state=42,\n             shuffle=True, tol=0.001, validation_fraction=0.1, verbose=0,\n             warm_start=False)"
     },
     "metadata": {},
     "execution_count": 21
    }
   ],
   "source": [
    "from sklearn.linear_model import SGDRegressor\n",
    "\n",
    "sgd_reg = SGDRegressor(max_iter=1000, tol=1e-3, penalty=None, eta0=0.1, random_state=42)\n",
    "sgd_reg.fit(X, y.ravel())"
   ]
  },
  {
   "cell_type": "code",
   "execution_count": 22,
   "metadata": {},
   "outputs": [
    {
     "output_type": "execute_result",
     "data": {
      "text/plain": "(array([4.24365286]), array([2.8250878]))"
     },
     "metadata": {},
     "execution_count": 22
    }
   ],
   "source": [
    "sgd_reg.intercept_, sgd_reg.coef_"
   ]
  },
  {
   "cell_type": "markdown",
   "metadata": {},
   "source": [
    "# Mini-batch gradient descent"
   ]
  },
  {
   "cell_type": "code",
   "execution_count": 23,
   "metadata": {},
   "outputs": [],
   "source": [
    "theta_path_mgd = []\n",
    "\n",
    "n_iterations = 50\n",
    "minibatch_size = 20\n",
    "\n",
    "np.random.seed(42)\n",
    "theta = np.random.randn(2,1)  # random initialization\n",
    "\n",
    "t0, t1 = 200, 1000\n",
    "def learning_schedule(t):\n",
    "    return t0 / (t + t1)\n",
    "\n",
    "t = 0\n",
    "for epoch in range(n_iterations):\n",
    "    shuffled_indices = np.random.permutation(m)\n",
    "    X_b_shuffled = X_b[shuffled_indices]\n",
    "    y_shuffled = y[shuffled_indices]\n",
    "    for i in range(0, m, minibatch_size):\n",
    "        t += 1\n",
    "        xi = X_b_shuffled[i:i+minibatch_size]\n",
    "        yi = y_shuffled[i:i+minibatch_size]\n",
    "        gradients = 2/minibatch_size * xi.T.dot(xi.dot(theta) - yi)\n",
    "        eta = learning_schedule(t)\n",
    "        theta = theta - eta * gradients\n",
    "        theta_path_mgd.append(theta)"
   ]
  },
  {
   "cell_type": "code",
   "execution_count": 24,
   "metadata": {},
   "outputs": [
    {
     "output_type": "execute_result",
     "data": {
      "text/plain": "array([[4.25214635],\n       [2.7896408 ]])"
     },
     "metadata": {},
     "execution_count": 24
    }
   ],
   "source": [
    "theta"
   ]
  },
  {
   "cell_type": "code",
   "execution_count": 25,
   "metadata": {},
   "outputs": [],
   "source": [
    "theta_path_bgd = np.array(theta_path_bgd)\n",
    "theta_path_sgd = np.array(theta_path_sgd)\n",
    "theta_path_mgd = np.array(theta_path_mgd)"
   ]
  },
  {
   "cell_type": "code",
   "execution_count": 26,
   "metadata": {},
   "outputs": [],
   "source": [
    "plt.figure(figsize=(7,4))\n",
    "plt.plot(theta_path_sgd[:, 0], theta_path_sgd[:, 1], \"r-s\", linewidth=1, label=\"Stochastic\")\n",
    "plt.plot(theta_path_mgd[:, 0], theta_path_mgd[:, 1], \"g-+\", linewidth=2, label=\"Mini-batch\")\n",
    "plt.plot(theta_path_bgd[:, 0], theta_path_bgd[:, 1], \"b-o\", linewidth=3, label=\"Batch\")\n",
    "plt.legend(loc=\"upper left\", fontsize=16)\n",
    "plt.xlabel(r\"$\\theta_0$\", fontsize=20)\n",
    "plt.ylabel(r\"$\\theta_1$   \", fontsize=20, rotation=0)\n",
    "plt.axis([2.5, 4.5, 2.3, 3.9])\n",
    "save_fig(\"gradient_descent_paths_plot\")\n",
    "plt.show()"
   ]
  },
  {
   "cell_type": "markdown",
   "metadata": {},
   "source": [
    "# Polynomial regression"
   ]
  },
  {
   "cell_type": "code",
   "execution_count": null,
   "metadata": {},
   "outputs": [],
   "source": [
    "import numpy as np\n",
    "import numpy.random as rnd\n",
    "\n",
    "np.random.seed(42)"
   ]
  },
  {
   "cell_type": "code",
   "execution_count": null,
   "metadata": {},
   "outputs": [],
   "source": [
    "m = 100\n",
    "X = 6 * np.random.rand(m, 1) - 3\n",
    "y = 0.5 * X**2 + X + 2 + np.random.randn(m, 1)"
   ]
  },
  {
   "cell_type": "code",
   "execution_count": null,
   "metadata": {},
   "outputs": [],
   "source": [
    "plt.plot(X, y, \"b.\")\n",
    "plt.xlabel(\"$x_1$\", fontsize=18)\n",
    "plt.ylabel(\"$y$\", rotation=0, fontsize=18)\n",
    "plt.axis([-3, 3, 0, 10])\n",
    "save_fig(\"quadratic_data_plot\")\n",
    "plt.show()"
   ]
  },
  {
   "cell_type": "code",
   "execution_count": null,
   "metadata": {},
   "outputs": [],
   "source": [
    "from sklearn.preprocessing import PolynomialFeatures\n",
    "poly_features = PolynomialFeatures(degree=2, include_bias=False)\n",
    "X_poly = poly_features.fit_transform(X)\n",
    "X[0]"
   ]
  },
  {
   "cell_type": "code",
   "execution_count": null,
   "metadata": {},
   "outputs": [],
   "source": [
    "X_poly[0]"
   ]
  },
  {
   "cell_type": "code",
   "execution_count": null,
   "metadata": {},
   "outputs": [],
   "source": [
    "lin_reg = LinearRegression()\n",
    "lin_reg.fit(X_poly, y)\n",
    "lin_reg.intercept_, lin_reg.coef_"
   ]
  },
  {
   "cell_type": "code",
   "execution_count": null,
   "metadata": {},
   "outputs": [],
   "source": [
    "X_new=np.linspace(-3, 3, 100).reshape(100, 1)\n",
    "X_new_poly = poly_features.transform(X_new)\n",
    "y_new = lin_reg.predict(X_new_poly)\n",
    "plt.plot(X, y, \"b.\")\n",
    "plt.plot(X_new, y_new, \"r-\", linewidth=2, label=\"Predictions\")\n",
    "plt.xlabel(\"$x_1$\", fontsize=18)\n",
    "plt.ylabel(\"$y$\", rotation=0, fontsize=18)\n",
    "plt.legend(loc=\"upper left\", fontsize=14)\n",
    "plt.axis([-3, 3, 0, 10])\n",
    "save_fig(\"quadratic_predictions_plot\")\n",
    "plt.show()"
   ]
  },
  {
   "cell_type": "code",
   "execution_count": null,
   "metadata": {},
   "outputs": [],
   "source": [
    "from sklearn.preprocessing import StandardScaler\n",
    "from sklearn.pipeline import Pipeline\n",
    "\n",
    "for style, width, degree in ((\"g-\", 1, 300), (\"b--\", 2, 2), (\"r-+\", 2, 1)):\n",
    "    polybig_features = PolynomialFeatures(degree=degree, include_bias=False)\n",
    "    std_scaler = StandardScaler()\n",
    "    lin_reg = LinearRegression()\n",
    "    polynomial_regression = Pipeline([\n",
    "            (\"poly_features\", polybig_features),\n",
    "            (\"std_scaler\", std_scaler),\n",
    "            (\"lin_reg\", lin_reg),\n",
    "        ])\n",
    "    polynomial_regression.fit(X, y)\n",
    "    y_newbig = polynomial_regression.predict(X_new)\n",
    "    plt.plot(X_new, y_newbig, style, label=str(degree), linewidth=width)\n",
    "\n",
    "plt.plot(X, y, \"b.\", linewidth=3)\n",
    "plt.legend(loc=\"upper left\")\n",
    "plt.xlabel(\"$x_1$\", fontsize=18)\n",
    "plt.ylabel(\"$y$\", rotation=0, fontsize=18)\n",
    "plt.axis([-3, 3, 0, 10])\n",
    "save_fig(\"high_degree_polynomials_plot\")\n",
    "plt.show()"
   ]
  },
  {
   "cell_type": "code",
   "execution_count": null,
   "metadata": {},
   "outputs": [],
   "source": [
    "from sklearn.metrics import mean_squared_error\n",
    "from sklearn.model_selection import train_test_split\n",
    "\n",
    "def plot_learning_curves(model, X, y):\n",
    "    X_train, X_val, y_train, y_val = train_test_split(X, y, test_size=0.2, random_state=10)\n",
    "    train_errors, val_errors = [], []\n",
    "    for m in range(1, len(X_train)):\n",
    "        model.fit(X_train[:m], y_train[:m])\n",
    "        y_train_predict = model.predict(X_train[:m])\n",
    "        y_val_predict = model.predict(X_val)\n",
    "        train_errors.append(mean_squared_error(y_train[:m], y_train_predict))\n",
    "        val_errors.append(mean_squared_error(y_val, y_val_predict))\n",
    "\n",
    "    plt.plot(np.sqrt(train_errors), \"r-+\", linewidth=2, label=\"train\")\n",
    "    plt.plot(np.sqrt(val_errors), \"b-\", linewidth=3, label=\"val\")\n",
    "    plt.legend(loc=\"upper right\", fontsize=14)   # not shown in the book\n",
    "    plt.xlabel(\"Training set size\", fontsize=14) # not shown\n",
    "    plt.ylabel(\"RMSE\", fontsize=14)              # not shown"
   ]
  },
  {
   "cell_type": "code",
   "execution_count": null,
   "metadata": {},
   "outputs": [],
   "source": [
    "lin_reg = LinearRegression()\n",
    "plot_learning_curves(lin_reg, X, y)\n",
    "plt.axis([0, 80, 0, 3])                         # not shown in the book\n",
    "save_fig(\"underfitting_learning_curves_plot\")   # not shown\n",
    "plt.show()                                      # not shown"
   ]
  },
  {
   "cell_type": "code",
   "execution_count": null,
   "metadata": {},
   "outputs": [],
   "source": [
    "from sklearn.pipeline import Pipeline\n",
    "\n",
    "polynomial_regression = Pipeline([\n",
    "        (\"poly_features\", PolynomialFeatures(degree=10, include_bias=False)),\n",
    "        (\"lin_reg\", LinearRegression()),\n",
    "    ])\n",
    "\n",
    "plot_learning_curves(polynomial_regression, X, y)\n",
    "plt.axis([0, 80, 0, 3])           # not shown\n",
    "save_fig(\"learning_curves_plot\")  # not shown\n",
    "plt.show()                        # not shown"
   ]
  },
  {
   "cell_type": "markdown",
   "metadata": {},
   "source": [
    "# Regularized models"
   ]
  },
  {
   "cell_type": "code",
   "execution_count": null,
   "metadata": {},
   "outputs": [],
   "source": [
    "np.random.seed(42)\n",
    "m = 20\n",
    "X = 3 * np.random.rand(m, 1)\n",
    "y = 1 + 0.5 * X + np.random.randn(m, 1) / 1.5\n",
    "X_new = np.linspace(0, 3, 100).reshape(100, 1)"
   ]
  },
  {
   "cell_type": "code",
   "execution_count": null,
   "metadata": {},
   "outputs": [],
   "source": [
    "from sklearn.linear_model import Ridge\n",
    "ridge_reg = Ridge(alpha=1, solver=\"cholesky\", random_state=42)\n",
    "ridge_reg.fit(X, y)\n",
    "ridge_reg.predict([[1.5]])"
   ]
  },
  {
   "cell_type": "code",
   "execution_count": null,
   "metadata": {},
   "outputs": [],
   "source": [
    "ridge_reg = Ridge(alpha=1, solver=\"sag\", random_state=42)\n",
    "ridge_reg.fit(X, y)\n",
    "ridge_reg.predict([[1.5]])"
   ]
  },
  {
   "cell_type": "code",
   "execution_count": null,
   "metadata": {},
   "outputs": [],
   "source": [
    "from sklearn.linear_model import Ridge\n",
    "\n",
    "def plot_model(model_class, polynomial, alphas, **model_kargs):\n",
    "    for alpha, style in zip(alphas, (\"b-\", \"g--\", \"r:\")):\n",
    "        model = model_class(alpha, **model_kargs) if alpha > 0 else LinearRegression()\n",
    "        if polynomial:\n",
    "            model = Pipeline([\n",
    "                    (\"poly_features\", PolynomialFeatures(degree=10, include_bias=False)),\n",
    "                    (\"std_scaler\", StandardScaler()),\n",
    "                    (\"regul_reg\", model),\n",
    "                ])\n",
    "        model.fit(X, y)\n",
    "        y_new_regul = model.predict(X_new)\n",
    "        lw = 2 if alpha > 0 else 1\n",
    "        plt.plot(X_new, y_new_regul, style, linewidth=lw, label=r\"$\\alpha = {}$\".format(alpha))\n",
    "    plt.plot(X, y, \"b.\", linewidth=3)\n",
    "    plt.legend(loc=\"upper left\", fontsize=15)\n",
    "    plt.xlabel(\"$x_1$\", fontsize=18)\n",
    "    plt.axis([0, 3, 0, 4])\n",
    "\n",
    "plt.figure(figsize=(8,4))\n",
    "plt.subplot(121)\n",
    "plot_model(Ridge, polynomial=False, alphas=(0, 10, 100), random_state=42)\n",
    "plt.ylabel(\"$y$\", rotation=0, fontsize=18)\n",
    "plt.subplot(122)\n",
    "plot_model(Ridge, polynomial=True, alphas=(0, 10**-5, 1), random_state=42)\n",
    "\n",
    "save_fig(\"ridge_regression_plot\")\n",
    "plt.show()"
   ]
  },
  {
   "cell_type": "markdown",
   "metadata": {},
   "source": [
    "**Note**: to be future-proof, we set `max_iter=1000` and `tol=1e-3` because these will be the default values in Scikit-Learn 0.21."
   ]
  },
  {
   "cell_type": "code",
   "execution_count": null,
   "metadata": {},
   "outputs": [],
   "source": [
    "sgd_reg = SGDRegressor(penalty=\"l2\", max_iter=1000, tol=1e-3, random_state=42)\n",
    "sgd_reg.fit(X, y.ravel())\n",
    "sgd_reg.predict([[1.5]])"
   ]
  },
  {
   "cell_type": "code",
   "execution_count": null,
   "metadata": {},
   "outputs": [],
   "source": [
    "from sklearn.linear_model import Lasso\n",
    "\n",
    "plt.figure(figsize=(8,4))\n",
    "plt.subplot(121)\n",
    "plot_model(Lasso, polynomial=False, alphas=(0, 0.1, 1), random_state=42)\n",
    "plt.ylabel(\"$y$\", rotation=0, fontsize=18)\n",
    "plt.subplot(122)\n",
    "plot_model(Lasso, polynomial=True, alphas=(0, 10**-7, 1), random_state=42)\n",
    "\n",
    "save_fig(\"lasso_regression_plot\")\n",
    "plt.show()"
   ]
  },
  {
   "cell_type": "code",
   "execution_count": null,
   "metadata": {},
   "outputs": [],
   "source": [
    "from sklearn.linear_model import Lasso\n",
    "lasso_reg = Lasso(alpha=0.1)\n",
    "lasso_reg.fit(X, y)\n",
    "lasso_reg.predict([[1.5]])"
   ]
  },
  {
   "cell_type": "code",
   "execution_count": null,
   "metadata": {},
   "outputs": [],
   "source": [
    "from sklearn.linear_model import ElasticNet\n",
    "elastic_net = ElasticNet(alpha=0.1, l1_ratio=0.5, random_state=42)\n",
    "elastic_net.fit(X, y)\n",
    "elastic_net.predict([[1.5]])"
   ]
  },
  {
   "cell_type": "code",
   "execution_count": null,
   "metadata": {},
   "outputs": [],
   "source": [
    "np.random.seed(42)\n",
    "m = 100\n",
    "X = 6 * np.random.rand(m, 1) - 3\n",
    "y = 2 + X + 0.5 * X**2 + np.random.randn(m, 1)\n",
    "\n",
    "X_train, X_val, y_train, y_val = train_test_split(X[:50], y[:50].ravel(), test_size=0.5, random_state=10)"
   ]
  },
  {
   "cell_type": "markdown",
   "metadata": {},
   "source": [
    "Early stopping example:"
   ]
  },
  {
   "cell_type": "code",
   "execution_count": null,
   "metadata": {},
   "outputs": [],
   "source": [
    "from sklearn.base import clone\n",
    "\n",
    "poly_scaler = Pipeline([\n",
    "        (\"poly_features\", PolynomialFeatures(degree=90, include_bias=False)),\n",
    "        (\"std_scaler\", StandardScaler())\n",
    "    ])\n",
    "\n",
    "X_train_poly_scaled = poly_scaler.fit_transform(X_train)\n",
    "X_val_poly_scaled = poly_scaler.transform(X_val)\n",
    "\n",
    "sgd_reg = SGDRegressor(max_iter=1, tol=-np.infty, warm_start=True,\n",
    "                       penalty=None, learning_rate=\"constant\", eta0=0.0005, random_state=42)\n",
    "\n",
    "minimum_val_error = float(\"inf\")\n",
    "best_epoch = None\n",
    "best_model = None\n",
    "for epoch in range(1000):\n",
    "    sgd_reg.fit(X_train_poly_scaled, y_train)  # continues where it left off\n",
    "    y_val_predict = sgd_reg.predict(X_val_poly_scaled)\n",
    "    val_error = mean_squared_error(y_val, y_val_predict)\n",
    "    if val_error < minimum_val_error:\n",
    "        minimum_val_error = val_error\n",
    "        best_epoch = epoch\n",
    "        best_model = clone(sgd_reg)"
   ]
  },
  {
   "cell_type": "markdown",
   "metadata": {},
   "source": [
    "Create the graph:"
   ]
  },
  {
   "cell_type": "code",
   "execution_count": null,
   "metadata": {},
   "outputs": [],
   "source": [
    "sgd_reg = SGDRegressor(max_iter=1, tol=-np.infty, warm_start=True,\n",
    "                       penalty=None, learning_rate=\"constant\", eta0=0.0005, random_state=42)\n",
    "\n",
    "n_epochs = 500\n",
    "train_errors, val_errors = [], []\n",
    "for epoch in range(n_epochs):\n",
    "    sgd_reg.fit(X_train_poly_scaled, y_train)\n",
    "    y_train_predict = sgd_reg.predict(X_train_poly_scaled)\n",
    "    y_val_predict = sgd_reg.predict(X_val_poly_scaled)\n",
    "    train_errors.append(mean_squared_error(y_train, y_train_predict))\n",
    "    val_errors.append(mean_squared_error(y_val, y_val_predict))\n",
    "\n",
    "best_epoch = np.argmin(val_errors)\n",
    "best_val_rmse = np.sqrt(val_errors[best_epoch])\n",
    "\n",
    "plt.annotate('Best model',\n",
    "             xy=(best_epoch, best_val_rmse),\n",
    "             xytext=(best_epoch, best_val_rmse + 1),\n",
    "             ha=\"center\",\n",
    "             arrowprops=dict(facecolor='black', shrink=0.05),\n",
    "             fontsize=16,\n",
    "            )\n",
    "\n",
    "best_val_rmse -= 0.03  # just to make the graph look better\n",
    "plt.plot([0, n_epochs], [best_val_rmse, best_val_rmse], \"k:\", linewidth=2)\n",
    "plt.plot(np.sqrt(val_errors), \"b-\", linewidth=3, label=\"Validation set\")\n",
    "plt.plot(np.sqrt(train_errors), \"r--\", linewidth=2, label=\"Training set\")\n",
    "plt.legend(loc=\"upper right\", fontsize=14)\n",
    "plt.xlabel(\"Epoch\", fontsize=14)\n",
    "plt.ylabel(\"RMSE\", fontsize=14)\n",
    "save_fig(\"early_stopping_plot\")\n",
    "plt.show()"
   ]
  },
  {
   "cell_type": "code",
   "execution_count": null,
   "metadata": {},
   "outputs": [],
   "source": [
    "best_epoch, best_model"
   ]
  },
  {
   "cell_type": "code",
   "execution_count": null,
   "metadata": {},
   "outputs": [],
   "source": [
    "%matplotlib inline\n",
    "import matplotlib.pyplot as plt\n",
    "import numpy as np"
   ]
  },
  {
   "cell_type": "code",
   "execution_count": null,
   "metadata": {},
   "outputs": [],
   "source": [
    "t1a, t1b, t2a, t2b = -1, 3, -1.5, 1.5\n",
    "\n",
    "t1s = np.linspace(t1a, t1b, 500)\n",
    "t2s = np.linspace(t2a, t2b, 500)\n",
    "t1, t2 = np.meshgrid(t1s, t2s)\n",
    "T = np.c_[t1.ravel(), t2.ravel()]\n",
    "Xr = np.array([[1, 1], [1, -1], [1, 0.5]])\n",
    "yr = 2 * Xr[:, :1] + 0.5 * Xr[:, 1:]\n",
    "\n",
    "J = (1/len(Xr) * np.sum((T.dot(Xr.T) - yr.T)**2, axis=1)).reshape(t1.shape)\n",
    "\n",
    "N1 = np.linalg.norm(T, ord=1, axis=1).reshape(t1.shape)\n",
    "N2 = np.linalg.norm(T, ord=2, axis=1).reshape(t1.shape)\n",
    "\n",
    "t_min_idx = np.unravel_index(np.argmin(J), J.shape)\n",
    "t1_min, t2_min = t1[t_min_idx], t2[t_min_idx]\n",
    "\n",
    "t_init = np.array([[0.25], [-1]])"
   ]
  },
  {
   "cell_type": "code",
   "execution_count": null,
   "metadata": {},
   "outputs": [],
   "source": [
    "def bgd_path(theta, X, y, l1, l2, core = 1, eta = 0.05, n_iterations = 200):\n",
    "    path = [theta]\n",
    "    for iteration in range(n_iterations):\n",
    "        gradients = core * 2/len(X) * X.T.dot(X.dot(theta) - y) + l1 * np.sign(theta) + l2 * theta\n",
    "        theta = theta - eta * gradients\n",
    "        path.append(theta)\n",
    "    return np.array(path)\n",
    "\n",
    "fig, axes = plt.subplots(2, 2, sharex=True, sharey=True, figsize=(10.1, 8))\n",
    "for i, N, l1, l2, title in ((0, N1, 2., 0, \"Lasso\"), (1, N2, 0,  2., \"Ridge\")):\n",
    "    JR = J + l1 * N1 + l2 * 0.5 * N2**2\n",
    "    \n",
    "    tr_min_idx = np.unravel_index(np.argmin(JR), JR.shape)\n",
    "    t1r_min, t2r_min = t1[tr_min_idx], t2[tr_min_idx]\n",
    "\n",
    "    levelsJ=(np.exp(np.linspace(0, 1, 20)) - 1) * (np.max(J) - np.min(J)) + np.min(J)\n",
    "    levelsJR=(np.exp(np.linspace(0, 1, 20)) - 1) * (np.max(JR) - np.min(JR)) + np.min(JR)\n",
    "    levelsN=np.linspace(0, np.max(N), 10)\n",
    "    \n",
    "    path_J = bgd_path(t_init, Xr, yr, l1=0, l2=0)\n",
    "    path_JR = bgd_path(t_init, Xr, yr, l1, l2)\n",
    "    path_N = bgd_path(np.array([[2.0], [0.5]]), Xr, yr, np.sign(l1)/3, np.sign(l2), core=0)\n",
    "\n",
    "    ax = axes[i, 0]\n",
    "    ax.grid(True)\n",
    "    ax.axhline(y=0, color='k')\n",
    "    ax.axvline(x=0, color='k')\n",
    "    ax.contourf(t1, t2, N / 2., levels=levelsN)\n",
    "    ax.plot(path_N[:, 0], path_N[:, 1], \"y--\")\n",
    "    ax.plot(0, 0, \"ys\")\n",
    "    ax.plot(t1_min, t2_min, \"ys\")\n",
    "    ax.set_title(r\"$\\ell_{}$ penalty\".format(i + 1), fontsize=16)\n",
    "    ax.axis([t1a, t1b, t2a, t2b])\n",
    "    if i == 1:\n",
    "        ax.set_xlabel(r\"$\\theta_1$\", fontsize=16)\n",
    "    ax.set_ylabel(r\"$\\theta_2$\", fontsize=16, rotation=0)\n",
    "\n",
    "    ax = axes[i, 1]\n",
    "    ax.grid(True)\n",
    "    ax.axhline(y=0, color='k')\n",
    "    ax.axvline(x=0, color='k')\n",
    "    ax.contourf(t1, t2, JR, levels=levelsJR, alpha=0.9)\n",
    "    ax.plot(path_JR[:, 0], path_JR[:, 1], \"w-o\")\n",
    "    ax.plot(path_N[:, 0], path_N[:, 1], \"y--\")\n",
    "    ax.plot(0, 0, \"ys\")\n",
    "    ax.plot(t1_min, t2_min, \"ys\")\n",
    "    ax.plot(t1r_min, t2r_min, \"rs\")\n",
    "    ax.set_title(title, fontsize=16)\n",
    "    ax.axis([t1a, t1b, t2a, t2b])\n",
    "    if i == 1:\n",
    "        ax.set_xlabel(r\"$\\theta_1$\", fontsize=16)\n",
    "\n",
    "save_fig(\"lasso_vs_ridge_plot\")\n",
    "plt.show()"
   ]
  },
  {
   "cell_type": "markdown",
   "metadata": {},
   "source": [
    "# Logistic regression"
   ]
  },
  {
   "cell_type": "code",
   "execution_count": 53,
   "metadata": {},
   "outputs": [],
   "source": [
    "t = np.linspace(-10, 10, 100)\n",
    "sig = 1 / (1 + np.exp(-t))\n",
    "plt.figure(figsize=(9, 3))\n",
    "plt.plot([-10, 10], [0, 0], \"k-\")\n",
    "plt.plot([-10, 10], [0.5, 0.5], \"k:\")\n",
    "plt.plot([-10, 10], [1, 1], \"k:\")\n",
    "plt.plot([0, 0], [-1.1, 1.1], \"k-\")\n",
    "plt.plot(t, sig, \"b-\", linewidth=2, label=r\"$\\sigma(t) = \\frac{1}{1 + e^{-t}}$\")\n",
    "plt.xlabel(\"t\")\n",
    "plt.legend(loc=\"upper left\", fontsize=20)\n",
    "plt.axis([-10, 10, -0.1, 1.1])\n",
    "save_fig(\"logistic_function_plot\")\n",
    "plt.show()"
   ]
  },
  {
   "cell_type": "code",
   "execution_count": 54,
   "metadata": {},
   "outputs": [],
   "source": [
    "from sklearn import datasets\n",
    "iris = datasets.load_iris()\n",
    "list(iris.keys())"
   ]
  },
  {
   "cell_type": "code",
   "execution_count": 55,
   "metadata": {},
   "outputs": [],
   "source": [
    "print(iris.DESCR)"
   ]
  },
  {
   "cell_type": "code",
   "execution_count": 56,
   "metadata": {},
   "outputs": [],
   "source": [
    "X = iris[\"data\"][:, 3:]  # petal width\n",
    "y = (iris[\"target\"] == 2).astype(np.int)  # 1 if Iris virginica, else 0"
   ]
  },
  {
   "cell_type": "markdown",
   "metadata": {},
   "source": [
    "**Note**: To be future-proof we set `solver=\"lbfgs\"` since this will be the default value in Scikit-Learn 0.22."
   ]
  },
  {
   "cell_type": "code",
   "execution_count": 57,
   "metadata": {},
   "outputs": [],
   "source": [
    "from sklearn.linear_model import LogisticRegression\n",
    "log_reg = LogisticRegression(solver=\"lbfgs\", random_state=42)\n",
    "log_reg.fit(X, y)"
   ]
  },
  {
   "cell_type": "code",
   "execution_count": 58,
   "metadata": {},
   "outputs": [],
   "source": [
    "X_new = np.linspace(0, 3, 1000).reshape(-1, 1)\n",
    "y_proba = log_reg.predict_proba(X_new)\n",
    "\n",
    "plt.plot(X_new, y_proba[:, 1], \"g-\", linewidth=2, label=\"Iris virginica\")\n",
    "plt.plot(X_new, y_proba[:, 0], \"b--\", linewidth=2, label=\"Not Iris virginica\")"
   ]
  },
  {
   "cell_type": "markdown",
   "metadata": {},
   "source": [
    "The figure in the book actually is actually a bit fancier:"
   ]
  },
  {
   "cell_type": "code",
   "execution_count": 59,
   "metadata": {},
   "outputs": [],
   "source": [
    "X_new = np.linspace(0, 3, 1000).reshape(-1, 1)\n",
    "y_proba = log_reg.predict_proba(X_new)\n",
    "decision_boundary = X_new[y_proba[:, 1] >= 0.5][0]\n",
    "\n",
    "plt.figure(figsize=(8, 3))\n",
    "plt.plot(X[y==0], y[y==0], \"bs\")\n",
    "plt.plot(X[y==1], y[y==1], \"g^\")\n",
    "plt.plot([decision_boundary, decision_boundary], [-1, 2], \"k:\", linewidth=2)\n",
    "plt.plot(X_new, y_proba[:, 1], \"g-\", linewidth=2, label=\"Iris virginica\")\n",
    "plt.plot(X_new, y_proba[:, 0], \"b--\", linewidth=2, label=\"Not Iris virginica\")\n",
    "plt.text(decision_boundary+0.02, 0.15, \"Decision  boundary\", fontsize=14, color=\"k\", ha=\"center\")\n",
    "plt.arrow(decision_boundary, 0.08, -0.3, 0, head_width=0.05, head_length=0.1, fc='b', ec='b')\n",
    "plt.arrow(decision_boundary, 0.92, 0.3, 0, head_width=0.05, head_length=0.1, fc='g', ec='g')\n",
    "plt.xlabel(\"Petal width (cm)\", fontsize=14)\n",
    "plt.ylabel(\"Probability\", fontsize=14)\n",
    "plt.legend(loc=\"center left\", fontsize=14)\n",
    "plt.axis([0, 3, -0.02, 1.02])\n",
    "save_fig(\"logistic_regression_plot\")\n",
    "plt.show()"
   ]
  },
  {
   "cell_type": "code",
   "execution_count": 60,
   "metadata": {},
   "outputs": [],
   "source": [
    "decision_boundary"
   ]
  },
  {
   "cell_type": "code",
   "execution_count": 61,
   "metadata": {},
   "outputs": [],
   "source": [
    "log_reg.predict([[1.7], [1.5]])"
   ]
  },
  {
   "cell_type": "code",
   "execution_count": 62,
   "metadata": {},
   "outputs": [],
   "source": [
    "from sklearn.linear_model import LogisticRegression\n",
    "\n",
    "X = iris[\"data\"][:, (2, 3)]  # petal length, petal width\n",
    "y = (iris[\"target\"] == 2).astype(np.int)\n",
    "\n",
    "log_reg = LogisticRegression(solver=\"lbfgs\", C=10**10, random_state=42)\n",
    "log_reg.fit(X, y)\n",
    "\n",
    "x0, x1 = np.meshgrid(\n",
    "        np.linspace(2.9, 7, 500).reshape(-1, 1),\n",
    "        np.linspace(0.8, 2.7, 200).reshape(-1, 1),\n",
    "    )\n",
    "X_new = np.c_[x0.ravel(), x1.ravel()]\n",
    "\n",
    "y_proba = log_reg.predict_proba(X_new)\n",
    "\n",
    "plt.figure(figsize=(10, 4))\n",
    "plt.plot(X[y==0, 0], X[y==0, 1], \"bs\")\n",
    "plt.plot(X[y==1, 0], X[y==1, 1], \"g^\")\n",
    "\n",
    "zz = y_proba[:, 1].reshape(x0.shape)\n",
    "contour = plt.contour(x0, x1, zz, cmap=plt.cm.brg)\n",
    "\n",
    "\n",
    "left_right = np.array([2.9, 7])\n",
    "boundary = -(log_reg.coef_[0][0] * left_right + log_reg.intercept_[0]) / log_reg.coef_[0][1]\n",
    "\n",
    "plt.clabel(contour, inline=1, fontsize=12)\n",
    "plt.plot(left_right, boundary, \"k--\", linewidth=3)\n",
    "plt.text(3.5, 1.5, \"Not Iris virginica\", fontsize=14, color=\"b\", ha=\"center\")\n",
    "plt.text(6.5, 2.3, \"Iris virginica\", fontsize=14, color=\"g\", ha=\"center\")\n",
    "plt.xlabel(\"Petal length\", fontsize=14)\n",
    "plt.ylabel(\"Petal width\", fontsize=14)\n",
    "plt.axis([2.9, 7, 0.8, 2.7])\n",
    "save_fig(\"logistic_regression_contour_plot\")\n",
    "plt.show()"
   ]
  },
  {
   "cell_type": "code",
   "execution_count": 63,
   "metadata": {},
   "outputs": [],
   "source": [
    "X = iris[\"data\"][:, (2, 3)]  # petal length, petal width\n",
    "y = iris[\"target\"]\n",
    "\n",
    "softmax_reg = LogisticRegression(multi_class=\"multinomial\",solver=\"lbfgs\", C=10, random_state=42)\n",
    "softmax_reg.fit(X, y)"
   ]
  },
  {
   "cell_type": "code",
   "execution_count": 64,
   "metadata": {},
   "outputs": [],
   "source": [
    "x0, x1 = np.meshgrid(\n",
    "        np.linspace(0, 8, 500).reshape(-1, 1),\n",
    "        np.linspace(0, 3.5, 200).reshape(-1, 1),\n",
    "    )\n",
    "X_new = np.c_[x0.ravel(), x1.ravel()]\n",
    "\n",
    "\n",
    "y_proba = softmax_reg.predict_proba(X_new)\n",
    "y_predict = softmax_reg.predict(X_new)\n",
    "\n",
    "zz1 = y_proba[:, 1].reshape(x0.shape)\n",
    "zz = y_predict.reshape(x0.shape)\n",
    "\n",
    "plt.figure(figsize=(10, 4))\n",
    "plt.plot(X[y==2, 0], X[y==2, 1], \"g^\", label=\"Iris virginica\")\n",
    "plt.plot(X[y==1, 0], X[y==1, 1], \"bs\", label=\"Iris versicolor\")\n",
    "plt.plot(X[y==0, 0], X[y==0, 1], \"yo\", label=\"Iris setosa\")\n",
    "\n",
    "from matplotlib.colors import ListedColormap\n",
    "custom_cmap = ListedColormap(['#fafab0','#9898ff','#a0faa0'])\n",
    "\n",
    "plt.contourf(x0, x1, zz, cmap=custom_cmap)\n",
    "contour = plt.contour(x0, x1, zz1, cmap=plt.cm.brg)\n",
    "plt.clabel(contour, inline=1, fontsize=12)\n",
    "plt.xlabel(\"Petal length\", fontsize=14)\n",
    "plt.ylabel(\"Petal width\", fontsize=14)\n",
    "plt.legend(loc=\"center left\", fontsize=14)\n",
    "plt.axis([0, 7, 0, 3.5])\n",
    "save_fig(\"softmax_regression_contour_plot\")\n",
    "plt.show()"
   ]
  },
  {
   "cell_type": "code",
   "execution_count": 65,
   "metadata": {},
   "outputs": [],
   "source": [
    "softmax_reg.predict([[5, 2]])"
   ]
  },
  {
   "cell_type": "code",
   "execution_count": 66,
   "metadata": {},
   "outputs": [],
   "source": [
    "softmax_reg.predict_proba([[5, 2]])"
   ]
  },
  {
   "cell_type": "markdown",
   "metadata": {},
   "source": [
    "# Exercise solutions"
   ]
  },
  {
   "cell_type": "markdown",
   "metadata": {},
   "source": [
    "## 1. to 11."
   ]
  },
  {
   "cell_type": "markdown",
   "metadata": {},
   "source": [
    "See appendix A."
   ]
  },
  {
   "cell_type": "markdown",
   "metadata": {},
   "source": [
    "## 12. Batch Gradient Descent with early stopping for Softmax Regression\n",
    "(without using Scikit-Learn)"
   ]
  },
  {
   "cell_type": "markdown",
   "metadata": {},
   "source": [
    "Let's start by loading the data. We will just reuse the Iris dataset we loaded earlier."
   ]
  },
  {
   "cell_type": "code",
   "execution_count": 67,
   "metadata": {},
   "outputs": [],
   "source": [
    "X = iris[\"data\"][:, (2, 3)]  # petal length, petal width\n",
    "y = iris[\"target\"]"
   ]
  },
  {
   "cell_type": "markdown",
   "metadata": {},
   "source": [
    "We need to add the bias term for every instance ($x_0 = 1$):"
   ]
  },
  {
   "cell_type": "code",
   "execution_count": 68,
   "metadata": {},
   "outputs": [],
   "source": [
    "X_with_bias = np.c_[np.ones([len(X), 1]), X]"
   ]
  },
  {
   "cell_type": "markdown",
   "metadata": {},
   "source": [
    "And let's set the random seed so the output of this exercise solution is reproducible:"
   ]
  },
  {
   "cell_type": "code",
   "execution_count": 69,
   "metadata": {},
   "outputs": [],
   "source": [
    "np.random.seed(2042)"
   ]
  },
  {
   "cell_type": "markdown",
   "metadata": {},
   "source": [
    "The easiest option to split the dataset into a training set, a validation set and a test set would be to use Scikit-Learn's `train_test_split()` function, but the point of this exercise is to try understand the algorithms by implementing them manually. So here is one possible implementation:"
   ]
  },
  {
   "cell_type": "code",
   "execution_count": 70,
   "metadata": {},
   "outputs": [],
   "source": [
    "test_ratio = 0.2\n",
    "validation_ratio = 0.2\n",
    "total_size = len(X_with_bias)\n",
    "\n",
    "test_size = int(total_size * test_ratio)\n",
    "validation_size = int(total_size * validation_ratio)\n",
    "train_size = total_size - test_size - validation_size\n",
    "\n",
    "rnd_indices = np.random.permutation(total_size)\n",
    "\n",
    "X_train = X_with_bias[rnd_indices[:train_size]]\n",
    "y_train = y[rnd_indices[:train_size]]\n",
    "X_valid = X_with_bias[rnd_indices[train_size:-test_size]]\n",
    "y_valid = y[rnd_indices[train_size:-test_size]]\n",
    "X_test = X_with_bias[rnd_indices[-test_size:]]\n",
    "y_test = y[rnd_indices[-test_size:]]"
   ]
  },
  {
   "cell_type": "markdown",
   "metadata": {},
   "source": [
    "The targets are currently class indices (0, 1 or 2), but we need target class probabilities to train the Softmax Regression model. Each instance will have target class probabilities equal to 0.0 for all classes except for the target class which will have a probability of 1.0 (in other words, the vector of class probabilities for ay given instance is a one-hot vector). Let's write a small function to convert the vector of class indices into a matrix containing a one-hot vector for each instance:"
   ]
  },
  {
   "cell_type": "code",
   "execution_count": 71,
   "metadata": {},
   "outputs": [],
   "source": [
    "def to_one_hot(y):\n",
    "    n_classes = y.max() + 1\n",
    "    m = len(y)\n",
    "    Y_one_hot = np.zeros((m, n_classes))\n",
    "    Y_one_hot[np.arange(m), y] = 1\n",
    "    return Y_one_hot"
   ]
  },
  {
   "cell_type": "markdown",
   "metadata": {},
   "source": [
    "Let's test this function on the first 10 instances:"
   ]
  },
  {
   "cell_type": "code",
   "execution_count": 72,
   "metadata": {},
   "outputs": [],
   "source": [
    "y_train[:10]"
   ]
  },
  {
   "cell_type": "code",
   "execution_count": 73,
   "metadata": {},
   "outputs": [],
   "source": [
    "to_one_hot(y_train[:10])"
   ]
  },
  {
   "cell_type": "markdown",
   "metadata": {},
   "source": [
    "Looks good, so let's create the target class probabilities matrix for the training set and the test set:"
   ]
  },
  {
   "cell_type": "code",
   "execution_count": 74,
   "metadata": {},
   "outputs": [],
   "source": [
    "Y_train_one_hot = to_one_hot(y_train)\n",
    "Y_valid_one_hot = to_one_hot(y_valid)\n",
    "Y_test_one_hot = to_one_hot(y_test)"
   ]
  },
  {
   "cell_type": "markdown",
   "metadata": {},
   "source": [
    "Now let's implement the Softmax function. Recall that it is defined by the following equation:\n",
    "\n",
    "$\\sigma\\left(\\mathbf{s}(\\mathbf{x})\\right)_k = \\dfrac{\\exp\\left(s_k(\\mathbf{x})\\right)}{\\sum\\limits_{j=1}^{K}{\\exp\\left(s_j(\\mathbf{x})\\right)}}$"
   ]
  },
  {
   "cell_type": "code",
   "execution_count": 75,
   "metadata": {},
   "outputs": [],
   "source": [
    "def softmax(logits):\n",
    "    exps = np.exp(logits)\n",
    "    exp_sums = np.sum(exps, axis=1, keepdims=True)\n",
    "    return exps / exp_sums"
   ]
  },
  {
   "cell_type": "markdown",
   "metadata": {},
   "source": [
    "We are almost ready to start training. Let's define the number of inputs and outputs:"
   ]
  },
  {
   "cell_type": "code",
   "execution_count": 76,
   "metadata": {},
   "outputs": [],
   "source": [
    "n_inputs = X_train.shape[1] # == 3 (2 features plus the bias term)\n",
    "n_outputs = len(np.unique(y_train))   # == 3 (3 iris classes)"
   ]
  },
  {
   "cell_type": "markdown",
   "metadata": {},
   "source": [
    "Now here comes the hardest part: training! Theoretically, it's simple: it's just a matter of translating the math equations into Python code. But in practice, it can be quite tricky: in particular, it's easy to mix up the order of the terms, or the indices. You can even end up with code that looks like it's working but is actually not computing exactly the right thing. When unsure, you should write down the shape of each term in the equation and make sure the corresponding terms in your code match closely. It can also help to evaluate each term independently and print them out. The good news it that you won't have to do this everyday, since all this is well implemented by Scikit-Learn, but it will help you understand what's going on under the hood.\n",
    "\n",
    "So the equations we will need are the cost function:\n",
    "\n",
    "$J(\\mathbf{\\Theta}) =\n",
    "- \\dfrac{1}{m}\\sum\\limits_{i=1}^{m}\\sum\\limits_{k=1}^{K}{y_k^{(i)}\\log\\left(\\hat{p}_k^{(i)}\\right)}$\n",
    "\n",
    "And the equation for the gradients:\n",
    "\n",
    "$\\nabla_{\\mathbf{\\theta}^{(k)}} \\, J(\\mathbf{\\Theta}) = \\dfrac{1}{m} \\sum\\limits_{i=1}^{m}{ \\left ( \\hat{p}^{(i)}_k - y_k^{(i)} \\right ) \\mathbf{x}^{(i)}}$\n",
    "\n",
    "Note that $\\log\\left(\\hat{p}_k^{(i)}\\right)$ may not be computable if $\\hat{p}_k^{(i)} = 0$. So we will add a tiny value $\\epsilon$ to $\\log\\left(\\hat{p}_k^{(i)}\\right)$ to avoid getting `nan` values."
   ]
  },
  {
   "cell_type": "code",
   "execution_count": 77,
   "metadata": {},
   "outputs": [],
   "source": [
    "eta = 0.01\n",
    "n_iterations = 5001\n",
    "m = len(X_train)\n",
    "epsilon = 1e-7\n",
    "\n",
    "Theta = np.random.randn(n_inputs, n_outputs)\n",
    "\n",
    "for iteration in range(n_iterations):\n",
    "    logits = X_train.dot(Theta)\n",
    "    Y_proba = softmax(logits)\n",
    "    loss = -np.mean(np.sum(Y_train_one_hot * np.log(Y_proba + epsilon), axis=1))\n",
    "    error = Y_proba - Y_train_one_hot\n",
    "    if iteration % 500 == 0:\n",
    "        print(iteration, loss)\n",
    "    gradients = 1/m * X_train.T.dot(error)\n",
    "    Theta = Theta - eta * gradients"
   ]
  },
  {
   "cell_type": "markdown",
   "metadata": {},
   "source": [
    "And that's it! The Softmax model is trained. Let's look at the model parameters:"
   ]
  },
  {
   "cell_type": "code",
   "execution_count": 78,
   "metadata": {},
   "outputs": [],
   "source": [
    "Theta"
   ]
  },
  {
   "cell_type": "markdown",
   "metadata": {},
   "source": [
    "Let's make predictions for the validation set and check the accuracy score:"
   ]
  },
  {
   "cell_type": "code",
   "execution_count": 79,
   "metadata": {},
   "outputs": [],
   "source": [
    "logits = X_valid.dot(Theta)\n",
    "Y_proba = softmax(logits)\n",
    "y_predict = np.argmax(Y_proba, axis=1)\n",
    "\n",
    "accuracy_score = np.mean(y_predict == y_valid)\n",
    "accuracy_score"
   ]
  },
  {
   "cell_type": "markdown",
   "metadata": {},
   "source": [
    "Well, this model looks pretty good. For the sake of the exercise, let's add a bit of $\\ell_2$ regularization. The following training code is similar to the one above, but the loss now has an additional $\\ell_2$ penalty, and the gradients have the proper additional term (note that we don't regularize the first element of `Theta` since this corresponds to the bias term). Also, let's try increasing the learning rate `eta`."
   ]
  },
  {
   "cell_type": "code",
   "execution_count": 80,
   "metadata": {},
   "outputs": [],
   "source": [
    "eta = 0.1\n",
    "n_iterations = 5001\n",
    "m = len(X_train)\n",
    "epsilon = 1e-7\n",
    "alpha = 0.1  # regularization hyperparameter\n",
    "\n",
    "Theta = np.random.randn(n_inputs, n_outputs)\n",
    "\n",
    "for iteration in range(n_iterations):\n",
    "    logits = X_train.dot(Theta)\n",
    "    Y_proba = softmax(logits)\n",
    "    xentropy_loss = -np.mean(np.sum(Y_train_one_hot * np.log(Y_proba + epsilon), axis=1))\n",
    "    l2_loss = 1/2 * np.sum(np.square(Theta[1:]))\n",
    "    loss = xentropy_loss + alpha * l2_loss\n",
    "    error = Y_proba - Y_train_one_hot\n",
    "    if iteration % 500 == 0:\n",
    "        print(iteration, loss)\n",
    "    gradients = 1/m * X_train.T.dot(error) + np.r_[np.zeros([1, n_outputs]), alpha * Theta[1:]]\n",
    "    Theta = Theta - eta * gradients"
   ]
  },
  {
   "cell_type": "markdown",
   "metadata": {},
   "source": [
    "Because of the additional $\\ell_2$ penalty, the loss seems greater than earlier, but perhaps this model will perform better? Let's find out:"
   ]
  },
  {
   "cell_type": "code",
   "execution_count": 81,
   "metadata": {},
   "outputs": [],
   "source": [
    "logits = X_valid.dot(Theta)\n",
    "Y_proba = softmax(logits)\n",
    "y_predict = np.argmax(Y_proba, axis=1)\n",
    "\n",
    "accuracy_score = np.mean(y_predict == y_valid)\n",
    "accuracy_score"
   ]
  },
  {
   "cell_type": "markdown",
   "metadata": {},
   "source": [
    "Cool, perfect accuracy! We probably just got lucky with this validation set, but still, it's pleasant."
   ]
  },
  {
   "cell_type": "markdown",
   "metadata": {},
   "source": [
    "Now let's add early stopping. For this we just need to measure the loss on the validation set at every iteration and stop when the error starts growing."
   ]
  },
  {
   "cell_type": "code",
   "execution_count": 82,
   "metadata": {},
   "outputs": [],
   "source": [
    "eta = 0.1 \n",
    "n_iterations = 5001\n",
    "m = len(X_train)\n",
    "epsilon = 1e-7\n",
    "alpha = 0.1  # regularization hyperparameter\n",
    "best_loss = np.infty\n",
    "\n",
    "Theta = np.random.randn(n_inputs, n_outputs)\n",
    "\n",
    "for iteration in range(n_iterations):\n",
    "    logits = X_train.dot(Theta)\n",
    "    Y_proba = softmax(logits)\n",
    "    xentropy_loss = -np.mean(np.sum(Y_train_one_hot * np.log(Y_proba + epsilon), axis=1))\n",
    "    l2_loss = 1/2 * np.sum(np.square(Theta[1:]))\n",
    "    loss = xentropy_loss + alpha * l2_loss\n",
    "    error = Y_proba - Y_train_one_hot\n",
    "    gradients = 1/m * X_train.T.dot(error) + np.r_[np.zeros([1, n_outputs]), alpha * Theta[1:]]\n",
    "    Theta = Theta - eta * gradients\n",
    "\n",
    "    logits = X_valid.dot(Theta)\n",
    "    Y_proba = softmax(logits)\n",
    "    xentropy_loss = -np.mean(np.sum(Y_valid_one_hot * np.log(Y_proba + epsilon), axis=1))\n",
    "    l2_loss = 1/2 * np.sum(np.square(Theta[1:]))\n",
    "    loss = xentropy_loss + alpha * l2_loss\n",
    "    if iteration % 500 == 0:\n",
    "        print(iteration, loss)\n",
    "    if loss < best_loss:\n",
    "        best_loss = loss\n",
    "    else:\n",
    "        print(iteration - 1, best_loss)\n",
    "        print(iteration, loss, \"early stopping!\")\n",
    "        break"
   ]
  },
  {
   "cell_type": "code",
   "execution_count": 83,
   "metadata": {},
   "outputs": [],
   "source": [
    "logits = X_valid.dot(Theta)\n",
    "Y_proba = softmax(logits)\n",
    "y_predict = np.argmax(Y_proba, axis=1)\n",
    "\n",
    "accuracy_score = np.mean(y_predict == y_valid)\n",
    "accuracy_score"
   ]
  },
  {
   "cell_type": "markdown",
   "metadata": {},
   "source": [
    "Still perfect, but faster."
   ]
  },
  {
   "cell_type": "markdown",
   "metadata": {},
   "source": [
    "Now let's plot the model's predictions on the whole dataset:"
   ]
  },
  {
   "cell_type": "code",
   "execution_count": 84,
   "metadata": {},
   "outputs": [],
   "source": [
    "x0, x1 = np.meshgrid(\n",
    "        np.linspace(0, 8, 500).reshape(-1, 1),\n",
    "        np.linspace(0, 3.5, 200).reshape(-1, 1),\n",
    "    )\n",
    "X_new = np.c_[x0.ravel(), x1.ravel()]\n",
    "X_new_with_bias = np.c_[np.ones([len(X_new), 1]), X_new]\n",
    "\n",
    "logits = X_new_with_bias.dot(Theta)\n",
    "Y_proba = softmax(logits)\n",
    "y_predict = np.argmax(Y_proba, axis=1)\n",
    "\n",
    "zz1 = Y_proba[:, 1].reshape(x0.shape)\n",
    "zz = y_predict.reshape(x0.shape)\n",
    "\n",
    "plt.figure(figsize=(10, 4))\n",
    "plt.plot(X[y==2, 0], X[y==2, 1], \"g^\", label=\"Iris virginica\")\n",
    "plt.plot(X[y==1, 0], X[y==1, 1], \"bs\", label=\"Iris versicolor\")\n",
    "plt.plot(X[y==0, 0], X[y==0, 1], \"yo\", label=\"Iris setosa\")\n",
    "\n",
    "from matplotlib.colors import ListedColormap\n",
    "custom_cmap = ListedColormap(['#fafab0','#9898ff','#a0faa0'])\n",
    "\n",
    "plt.contourf(x0, x1, zz, cmap=custom_cmap)\n",
    "contour = plt.contour(x0, x1, zz1, cmap=plt.cm.brg)\n",
    "plt.clabel(contour, inline=1, fontsize=12)\n",
    "plt.xlabel(\"Petal length\", fontsize=14)\n",
    "plt.ylabel(\"Petal width\", fontsize=14)\n",
    "plt.legend(loc=\"upper left\", fontsize=14)\n",
    "plt.axis([0, 7, 0, 3.5])\n",
    "plt.show()"
   ]
  },
  {
   "cell_type": "markdown",
   "metadata": {},
   "source": [
    "And now let's measure the final model's accuracy on the test set:"
   ]
  },
  {
   "cell_type": "code",
   "execution_count": 85,
   "metadata": {},
   "outputs": [],
   "source": [
    "logits = X_test.dot(Theta)\n",
    "Y_proba = softmax(logits)\n",
    "y_predict = np.argmax(Y_proba, axis=1)\n",
    "\n",
    "accuracy_score = np.mean(y_predict == y_test)\n",
    "accuracy_score"
   ]
  },
  {
   "cell_type": "markdown",
   "metadata": {},
   "source": [
    "Our perfect model turns out to have slight imperfections. This variability is likely due to the very small size of the dataset: depending on how you sample the training set, validation set and the test set, you can get quite different results. Try changing the random seed and running the code again a few times, you will see that the results will vary."
   ]
  },
  {
   "cell_type": "code",
   "execution_count": null,
   "metadata": {},
   "outputs": [],
   "source": []
  }
 ],
 "metadata": {
  "kernelspec": {
   "display_name": "Python 3.7.6 64-bit ('tf2': conda)",
   "language": "python",
   "name": "python37664bittf2condaeb19e2e4e5fa4f8e802459d1754a7d15"
  },
  "language_info": {
   "codemirror_mode": {
    "name": "ipython",
    "version": 3
   },
   "file_extension": ".py",
   "mimetype": "text/x-python",
   "name": "python",
   "nbconvert_exporter": "python",
   "pygments_lexer": "ipython3",
   "version": "3.7.6-final"
  },
  "nav_menu": {},
  "toc": {
   "navigate_menu": true,
   "number_sections": true,
   "sideBar": true,
   "threshold": 6,
   "toc_cell": false,
   "toc_section_display": "block",
   "toc_window_display": false
  }
 },
 "nbformat": 4,
 "nbformat_minor": 1
}